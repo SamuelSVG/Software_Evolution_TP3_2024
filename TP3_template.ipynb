{
 "cells": [
  {
   "cell_type": "code",
   "execution_count": 16,
   "id": "ef9cc5cb-3ce4-4e59-abd5-75785e4eb067",
   "metadata": {},
   "outputs": [],
   "source": [
    "import pandas as pd\n",
    "from pandas import option_context\n",
    "import numpy as np\n",
    "import requests\n",
    "import seaborn as sns\n",
    "import datetime\n",
    "import cliffsDelta as cd\n",
    "\n",
    "from tqdm import tqdm\n",
    "from statsmodels.stats.inter_rater import fleiss_kappa,aggregate_raters\n",
    "from scipy.stats import mannwhitneyu,shapiro,ttest_ind"
   ]
  },
  {
   "cell_type": "code",
   "execution_count": 17,
   "id": "67f34e37-48e6-4033-b30f-5ba256427f26",
   "metadata": {},
   "outputs": [],
   "source": [
    "QUERY_ROOT = \"https://api.github.com\"\n",
    "#TOKEN = #write your GitHub API key here\n",
    "HEADERS={'Authorization':'token '+TOKEN}"
   ]
  },
  {
   "cell_type": "markdown",
   "id": "8095c72b-abe2-46b8-9034-1d9c7d98d3ad",
   "metadata": {},
   "source": [
    "## Section 3"
   ]
  },
  {
   "cell_type": "markdown",
   "id": "01c6e0c3-b012-4f00-a033-ddf3b74747c7",
   "metadata": {},
   "source": [
    "### Question 1"
   ]
  },
  {
   "cell_type": "markdown",
   "id": "2a3cc77d-eedd-4b5a-a560-b17a5a2b4cc4",
   "metadata": {},
   "source": [
    "#### Write an automated Python script to identify the GitHub Apps in the list of accounts, by calling the GitHub Users API and extracting the required information to make this decision. \n",
    "\n",
    "#### More information: You can search for the \"type\" key in the obtianed JSON result, If it is \"Bot\", then it is an app, if it is \"User\", then it is an account."
   ]
  },
  {
   "cell_type": "code",
   "execution_count": 18,
   "id": "2d0275f0-5c13-42ea-9025-5ea307d6398d",
   "metadata": {},
   "outputs": [
    {
     "name": "stdout",
     "output_type": "stream",
     "text": [
      "                contributor bothunter\n",
      "0                 timsutton     Human\n",
      "1           semgrep-ci[bot]       Bot\n",
      "2                  mhmdanas     Human\n",
      "3                     gdams     Human\n",
      "4                      dnhn     Human\n",
      "5                     dopey     Human\n",
      "6             robsonpeixoto     Human\n",
      "7                    jeroen     Human\n",
      "8              reitermarkus     Human\n",
      "9               pOmelchenko     Human\n",
      "10                   miccal     Human\n",
      "11      circleci-deploy-bot       Bot\n",
      "12                    cho-m     Human\n",
      "13                      afh     Human\n",
      "14                moonfruit     Human\n",
      "15             nicklockwood     Human\n",
      "16                   kashif     Human\n",
      "17             kubeshop-bot       Bot\n",
      "18          404NetworkError     Human\n",
      "19                   bojand     Human\n",
      "20                 flow-bot       Bot\n",
      "21            nandahkrishna     Human\n",
      "22              FtZPetruska     Human\n",
      "23                 bayandin     Human\n",
      "24                   youtux     Human\n",
      "25                  bepsvpt     Human\n",
      "26           crunchtime-ali     Human\n",
      "27             queengooborg     Human\n",
      "28            cloudpossebot       Bot\n",
      "29             Loyalsoldier     Human\n",
      "30                  alerque     Human\n",
      "31                 Amar1729     Human\n",
      "32  github-merge-queue[bot]       Bot\n",
      "33                MindTooth     Human\n",
      "34                  manphiz     Human\n",
      "35                    athas     Human\n",
      "36                 kozlovic     Human\n",
      "37               nodenv-bot       Bot\n",
      "38          git-machete-bot       Bot\n",
      "39      github-actions[bot]       Bot\n"
     ]
    }
   ],
   "source": [
    "# 1. Read the given .csv file into a pandas DataFrame (df).\n",
    "# 2. Make sure there are 2 columns, one column name is \"contributor\" that has the name of the contributor, \n",
    "#    and another column name is \"bothunter\" that you will use later on in this assignment.\n",
    "# 3. Display the DataFrame.\n",
    "\n",
    "# YOUR CODE BELOW\n",
    "df = pd.read_csv('homebrew_homebrew-core_2/homebrew_homebrew-core_2.csv')\n",
    "df.columns = ['contributor', 'bothunter']\n",
    "print(df)\n"
   ]
  },
  {
   "cell_type": "code",
   "execution_count": 19,
   "id": "f9312364-57d3-4f26-a216-82a22eea8349",
   "metadata": {},
   "outputs": [
    {
     "name": "stdout",
     "output_type": "stream",
     "text": [
      "['timsutton', 'semgrep-ci[bot]', 'mhmdanas', 'gdams', 'dnhn', 'dopey', 'robsonpeixoto', 'jeroen', 'reitermarkus', 'pOmelchenko', 'miccal', 'circleci-deploy-bot', 'cho-m', 'afh', 'moonfruit', 'nicklockwood', 'kashif', 'kubeshop-bot', '404NetworkError', 'bojand', 'flow-bot', 'nandahkrishna', 'FtZPetruska', 'bayandin', 'youtux', 'bepsvpt', 'crunchtime-ali', 'queengooborg', 'cloudpossebot', 'Loyalsoldier', 'alerque', 'Amar1729', 'github-merge-queue[bot]', 'MindTooth', 'manphiz', 'athas', 'kozlovic', 'nodenv-bot', 'git-machete-bot', 'github-actions[bot]']\n"
     ]
    }
   ],
   "source": [
    "# 1. Store the names of the contributors in a list using the code snippet: 'df.contributor.to_list()'\n",
    "# 2. print the list\n",
    "\n",
    "# YOUR CODE BELOW\n",
    "names = df.contributor.to_list()\n",
    "print(names)"
   ]
  },
  {
   "cell_type": "code",
   "execution_count": 20,
   "id": "2cd6ab44-f113-466a-863c-862674798f4c",
   "metadata": {},
   "outputs": [
    {
     "name": "stdout",
     "output_type": "stream",
     "text": [
      "                contributor    app\n",
      "0                 timsutton  False\n",
      "1           semgrep-ci[bot]   True\n",
      "2                  mhmdanas  False\n",
      "3                     gdams  False\n",
      "4                      dnhn  False\n",
      "5                     dopey  False\n",
      "6             robsonpeixoto  False\n",
      "7                    jeroen  False\n",
      "8              reitermarkus  False\n",
      "9               pOmelchenko  False\n",
      "10                   miccal  False\n",
      "11      circleci-deploy-bot  False\n",
      "12                    cho-m  False\n",
      "13                      afh  False\n",
      "14                moonfruit  False\n",
      "15             nicklockwood  False\n",
      "16                   kashif  False\n",
      "17             kubeshop-bot  False\n",
      "18          404NetworkError  False\n",
      "19                   bojand  False\n",
      "20                 flow-bot  False\n",
      "21            nandahkrishna  False\n",
      "22              FtZPetruska  False\n",
      "23                 bayandin  False\n",
      "24                   youtux  False\n",
      "25                  bepsvpt  False\n",
      "26           crunchtime-ali  False\n",
      "27             queengooborg  False\n",
      "28            cloudpossebot  False\n",
      "29             Loyalsoldier  False\n",
      "30                  alerque  False\n",
      "31                 Amar1729  False\n",
      "32  github-merge-queue[bot]   True\n",
      "33                MindTooth  False\n",
      "34                  manphiz  False\n",
      "35                    athas  False\n",
      "36                 kozlovic  False\n",
      "37               nodenv-bot  False\n",
      "38          git-machete-bot  False\n",
      "39      github-actions[bot]   True\n"
     ]
    }
   ],
   "source": [
    "# 1. Using a for loop, iterate over each contributor in the list and query the GitHub Users API.\n",
    "#    You can use \"query = f'{QUERY_ROOT}/users/{contributor}'\", where QUERY_ROOT is defined at the beginning of this notebook \n",
    "#    above and 'contributor' is each individul contributor from the list\n",
    "# 2. Get the response using 'response = requests.get(query, headers=HEADERS)'.\n",
    "# 3. convert the response to JSON using 'json_response = response.json()'.\n",
    "# 4. Iterate over this JSON response and get the value of the 'type' key. If it is \"Bot\" then the contributor is an App, \n",
    "#    if \"User\" then the contributor is an account. You should boolean values to indicate if the contributor is an App (True) or User/Organisation (False)\n",
    "# 5. Save these results in list of dictionary of the form [{'contributor': <contributor name>, 'app': <boolean value>}, {...}, {...}, {...}].\n",
    "#    Lets call this list as \"app_list_dict\"\n",
    "# 6. Finally convert this list of dictionary to DataFrame by writing 'pd.DataFrame.from_dict(app_dict)'\n",
    "# 7. Display the DataFrame. This should have two columns - contributor and app\n",
    "\n",
    "# YOUR CODE BELOW\n",
    "app_list_dict = []\n",
    "for contributor in names:\n",
    "    query = f'{QUERY_ROOT}/users/{contributor}'\n",
    "    response = requests.get(query, headers=HEADERS)\n",
    "    json_response = response.json()\n",
    "    dictionary = { \"contributor\" : contributor , \"app\" : (json_response[\"type\"] == \"Bot\")}\n",
    "    app_list_dict.append(dictionary)\n",
    "df_app = pd.DataFrame.from_dict(app_list_dict)\n",
    "print(df_app)"
   ]
  },
  {
   "cell_type": "markdown",
   "id": "bf7a784f-8b41-488b-8034-7f66ed9b6d97",
   "metadata": {},
   "source": [
    "### Question 2\n",
    "\n",
    "#### Add an app column in the CSV file to store this information. You can write True if it is an app and False if it is not.\n"
   ]
  },
  {
   "cell_type": "code",
   "execution_count": 21,
   "id": "242398c5-d3ae-472f-99e8-ac86be7897c2",
   "metadata": {},
   "outputs": [
    {
     "name": "stdout",
     "output_type": "stream",
     "text": [
      "                contributor bothunter    app\n",
      "0                 timsutton     Human  False\n",
      "1           semgrep-ci[bot]       Bot   True\n",
      "2                  mhmdanas     Human  False\n",
      "3                     gdams     Human  False\n",
      "4                      dnhn     Human  False\n",
      "5                     dopey     Human  False\n",
      "6             robsonpeixoto     Human  False\n",
      "7                    jeroen     Human  False\n",
      "8              reitermarkus     Human  False\n",
      "9               pOmelchenko     Human  False\n",
      "10                   miccal     Human  False\n",
      "11      circleci-deploy-bot       Bot  False\n",
      "12                    cho-m     Human  False\n",
      "13                      afh     Human  False\n",
      "14                moonfruit     Human  False\n",
      "15             nicklockwood     Human  False\n",
      "16                   kashif     Human  False\n",
      "17             kubeshop-bot       Bot  False\n",
      "18          404NetworkError     Human  False\n",
      "19                   bojand     Human  False\n",
      "20                 flow-bot       Bot  False\n",
      "21            nandahkrishna     Human  False\n",
      "22              FtZPetruska     Human  False\n",
      "23                 bayandin     Human  False\n",
      "24                   youtux     Human  False\n",
      "25                  bepsvpt     Human  False\n",
      "26           crunchtime-ali     Human  False\n",
      "27             queengooborg     Human  False\n",
      "28            cloudpossebot       Bot  False\n",
      "29             Loyalsoldier     Human  False\n",
      "30                  alerque     Human  False\n",
      "31                 Amar1729     Human  False\n",
      "32  github-merge-queue[bot]       Bot   True\n",
      "33                MindTooth     Human  False\n",
      "34                  manphiz     Human  False\n",
      "35                    athas     Human  False\n",
      "36                 kozlovic     Human  False\n",
      "37               nodenv-bot       Bot  False\n",
      "38          git-machete-bot       Bot  False\n",
      "39      github-actions[bot]       Bot   True\n"
     ]
    }
   ],
   "source": [
    "# Merge the app DataFrame to df by writing 'pd.merge(df, <app df>, on='contributor'). This is similar to SQL join on primary key 'contributor'.\n",
    "# The resultant df should have 3 columns - contributor, bothunter and app.\n",
    "\n",
    "# YOUR CODE BELOW\n",
    "df = pd.merge(df, df_app, on='contributor')\n",
    "print(df)"
   ]
  },
  {
   "cell_type": "markdown",
   "id": "db9ba7d8-7a6f-4485-8e7b-bc5a00646021",
   "metadata": {},
   "source": [
    "### Question 3\n",
    "\n",
    "#### Report on the total number of GitHub Apps, and User accounts present in the list of accounts of your dataset."
   ]
  },
  {
   "cell_type": "code",
   "execution_count": 22,
   "id": "3092d616-2426-417a-95be-7f54f1124eff",
   "metadata": {},
   "outputs": [],
   "source": [
    "# GitHub Apps = 9\n",
    "# GitHub Users = 31"
   ]
  },
  {
   "cell_type": "markdown",
   "id": "406e178f-2b41-4758-b075-e2eea47f3991",
   "metadata": {},
   "source": [
    "## Section 4"
   ]
  },
  {
   "cell_type": "markdown",
   "id": "a05bb032-1b55-402e-8074-42f2210f3a16",
   "metadata": {},
   "source": [
    "### Question 1"
   ]
  },
  {
   "cell_type": "markdown",
   "id": "48285de2-8b3a-481a-bf93-b99295ba8a4a",
   "metadata": {},
   "source": [
    "#### Write an automated script to report on the prediction of the GitHub accounts in your dataset, using BoDeGHa and RABBIT bot identification tools. For each tool, your script should add an extra column to the CSV ﬁle of your dataset, reporting the prediction (bot, human, unknown) of the considered tool on the considered account."
   ]
  },
  {
   "cell_type": "markdown",
   "id": "35d19172-9890-4706-93a1-663c8b2d28bd",
   "metadata": {},
   "source": [
    "#### More information:\n",
    "You can write an automated script to execute BoDeGHa and RABBIT, and save the results in a DataFrame. For BoDeGHa, you can ask the tool to give the output in CSV format, save it as a csv file and read it in a DataFrame. For RABBIT, you can use its internal argument to store the results in a .csv file and read it in a DataFrame. Remember to read their Documentation (Readme.md) for their input arguments and example outputs before using these tools.  \n",
    "Similar to what you did in Section 2 - Question 1 and 2, add an additional column named 'bodegha' to store the predictions \n",
    "given by BoDeGHa and add another column called 'rabbit' to store the preditions given by RABBIT. "
   ]
  },
  {
   "cell_type": "code",
   "execution_count": 23,
   "id": "ee4006c3-796d-4a7a-9b97-ec5007cc0680",
   "metadata": {},
   "outputs": [
    {
     "name": "stdout",
     "output_type": "stream",
     "text": [
      "            contributor bodegha\n",
      "0           FtZPetruska     Bot\n",
      "1         cloudpossebot     Bot\n",
      "2        crunchtime-ali     Bot\n",
      "3              flow-bot     Bot\n",
      "4       git-machete-bot     Bot\n",
      "5   github-actions[bot]     Bot\n",
      "6              bayandin   Human\n",
      "7                 cho-m   Human\n",
      "8                  dnhn   Human\n",
      "9                jeroen   Human\n",
      "10               miccal   Human\n",
      "11            moonfruit   Human\n",
      "12            timsutton   Human\n"
     ]
    }
   ],
   "source": [
    "# Read the .csv file that has the predicitons given by BoDeGHa.\n",
    "\n",
    "# YOUR CODE BELOW\n",
    "\n",
    "df_bodegha = pd.read_csv('bodegha_predictions.csv')\n",
    "df_bodegha.columns = ['contributor', 'bodegha']\n",
    "print(df_bodegha)\n"
   ]
  },
  {
   "cell_type": "code",
   "execution_count": 24,
   "id": "fd79d43a-902d-49f9-8ab4-2ca78e5f4393",
   "metadata": {},
   "outputs": [
    {
     "name": "stdout",
     "output_type": "stream",
     "text": [
      "            contributor bothunter    app bodegha\n",
      "0             timsutton     Human  False   Human\n",
      "1                  dnhn     Human  False   Human\n",
      "2                jeroen     Human  False   Human\n",
      "3                miccal     Human  False   Human\n",
      "4                 cho-m     Human  False   Human\n",
      "5             moonfruit     Human  False   Human\n",
      "6              flow-bot       Bot  False     Bot\n",
      "7           FtZPetruska     Human  False     Bot\n",
      "8              bayandin     Human  False   Human\n",
      "9        crunchtime-ali     Human  False     Bot\n",
      "10        cloudpossebot       Bot  False     Bot\n",
      "11      git-machete-bot       Bot  False     Bot\n",
      "12  github-actions[bot]       Bot   True     Bot\n"
     ]
    }
   ],
   "source": [
    "# merge it to df - Now your df should have the following four columns - contributor, bothunter, app, bodegha\n",
    "\n",
    "# YOUR CODE BELOW\n",
    "\n",
    "df = pd.merge(df, df_bodegha, on='contributor')\n",
    "print(df)\n"
   ]
  },
  {
   "cell_type": "code",
   "execution_count": 25,
   "id": "bf49eb15-f5b7-4543-a1e7-056c1f6205cf",
   "metadata": {},
   "outputs": [
    {
     "name": "stdout",
     "output_type": "stream",
     "text": [
      "                contributor rabbit\n",
      "0                 timsutton  human\n",
      "1           semgrep-ci[bot]    app\n",
      "2                  mhmdanas  human\n",
      "3                     gdams  human\n",
      "4                      dnhn    bot\n",
      "5                     dopey  human\n",
      "6             robsonpeixoto  human\n",
      "7                    jeroen  human\n",
      "8              reitermarkus  human\n",
      "9               pOmelchenko  human\n",
      "10                   miccal  human\n",
      "11      circleci-deploy-bot    bot\n",
      "12                    cho-m  human\n",
      "13                      afh  human\n",
      "14                moonfruit  human\n",
      "15             nicklockwood  human\n",
      "16                   kashif  human\n",
      "17             kubeshop-bot    bot\n",
      "18          404NetworkError  human\n",
      "19                   bojand  human\n",
      "20                 flow-bot    bot\n",
      "21            nandahkrishna    bot\n",
      "22              FtZPetruska  human\n",
      "23                 bayandin  human\n",
      "24                   youtux  human\n",
      "25                  bepsvpt  human\n",
      "26           crunchtime-ali  human\n",
      "27             queengooborg  human\n",
      "28            cloudpossebot    bot\n",
      "29             Loyalsoldier  human\n",
      "30                  alerque  human\n",
      "31                 Amar1729  human\n",
      "32  github-merge-queue[bot]    app\n",
      "33                MindTooth  human\n",
      "34                  manphiz  human\n",
      "35                    athas  human\n",
      "36                 kozlovic  human\n",
      "37               nodenv-bot    bot\n",
      "38          git-machete-bot    bot\n",
      "39      github-actions[bot]    app\n"
     ]
    }
   ],
   "source": [
    "# Read the predictions given by RABBIT from the corresponding .csv file \n",
    "\n",
    "# YOUR CODE BELOW\n",
    "\n",
    "df_rabbit = pd.read_csv('rabbit_predictions.csv')\n",
    "df_rabbit = df_rabbit.drop('num', axis=1)\n",
    "df_rabbit = df_rabbit.drop('confidence', axis=1)\n",
    "df_rabbit.columns = ['contributor', 'rabbit']\n",
    "print(df_rabbit)\n",
    "\n"
   ]
  },
  {
   "cell_type": "code",
   "execution_count": 26,
   "id": "43877324-9c86-42f3-a109-bda2565dab87",
   "metadata": {},
   "outputs": [
    {
     "name": "stdout",
     "output_type": "stream",
     "text": [
      "            contributor bothunter    app bodegha rabbit\n",
      "0             timsutton     Human  False   Human  human\n",
      "1                  dnhn     Human  False   Human    bot\n",
      "2                jeroen     Human  False   Human  human\n",
      "3                miccal     Human  False   Human  human\n",
      "4                 cho-m     Human  False   Human  human\n",
      "5             moonfruit     Human  False   Human  human\n",
      "6              flow-bot       Bot  False     Bot    bot\n",
      "7           FtZPetruska     Human  False     Bot  human\n",
      "8              bayandin     Human  False   Human  human\n",
      "9        crunchtime-ali     Human  False     Bot  human\n",
      "10        cloudpossebot       Bot  False     Bot    bot\n",
      "11      git-machete-bot       Bot  False     Bot    bot\n",
      "12  github-actions[bot]       Bot   True     Bot    app\n"
     ]
    }
   ],
   "source": [
    "# merge it to df - Now your df should have the following five columns - contributor, bothunter, app, bodegha, rabbit\n",
    "\n",
    "# YOUR CODE BELOW\n",
    "df = pd.merge(df, df_rabbit, on='contributor')\n",
    "print(df)"
   ]
  },
  {
   "cell_type": "code",
   "execution_count": 27,
   "id": "3d630b7d-494b-419d-9778-9c2eeb5faecc",
   "metadata": {},
   "outputs": [
    {
     "name": "stdout",
     "output_type": "stream",
     "text": [
      "            contributor bothunter    app bodegha rabbit\n",
      "0             timsutton     Human  False   Human  Human\n",
      "1                  dnhn     Human  False   Human    Bot\n",
      "2                jeroen     Human  False   Human  Human\n",
      "3                miccal     Human  False   Human  Human\n",
      "4                 cho-m     Human  False   Human  Human\n",
      "5             moonfruit     Human  False   Human  Human\n",
      "6              flow-bot       Bot  False     Bot    Bot\n",
      "7           FtZPetruska     Human  False     Bot  Human\n",
      "8              bayandin     Human  False   Human  Human\n",
      "9        crunchtime-ali     Human  False     Bot  Human\n",
      "10        cloudpossebot       Bot  False     Bot    Bot\n",
      "11      git-machete-bot       Bot  False     Bot    Bot\n",
      "12  github-actions[bot]       Bot   True     Bot    Bot\n"
     ]
    }
   ],
   "source": [
    "# Replace the prediction result given by rabbit from 'bot' to 'Bot', 'app' to 'Bot', 'human' to 'Human', 'unknown' to 'Unknown' to maintain consistency\n",
    "\n",
    "# YOUR CODE BELOW\n",
    "\n",
    "df.loc[df[\"rabbit\"] == \"bot\", \"rabbit\"] = \"Bot\"\n",
    "df.loc[df[\"rabbit\"] == \"app\", \"rabbit\"] = \"Bot\"\n",
    "df.loc[df[\"rabbit\"] == \"human\", \"rabbit\"] = \"Human\"\n",
    "df.loc[df[\"rabbit\"] == \"unknown\", \"rabbit\"] = \"Unknown\"\n",
    "print(df)\n"
   ]
  },
  {
   "cell_type": "markdown",
   "id": "a6f38f75-30ec-463f-bc98-89de44a14db4",
   "metadata": {},
   "source": [
    "### Question 2\n",
    "\n",
    "#### Add an extra column to the CSV ﬁle called 'manual' that has the label determined by you. For each account, of your own opinion on its nature (bot, human or unknown only in case of doubt) on the basis of a manual veriﬁcation of the contributor’s activities in the repository through the GitHub UI and through the GitHub Events API https://api.github.com/users/username/events, and taking into account the prediction made by the bot identification tools."
   ]
  },
  {
   "cell_type": "markdown",
   "id": "e0da30a5-19c6-4ebe-b4cf-9641a432a3ec",
   "metadata": {},
   "source": [
    "#### More information:\n",
    "For each contributor, look at their activities in GitHub UI, look at their latest events using GitHub Events API - https://api.github.com/users/<contributor\\>/events, to make a decision on their type. \n",
    "\n",
    "In addition, you should also write a very small reason why do you think they are bot or human (e.g., same activity at regular interval so Bot, files committed and code modified looks like Human, comments look like Human, comment look like Bot, test report looks automated so Bot, and so on....). This might be useful to answer the next question as well."
   ]
  },
  {
   "cell_type": "code",
   "execution_count": 28,
   "id": "884a7612-7ff7-40a4-805f-113c6f70786b",
   "metadata": {},
   "outputs": [],
   "source": [
    "# Write your manual decision here\n",
    "# example : \n",
    "# manual_list_dict = [{'contributor': 'tommens', 'manual': 'human'}, {....}, {....}, {....}]\n",
    "# pd.DataFrame.from_dict(manual_list_dict)\n",
    "\n",
    "# YOUR CODE BELOW\n"
   ]
  },
  {
   "cell_type": "code",
   "execution_count": 29,
   "id": "93c4ce14-c393-45ba-aba0-bf1ae23d1cca",
   "metadata": {},
   "outputs": [],
   "source": [
    "# merge it with df of predictions. Now your df should have the following six columns\n",
    "# contributor, bothunter, app, bodegha, rabbit, manual\n",
    "\n",
    "# YOUR CODE BELOW\n"
   ]
  },
  {
   "cell_type": "markdown",
   "id": "0ec42ed1-0758-4ce4-82cc-542e490626dc",
   "metadata": {},
   "source": [
    "### Question 3\n",
    "\n",
    "#### Study and report the purpose of these identified bots and humans in the repository assigned to you. \n",
    "\n",
    "For example, the purpose can be based on but not limited to - \n",
    "\n",
    "the type of activities that they are performing (releasing a version on every Sunday, updating the documentation), type of comments they are posting (reviewing code, test summary report), when are they triggered (when a new PR is created, when someone in the project ask the bot to merge the code) and so on. \\textbf{Note:} The purpose can be other than what is provided in examples above. \n"
   ]
  },
  {
   "cell_type": "code",
   "execution_count": null,
   "id": "64569eb1-7faa-46e4-bb81-02bb1058b2a7",
   "metadata": {},
   "outputs": [],
   "source": []
  },
  {
   "cell_type": "markdown",
   "id": "0b41eb2e-b481-4502-94b3-f0d28eb8f76a",
   "metadata": {},
   "source": [
    "### Question 4"
   ]
  },
  {
   "cell_type": "markdown",
   "id": "3ad85279-0ee8-49de-8c5a-bf0850494772",
   "metadata": {},
   "source": [
    "#### Create a column named 'type' to the CSV ﬁle and write your ﬁnal decision on the type of contributor. The ﬁnal decision on their type is the prediciton that majority of the raters predicted (you can ignore the 'Unknown'), in the case of contradiction, you can finalise it as Human.\n",
    "#### Case 1: If two raters has mentioned a contributor as Bot and others mentioned it as 'Unknown', then the type of the account is Bot.  \n",
    "#### Case 2: If 3 raters give 'Unknown' to a contributor then the prediction given by the fourth rater is final.\n",
    "#### Case 3: If 2 raters give the prediciton as 'Bot' and 2 raters give it as 'Human', then the final decision is 'Human'\n",
    "#### In this step, GitHub Apps should be marked as App and not as a Bot."
   ]
  },
  {
   "cell_type": "code",
   "execution_count": 30,
   "id": "1040a69f-25cb-467a-9afd-6f32f6ae2a6e",
   "metadata": {},
   "outputs": [
    {
     "name": "stdout",
     "output_type": "stream",
     "text": [
      "['Human', 'Human', 'Human', 'Human', 'Human', 'Human', 'Bot', 'Human', 'Human', 'Human', 'Bot', 'Bot', 'App']\n",
      "            contributor bothunter    app bodegha rabbit   type\n",
      "0             timsutton     Human  False   Human  Human  Human\n",
      "1                  dnhn     Human  False   Human    Bot  Human\n",
      "2                jeroen     Human  False   Human  Human  Human\n",
      "3                miccal     Human  False   Human  Human  Human\n",
      "4                 cho-m     Human  False   Human  Human  Human\n",
      "5             moonfruit     Human  False   Human  Human  Human\n",
      "6              flow-bot       Bot  False     Bot    Bot    Bot\n",
      "7           FtZPetruska     Human  False     Bot  Human  Human\n",
      "8              bayandin     Human  False   Human  Human  Human\n",
      "9        crunchtime-ali     Human  False     Bot  Human  Human\n",
      "10        cloudpossebot       Bot  False     Bot    Bot    Bot\n",
      "11      git-machete-bot       Bot  False     Bot    Bot    Bot\n",
      "12  github-actions[bot]       Bot   True     Bot    Bot    App\n"
     ]
    }
   ],
   "source": [
    "# Make a final decision on the type based on the predictions given by bothunter, bodegha, bothunter and your manual labelling. \n",
    "# Now your df should contain seven columns - contributor, bothunter, app, bodegha, rabbit, manual and type\n",
    "\n",
    "# YOUR CODE BELOW\n",
    "type_list = []\n",
    "for i in range(len(df)):\n",
    "    n_bot = 0\n",
    "    n_human = 0\n",
    "    n_unknown = 0\n",
    "    for j in [1,2,3,4]:\n",
    "        if df.iloc[i,j] == \"Bot\":\n",
    "            n_bot+=1\n",
    "        elif df.iloc[i,j] == \"Human\":\n",
    "            n_human+=1\n",
    "        elif df.iloc[i,j] == \"Unknown\":\n",
    "            n_unknown+=1\n",
    "    if df.iloc[i,2] == True:\n",
    "        type_list.append(\"App\")\n",
    "    elif n_bot >= 2:\n",
    "        type_list.append(\"Bot\")\n",
    "    elif n_unknown == 2:\n",
    "        if n_bot == 1:\n",
    "            type_list.append(\"Bot\")\n",
    "        elif n_human == 1:\n",
    "            type_list.append(\"Human\")\n",
    "    elif (n_human >= 2):\n",
    "        type_list.append(\"Human\")\n",
    "print(type_list)\n",
    "df['type'] = type_list\n",
    "print(df)\n"
   ]
  },
  {
   "cell_type": "markdown",
   "id": "40f47f01-f3be-4309-b37c-e23b4887db93",
   "metadata": {},
   "source": [
    "### Question 5 (a)\n",
    "\n",
    "#### Compute and report the Fleiss Kappa interrater agreement score between the labels computed by all bot identiﬁcation tools."
   ]
  },
  {
   "cell_type": "markdown",
   "id": "4c828483-7d39-40b0-be45-e61264daa1bd",
   "metadata": {},
   "source": [
    "##### For example:\n",
    "\n",
    "converted_df = aggregate_raters(np.array(df[['rater1','rater2']]))  \n",
    "kappa = fleiss_kappa(converted_df[0])  \n",
    "print('kappa')  "
   ]
  },
  {
   "cell_type": "markdown",
   "id": "e94e819d-1e1b-4e00-935c-617f7b4585f5",
   "metadata": {},
   "source": [
    "#### a. between bothunter and rabbit"
   ]
  },
  {
   "cell_type": "code",
   "execution_count": 31,
   "id": "a72de000-7e18-4e38-a8d0-f0779c2df4dd",
   "metadata": {},
   "outputs": [
    {
     "name": "stdout",
     "output_type": "stream",
     "text": [
      "0.8300653594771243\n"
     ]
    }
   ],
   "source": [
    "converted_df = aggregate_raters(np.array(df[['bothunter','rabbit']]))\n",
    "kappa = fleiss_kappa(converted_df[0])\n",
    "print(kappa)"
   ]
  },
  {
   "cell_type": "markdown",
   "id": "43b8246f-3071-4642-a0d5-737c5e462f9f",
   "metadata": {},
   "source": [
    "#### b. between bothunter and bodegha"
   ]
  },
  {
   "cell_type": "code",
   "execution_count": 32,
   "id": "cbecc6ac-b80a-4e2d-a944-ceaf61cb6874",
   "metadata": {},
   "outputs": [
    {
     "name": "stdout",
     "output_type": "stream",
     "text": [
      "0.6749999999999999\n"
     ]
    }
   ],
   "source": [
    "converted_df = aggregate_raters(np.array(df[['bothunter','bodegha']]))\n",
    "kappa = fleiss_kappa(converted_df[0])\n",
    "print(kappa)"
   ]
  },
  {
   "cell_type": "markdown",
   "id": "bc8ae1a7-f3de-4218-9f10-412e35580490",
   "metadata": {},
   "source": [
    "#### c. between bodegha and rabbit"
   ]
  },
  {
   "cell_type": "code",
   "execution_count": 33,
   "id": "4504ad9e-96dc-4931-94f2-34bac64501ca",
   "metadata": {},
   "outputs": [
    {
     "name": "stdout",
     "output_type": "stream",
     "text": [
      "0.5272727272727274\n"
     ]
    }
   ],
   "source": [
    "converted_df = aggregate_raters(np.array(df[['bodegha','rabbit']]))\n",
    "kappa = fleiss_kappa(converted_df[0])\n",
    "print(kappa)"
   ]
  },
  {
   "cell_type": "markdown",
   "id": "5563de23-ee19-4845-ab53-f0ee825c3749",
   "metadata": {},
   "source": [
    "#### d. between bothunter, bodegha and rabbit"
   ]
  },
  {
   "cell_type": "code",
   "execution_count": 34,
   "id": "b09313d6-4b5d-4392-a7a5-d23fdf8763a3",
   "metadata": {},
   "outputs": [
    {
     "name": "stdout",
     "output_type": "stream",
     "text": [
      "0.6749999999999999\n"
     ]
    }
   ],
   "source": [
    "converted_df = aggregate_raters(np.array(df[['bothunter','rabbit','bodegha']]))\n",
    "kappa = fleiss_kappa(converted_df[0])\n",
    "print(kappa)"
   ]
  },
  {
   "cell_type": "markdown",
   "id": "15475bd2-905a-4676-b68b-0ad24e7465ff",
   "metadata": {},
   "source": [
    "### Question 5 (b)\n",
    "#### Report on\n",
    "#### a. What is you interpretation from the kappa values (use the table provided in the description document)? what do you understand?"
   ]
  },
  {
   "cell_type": "code",
   "execution_count": 35,
   "id": "af8dd098-a2e3-4e87-a5cc-7347f00280e1",
   "metadata": {},
   "outputs": [],
   "source": [
    "#We can say that:\n",
    "# bothunter and rabbit are in perfect agreement\n",
    "# bothunter and bodegha are substantial agreement\n",
    "# bodegha and rabbit are moderate agreement\n",
    "# all 3 are substantial agreement\n",
    "# We can underline that all bots agree on the type of user in general."
   ]
  },
  {
   "cell_type": "markdown",
   "id": "7e9462bc-95d6-4fd8-8231-f6e13f19c2eb",
   "metadata": {},
   "source": [
    "#### b. Based on your previous analysis, which bot identification tool would you use, if you want to predict if a contributor is a human or bot? Motivate your answer"
   ]
  },
  {
   "cell_type": "code",
   "execution_count": 36,
   "id": "23f9e9ad-4392-43bb-afb3-b33bfa472c50",
   "metadata": {},
   "outputs": [],
   "source": [
    "# I would use bothunter because it is the tool that agrees the best with the other tools."
   ]
  },
  {
   "cell_type": "markdown",
   "id": "88945f23-8222-4925-b6fc-b049b0761a7a",
   "metadata": {},
   "source": [
    "## Section 5"
   ]
  },
  {
   "cell_type": "markdown",
   "id": "0158557e-2389-45c2-b725-8782923d0f87",
   "metadata": {},
   "source": [
    "#### Query the GitHub Events API to get maximum possible events for each contributor (maximum is 300 events).  \n",
    "#### You can use the following query: '{QUERY_ROOT}/users/{contributor}/events?per_page=100&page={page}' where page = 1 or 2 or 3  \n",
    "#### As you did in earlier task, make a request to GitHub Events API with the required headers, convert the response to JSON, extract the following fields and store in a DataFrame:\n",
    "Event id - json_response['event_id']  \n",
    "Name of the contributor - json_response['actor']['login']  \n",
    "Name of the repository - json_response['repository']['name']  \n",
    "Type of event - json_response['type']  \n",
    "Time of event - json_response['created_at']\n",
    "\n",
    "#### Hint: Query the GitHubEvents API for all contributors. Append the obtained JSON result to a list of JSONs. Process one dictionary after other to get your required fields and store them in another list of dictionaries. Finally convert this dictionaty to DataFrame. OR You can directly convert the list of JSONs to DataFrame using pd.json_normalize() and select the required columns alone.\n",
    "\n",
    "#### The resultant dataframe should have all the recent events performed by all the contributors and the following columns should be present in them - event_id, contributor, repo_name, event_type, created_at.\n"
   ]
  },
  {
   "cell_type": "code",
   "execution_count": 38,
   "id": "a32aae1c-037c-4428-b962-97d1aae2075e",
   "metadata": {},
   "outputs": [
    {
     "name": "stdout",
     "output_type": "stream",
     "text": [
      "         event_id          contributor  \\\n",
      "0     36985587760            timsutton   \n",
      "1     36950961783            timsutton   \n",
      "2     36950947282            timsutton   \n",
      "3     36913393665            timsutton   \n",
      "4     36894024387            timsutton   \n",
      "...           ...                  ...   \n",
      "8621  37003002081  github-actions[bot]   \n",
      "8622  37003002075  github-actions[bot]   \n",
      "8623  37003001399  github-actions[bot]   \n",
      "8624  37003002007  github-actions[bot]   \n",
      "8625  37003001984  github-actions[bot]   \n",
      "\n",
      "                                              repo_name  \\\n",
      "0                                ericbeland/ruby-packer   \n",
      "1                                        dry-rb/dry-cli   \n",
      "2                             rngtng/dry-cli-completion   \n",
      "3                                        SUPERCILEX/fuc   \n",
      "4                                Homebrew/homebrew-core   \n",
      "...                                                 ...   \n",
      "8621  sigstore-conformance/extremely-dangerous-publi...   \n",
      "8622                               DONGYUSEN/NanoPi-R2S   \n",
      "8623                          HanifahRawenda/HanifahCom   \n",
      "8624                             a2y4zio4003/Auto-Green   \n",
      "8625         mtan06/skills-communicate-using-1-markdown   \n",
      "\n",
      "                  event_type            created_at  \n",
      "0                 WatchEvent  2024-03-29T00:54:52Z  \n",
      "1                 WatchEvent  2024-03-28T01:24:19Z  \n",
      "2                 WatchEvent  2024-03-28T01:23:19Z  \n",
      "3                 WatchEvent  2024-03-27T01:47:53Z  \n",
      "4     PullRequestReviewEvent  2024-03-26T14:02:10Z  \n",
      "...                      ...                   ...  \n",
      "8621               PushEvent  2024-03-29T16:14:20Z  \n",
      "8622            ReleaseEvent  2024-03-29T16:14:20Z  \n",
      "8623               PushEvent  2024-03-29T16:14:18Z  \n",
      "8624               PushEvent  2024-03-29T16:14:20Z  \n",
      "8625               PushEvent  2024-03-29T16:14:20Z  \n",
      "\n",
      "[8626 rows x 5 columns]\n"
     ]
    }
   ],
   "source": [
    "# YOUR CODE BELOW\n",
    "app_list_dict = []\n",
    "for contributor in names:\n",
    "    for page in range(1,4):\n",
    "        query = f'{QUERY_ROOT}/users/{contributor}/events?per_page=100&page={page}'\n",
    "        response = requests.get(query, headers=HEADERS)\n",
    "        json_response = response.json()\n",
    "        for event in json_response:\n",
    "            event_id = event['id']  \n",
    "            name_contributor = event['actor']['login']  \n",
    "            name_repo = event['repo']['name']  \n",
    "            event_type = event['type']  \n",
    "            event_time = event['created_at']\n",
    "            intern_dico = {'event_id' : event_id, 'contributor' : name_contributor, 'repo_name' : name_repo,\n",
    "                        'event_type' : event_type, 'created_at' : event_time}\n",
    "            app_list_dict += [intern_dico]\n",
    "dataframe = pd.DataFrame.from_dict(app_list_dict)\n",
    "print(dataframe)"
   ]
  },
  {
   "cell_type": "markdown",
   "id": "6d107b13-0c4f-4a56-a284-596f73a53d2f",
   "metadata": {},
   "source": [
    "### Question 1\n",
    "#### Group each event into the following four categories\n",
    "\n",
    "Issues: IssueCommentEvent, IssuesEvent  \n",
    "Pull Requests: PullRequestEvent, PullRequestReviewCommentEvent  \n",
    "Commits: CommitCommentEvent, PushEvent  \n",
    "Repository: CreateEvent, DeleteEvent, ForkEvent, GollumEvent, MemberEvent, PublicEvent, ReleaseEvent, SponsorshipEvent, WatchEvent  \n",
    "\n",
    "#### Hint:\n",
    "1. Add a column called event_group that mentions which event group does that event belong to. Each event (row) should correspond to an event group.  \n",
    "2. Then perform groupby on ['contributor','event_group'],  \n",
    "3. use .agg (https://pandas.pydata.org/pandas-docs/stable/reference/api/pandas.DataFrame.agg.html) to count the number of events performed by each contributor in each group,  \n",
    "4. use pivot with the required arguments (https://pandas.pydata.org/pandas-docs/stable/reference/api/pandas.DataFrame.pivot.html). An example is given [here](#pivot_example) in question 2(b), and  \n",
    "5. finally merge it with your 'type' field from the DataFrame you got in Section4\n",
    "\n",
    "The final DataFrame should be looking like the following  \n",
    "![](event_group.png)"
   ]
  },
  {
   "cell_type": "code",
   "execution_count": 39,
   "id": "06072cfd-9de7-4e25-a3fa-11296a728484",
   "metadata": {},
   "outputs": [
    {
     "name": "stdout",
     "output_type": "stream",
     "text": [
      "['Repository', 'Repository', 'Repository', 'Repository', 'Pull Requests', 'Commits', 'Pull Requests', 'Pull Requests', 'Commits', 'Issues', 'Commits', 'Pull Requests', 'Commits', 'Commits', 'Repository', 'Pull Requests', 'Commits', 'Repository', 'Pull Requests', 'Issues', 'Pull Requests', 'Pull Requests', 'Pull Requests', 'Pull Requests', 'Pull Requests', 'Pull Requests', 'Commits', 'Pull Requests', 'Issues', 'Pull Requests', 'Pull Requests', 'Pull Requests', 'Commits', 'Commits', 'Pull Requests', 'Pull Requests', 'Issues', 'Pull Requests', 'Pull Requests', 'Commits', 'Pull Requests', 'Pull Requests', 'Pull Requests', 'Pull Requests', 'Repository', 'Pull Requests', 'Pull Requests', 'Repository', 'Issues', 'Commits', 'Pull Requests', 'Repository', 'Issues', 'Issues', 'Pull Requests', 'Repository', 'Pull Requests', 'Pull Requests', 'Issues', 'Pull Requests', 'Issues', 'Commits', 'Issues', 'Pull Requests', 'Pull Requests', 'Pull Requests', 'Commits', 'Commits', 'Commits', 'Commits', 'Pull Requests', 'Issues', 'Pull Requests', 'Pull Requests', 'Pull Requests', 'Pull Requests', 'Pull Requests', 'Pull Requests', 'Pull Requests', 'Pull Requests', 'Pull Requests', 'Pull Requests', 'Pull Requests', 'Commits', 'Pull Requests', 'Repository', 'Pull Requests', 'Repository', 'Pull Requests', 'Pull Requests', 'Pull Requests', 'Repository', 'Pull Requests', 'Pull Requests', 'Pull Requests', 'Pull Requests', 'Commits', 'Pull Requests', 'Pull Requests', 'Issues', 'Commits', 'Pull Requests', 'Commits', 'Commits', 'Commits', 'Pull Requests', 'Repository', 'Commits', 'Issues', 'Pull Requests', 'Pull Requests', 'Issues', 'Pull Requests', 'Repository', 'Commits', 'Commits', 'Commits', 'Pull Requests', 'Issues', 'Commits', 'Pull Requests', 'Repository', 'Issues', 'Pull Requests', 'Repository', 'Repository', 'Pull Requests', 'Pull Requests', 'Pull Requests', 'Pull Requests', 'Pull Requests', 'Pull Requests', 'Pull Requests', 'Pull Requests', 'Repository', 'Issues', 'Repository', 'Commits', 'Commits', 'Issues', 'Issues', 'Commits', 'Pull Requests', 'Repository', 'Pull Requests', 'Repository', 'Commits', 'Pull Requests', 'Repository', 'Repository', 'Pull Requests', 'Pull Requests', 'Pull Requests', 'Pull Requests', 'Pull Requests', 'Pull Requests', 'Issues', 'Pull Requests', 'Repository', 'Repository', 'Pull Requests', 'Pull Requests', 'Repository', 'Issues', 'Issues', 'Pull Requests', 'Issues', 'Pull Requests', 'Commits', 'Pull Requests', 'Pull Requests', 'Issues', 'Pull Requests', 'Pull Requests', 'Pull Requests', 'Pull Requests', 'Pull Requests', 'Commits', 'Repository', 'Repository', 'Issues', 'Pull Requests', 'Pull Requests', 'Pull Requests', 'Commits', 'Issues', 'Commits', 'Issues', 'Issues', 'Commits', 'Pull Requests', 'Pull Requests', 'Pull Requests', 'Pull Requests', 'Issues', 'Issues', 'Pull Requests', 'Pull Requests', 'Pull Requests', 'Pull Requests', 'Pull Requests', 'Pull Requests', 'Issues', 'Pull Requests', 'Pull Requests', 'Pull Requests', 'Pull Requests', 'Pull Requests', 'Pull Requests', 'Issues', 'Issues', 'Pull Requests', 'Pull Requests', 'Commits', 'Repository', 'Pull Requests', 'Issues', 'Pull Requests', 'Issues', 'Pull Requests', 'Pull Requests', 'Pull Requests', 'Pull Requests', 'Repository', 'Pull Requests', 'Pull Requests', 'Pull Requests', 'Pull Requests', 'Repository', 'Pull Requests', 'Repository', 'Commits', 'Pull Requests', 'Commits', 'Repository', 'Commits', 'Pull Requests', 'Repository', 'Pull Requests', 'Pull Requests', 'Commits', 'Pull Requests', 'Pull Requests', 'Pull Requests', 'Repository', 'Pull Requests', 'Repository', 'Repository', 'Issues', 'Repository', 'Pull Requests', 'Pull Requests', 'Repository', 'Issues', 'Issues', 'Pull Requests', 'Repository', 'Repository', 'Pull Requests', 'Pull Requests', 'Repository', 'Pull Requests', 'Repository', 'Pull Requests', 'Repository', 'Pull Requests', 'Repository', 'Pull Requests', 'Pull Requests', 'Repository', 'Repository', 'Repository', 'Repository', 'Pull Requests', 'Repository', 'Pull Requests', 'Repository', 'Repository', 'Repository', 'Repository', 'Pull Requests', 'Repository', 'Pull Requests', 'Repository', 'Pull Requests', 'Repository', 'Repository', 'Repository', 'Repository', 'Repository', 'Pull Requests', 'Pull Requests', 'Repository', 'Pull Requests', 'Repository', 'Repository', 'Repository', 'Repository', 'Pull Requests', 'Repository', 'Pull Requests', 'Repository', 'Pull Requests', 'Repository', 'Pull Requests', 'Repository', 'Pull Requests', 'Repository', 'Pull Requests', 'Repository', 'Repository', 'Repository', 'Repository', 'Pull Requests', 'Repository', 'Pull Requests', 'Repository', 'Pull Requests', 'Repository', 'Repository', 'Repository', 'Repository', 'Pull Requests', 'Repository', 'Pull Requests', 'Repository', 'Pull Requests', 'Repository', 'Pull Requests', 'Repository', 'Repository', 'Repository', 'Repository', 'Pull Requests', 'Repository', 'Pull Requests', 'Repository', 'Pull Requests', 'Repository', 'Pull Requests', 'Repository', 'Repository', 'Repository', 'Repository', 'Pull Requests', 'Repository', 'Pull Requests', 'Repository', 'Pull Requests', 'Repository', 'Pull Requests', 'Repository', 'Pull Requests', 'Repository', 'Repository', 'Repository', 'Repository', 'Pull Requests', 'Repository', 'Repository', 'Repository', 'Pull Requests', 'Repository', 'Pull Requests', 'Repository', 'Pull Requests', 'Repository', 'Repository', 'Repository', 'Repository', 'Pull Requests', 'Repository', 'Repository', 'Repository', 'Repository', 'Pull Requests', 'Repository', 'Pull Requests', 'Repository', 'Pull Requests', 'Repository', 'Pull Requests', 'Repository', 'Pull Requests', 'Repository', 'Repository', 'Repository', 'Repository', 'Pull Requests', 'Repository', 'Pull Requests', 'Repository', 'Repository', 'Repository', 'Repository', 'Pull Requests', 'Repository', 'Pull Requests', 'Repository', 'Pull Requests', 'Repository', 'Pull Requests', 'Repository', 'Pull Requests', 'Repository', 'Repository', 'Repository', 'Repository', 'Pull Requests', 'Repository', 'Pull Requests', 'Repository', 'Repository', 'Repository', 'Repository', 'Pull Requests', 'Repository', 'Pull Requests', 'Repository', 'Pull Requests', 'Repository', 'Pull Requests', 'Repository', 'Pull Requests', 'Repository', 'Pull Requests', 'Repository', 'Pull Requests', 'Repository', 'Repository', 'Repository', 'Repository', 'Pull Requests', 'Repository', 'Repository', 'Pull Requests', 'Pull Requests', 'Repository', 'Pull Requests', 'Repository', 'Repository', 'Repository', 'Repository', 'Pull Requests', 'Repository', 'Repository', 'Repository', 'Repository', 'Pull Requests', 'Repository', 'Pull Requests', 'Repository', 'Repository', 'Repository', 'Pull Requests', 'Repository', 'Pull Requests', 'Repository', 'Pull Requests', 'Repository', 'Commits', 'Commits', 'Pull Requests', 'Repository', 'Commits', 'Commits', 'Pull Requests', 'Repository', 'Commits', 'Pull Requests', 'Repository', 'Issues', 'Issues', 'Issues', 'Issues', 'Issues', 'Issues', 'Issues', 'Issues', 'Issues', 'Repository', 'Repository', 'Pull Requests', 'Repository', 'Pull Requests', 'Repository', 'Issues', 'Pull Requests', 'Repository', 'Pull Requests', 'Repository', 'Commits', 'Repository', 'Commits', 'Pull Requests', 'Repository', 'Repository', 'Pull Requests', 'Pull Requests', 'Pull Requests', 'Repository', 'Pull Requests', 'Repository', 'Pull Requests', 'Repository', 'Pull Requests', 'Repository', 'Pull Requests', 'Repository', 'Repository', 'Repository', 'Pull Requests', 'Repository', 'Pull Requests', 'Repository', 'Repository', 'Pull Requests', 'Repository', 'Pull Requests', 'Repository', 'Repository', 'Issues', 'Pull Requests', 'Pull Requests', 'Pull Requests', 'Pull Requests', 'Pull Requests', 'Pull Requests', 'Pull Requests', 'Pull Requests', 'Pull Requests', 'Pull Requests', 'Pull Requests', 'Repository', 'Repository', 'Commits', 'Pull Requests', 'Issues', 'Repository', 'Issues', 'Issues', 'Repository', 'Repository', 'Repository', 'Repository', 'Issues', 'Issues', 'Pull Requests', 'Repository', 'Pull Requests', 'Repository', 'Pull Requests', 'Pull Requests', 'Pull Requests', 'Repository', 'Pull Requests', 'Repository', 'Repository', 'Commits', 'Commits', 'Commits', 'Pull Requests', 'Repository', 'Pull Requests', 'Repository', 'Repository', 'Issues', 'Issues', 'Issues', 'Issues', 'Commits', 'Pull Requests', 'Issues', 'Pull Requests', 'Issues', 'Pull Requests', 'Pull Requests', 'Pull Requests', 'Pull Requests', 'Issues', 'Commits', 'Pull Requests', 'Pull Requests', 'Pull Requests', 'Pull Requests', 'Commits', 'Repository', 'Pull Requests', 'Repository', 'Issues', 'Issues', 'Pull Requests', 'Repository', 'Repository', 'Repository', 'Commits', 'Pull Requests', 'Pull Requests', 'Pull Requests', 'Pull Requests', 'Pull Requests', 'Commits', 'Pull Requests', 'Repository', 'Pull Requests', 'Repository', 'Commits', 'Issues', 'Issues', 'Repository', 'Repository', 'Commits', 'Pull Requests', 'Repository', 'Commits', 'Commits', 'Pull Requests', 'Repository', 'Pull Requests', 'Repository', 'Pull Requests', 'Pull Requests', 'Pull Requests', 'Pull Requests', 'Commits', 'Issues', 'Pull Requests', 'Pull Requests', 'Pull Requests', 'Commits', 'Pull Requests', 'Pull Requests', 'Pull Requests', 'Pull Requests', 'Pull Requests', 'Pull Requests', 'Pull Requests', 'Pull Requests', 'Repository', 'Commits', 'Pull Requests', 'Repository', 'Pull Requests', 'Repository', 'Pull Requests', 'Pull Requests', 'Commits', 'Repository', 'Pull Requests', 'Commits', 'Commits', 'Commits', 'Commits', 'Pull Requests', 'Pull Requests', 'Pull Requests', 'Issues', 'Issues', 'Issues', 'Issues', 'Pull Requests', 'Pull Requests', 'Issues', 'Issues', 'Commits', 'Pull Requests', 'Pull Requests', 'Pull Requests', 'Pull Requests', 'Pull Requests', 'Pull Requests', 'Pull Requests', 'Pull Requests', 'Issues', 'Pull Requests', 'Repository', 'Commits', 'Issues', 'Issues', 'Issues', 'Issues', 'Repository', 'Issues', 'Repository', 'Repository', 'Repository', 'Repository', 'Pull Requests', 'Repository', 'Pull Requests', 'Repository', 'Repository', 'Repository', 'Repository', 'Pull Requests', 'Repository', 'Pull Requests', 'Repository', 'Pull Requests', 'Repository', 'Pull Requests', 'Repository', 'Pull Requests', 'Repository', 'Repository', 'Commits', 'Commits', 'Commits', 'Pull Requests', 'Repository', 'Pull Requests', 'Pull Requests', 'Repository', 'Commits', 'Pull Requests', 'Pull Requests', 'Pull Requests', 'Pull Requests', 'Commits', 'Commits', 'Commits', 'Repository', 'Commits', 'Issues', 'Pull Requests', 'Pull Requests', 'Pull Requests', 'Repository', 'Pull Requests', 'Repository', 'Issues', 'Pull Requests', 'Repository', 'Repository', 'Repository', 'Pull Requests', 'Repository', 'Pull Requests', 'Repository', 'Repository', 'Pull Requests', 'Repository', 'Commits', 'Repository', 'Commits', 'Pull Requests', 'Pull Requests', 'Pull Requests', 'Pull Requests', 'Pull Requests', 'Repository', 'Pull Requests', 'Pull Requests', 'Pull Requests', 'Pull Requests', 'Pull Requests', 'Issues', 'Repository', 'Issues', 'Repository', 'Pull Requests', 'Repository', 'Pull Requests', 'Commits', 'Issues', 'Issues', 'Pull Requests', 'Commits', 'Pull Requests', 'Pull Requests', 'Commits', 'Pull Requests', 'Issues', 'Issues', 'Commits', 'Pull Requests', 'Pull Requests', 'Pull Requests', 'Repository', 'Pull Requests', 'Commits', 'Commits', 'Pull Requests', 'Pull Requests', 'Pull Requests', 'Repository', 'Issues', 'Pull Requests', 'Commits', 'Pull Requests', 'Commits', 'Pull Requests', 'Repository', 'Commits', 'Pull Requests', 'Commits', 'Pull Requests', 'Repository', 'Pull Requests', 'Repository', 'Repository', 'Pull Requests', 'Pull Requests', 'Repository', 'Commits', 'Pull Requests', 'Pull Requests', 'Commits', 'Pull Requests', 'Pull Requests', 'Repository', 'Commits', 'Pull Requests', 'Commits', 'Commits', 'Commits', 'Pull Requests', 'Pull Requests', 'Pull Requests', 'Repository', 'Pull Requests', 'Repository', 'Commits', 'Pull Requests', 'Repository', 'Pull Requests', 'Pull Requests', 'Repository', 'Commits', 'Pull Requests', 'Issues', 'Commits', 'Pull Requests', 'Pull Requests', 'Repository', 'Pull Requests', 'Repository', 'Pull Requests', 'Repository', 'Repository', 'Commits', 'Pull Requests', 'Pull Requests', 'Commits', 'Repository', 'Repository', 'Commits', 'Pull Requests', 'Commits', 'Repository', 'Commits', 'Pull Requests', 'Commits', 'Commits', 'Pull Requests', 'Commits', 'Commits', 'Repository', 'Pull Requests', 'Repository', 'Pull Requests', 'Pull Requests', 'Pull Requests', 'Pull Requests', 'Pull Requests', 'Pull Requests', 'Pull Requests', 'Issues', 'Pull Requests', 'Pull Requests', 'Pull Requests', 'Pull Requests', 'Pull Requests', 'Issues', 'Pull Requests', 'Pull Requests', 'Pull Requests', 'Pull Requests', 'Commits', 'Pull Requests', 'Repository', 'Repository', 'Commits', 'Repository', 'Pull Requests', 'Pull Requests', 'Commits', 'Commits', 'Pull Requests', 'Pull Requests', 'Issues', 'Pull Requests', 'Pull Requests', 'Commits', 'Commits', 'Commits', 'Commits', 'Pull Requests', 'Repository', 'Commits', 'Commits', 'Repository', 'Pull Requests', 'Commits', 'Pull Requests', 'Repository', 'Repository', 'Pull Requests', 'Commits', 'Pull Requests', 'Repository', 'Repository', 'Pull Requests', 'Commits', 'Commits', 'Pull Requests', 'Repository', 'Commits', 'Repository', 'Pull Requests', 'Pull Requests', 'Pull Requests', 'Pull Requests', 'Repository', 'Commits', 'Commits', 'Commits', 'Commits', 'Commits', 'Commits', 'Commits', 'Pull Requests', 'Pull Requests', 'Commits', 'Commits', 'Commits', 'Commits', 'Commits', 'Commits', 'Commits', 'Repository', 'Pull Requests', 'Repository', 'Repository', 'Commits', 'Repository', 'Pull Requests', 'Pull Requests', 'Pull Requests', 'Pull Requests', 'Commits', 'Pull Requests', 'Pull Requests', 'Pull Requests', 'Pull Requests', 'Commits', 'Pull Requests', 'Commits', 'Pull Requests', 'Repository', 'Repository', 'Pull Requests', 'Pull Requests', 'Issues', 'Commits', 'Issues', 'Pull Requests', 'Commits', 'Repository', 'Pull Requests', 'Pull Requests', 'Commits', 'Commits', 'Commits', 'Commits', 'Pull Requests', 'Pull Requests', 'Issues', 'Pull Requests', 'Pull Requests', 'Commits', 'Commits', 'Commits', 'Pull Requests', 'Commits', 'Commits', 'Commits', 'Commits', 'Commits', 'Commits', 'Commits', 'Commits', 'Pull Requests', 'Commits', 'Repository', 'Issues', 'Pull Requests', 'Commits', 'Pull Requests', 'Pull Requests', 'Pull Requests', 'Repository', 'Commits', 'Repository', 'Pull Requests', 'Commits', 'Repository', 'Pull Requests', 'Pull Requests', 'Pull Requests', 'Pull Requests', 'Commits', 'Pull Requests', 'Pull Requests', 'Pull Requests', 'Issues', 'Issues', 'Pull Requests', 'Issues', 'Pull Requests', 'Commits', 'Issues', 'Pull Requests', 'Issues', 'Pull Requests', 'Pull Requests', 'Issues', 'Pull Requests', 'Pull Requests', 'Pull Requests', 'Pull Requests', 'Pull Requests', 'Issues', 'Pull Requests', 'Pull Requests', 'Commits', 'Repository', 'Pull Requests', 'Commits', 'Repository', 'Pull Requests', 'Repository', 'Commits', 'Pull Requests', 'Pull Requests', 'Pull Requests', 'Commits', 'Pull Requests', 'Pull Requests', 'Commits', 'Pull Requests', 'Pull Requests', 'Repository', 'Commits', 'Commits', 'Repository', 'Pull Requests', 'Commits', 'Pull Requests', 'Commits', 'Repository', 'Repository', 'Commits', 'Commits', 'Pull Requests', 'Repository', 'Commits', 'Pull Requests', 'Repository', 'Commits', 'Pull Requests', 'Repository', 'Commits', 'Pull Requests', 'Repository', 'Commits', 'Commits', 'Pull Requests', 'Commits', 'Repository', 'Pull Requests', 'Commits', 'Commits', 'Issues', 'Pull Requests', 'Repository', 'Commits', 'Commits', 'Commits', 'Commits', 'Commits', 'Commits', 'Pull Requests', 'Commits', 'Repository', 'Pull Requests', 'Commits', 'Commits', 'Issues', 'Issues', 'Issues', 'Commits', 'Commits', 'Commits', 'Commits', 'Pull Requests', 'Repository', 'Commits', 'Pull Requests', 'Repository', 'Commits', 'Commits', 'Commits', 'Pull Requests', 'Repository', 'Commits', 'Commits', 'Commits', 'Commits', 'Commits', 'Repository', 'Commits', 'Commits', 'Commits', 'Commits', 'Pull Requests', 'Repository', 'Commits', 'Commits', 'Pull Requests', 'Repository', 'Commits', 'Commits', 'Commits', 'Commits', 'Pull Requests', 'Repository', 'Commits', 'Commits', 'Pull Requests', 'Repository', 'Commits', 'Pull Requests', 'Repository', 'Pull Requests', 'Repository', 'Pull Requests', 'Repository', 'Commits', 'Pull Requests', 'Repository', 'Pull Requests', 'Repository', 'Pull Requests', 'Repository', 'Repository', 'Pull Requests', 'Repository', 'Commits', 'Pull Requests', 'Repository', 'Pull Requests', 'Repository', 'Commits', 'Pull Requests', 'Repository', 'Pull Requests', 'Repository', 'Pull Requests', 'Repository', 'Commits', 'Pull Requests', 'Repository', 'Pull Requests', 'Repository', 'Commits', 'Pull Requests', 'Repository', 'Commits', 'Pull Requests', 'Repository', 'Repository', 'Issues', 'Pull Requests', 'Repository', 'Pull Requests', 'Repository', 'Commits', 'Pull Requests', 'Repository', 'Repository', 'Pull Requests', 'Repository', 'Pull Requests', 'Repository', 'Pull Requests', 'Repository', 'Commits', 'Commits', 'Commits', 'Pull Requests', 'Repository', 'Pull Requests', 'Repository', 'Pull Requests', 'Repository', 'Pull Requests', 'Repository', 'Commits', 'Pull Requests', 'Commits', 'Repository', 'Pull Requests', 'Commits', 'Pull Requests', 'Repository', 'Pull Requests', 'Repository', 'Pull Requests', 'Repository', 'Pull Requests', 'Repository', 'Pull Requests', 'Repository', 'Commits', 'Pull Requests', 'Repository', 'Pull Requests', 'Repository', 'Pull Requests', 'Repository', 'Pull Requests', 'Repository', 'Commits', 'Pull Requests', 'Repository', 'Commits', 'Commits', 'Pull Requests', 'Repository', 'Commits', 'Repository', 'Pull Requests', 'Pull Requests', 'Repository', 'Repository', 'Pull Requests', 'Repository', 'Repository', 'Pull Requests', 'Repository', 'Pull Requests', 'Repository', 'Commits', 'Commits', 'Pull Requests', 'Repository', 'Repository', 'Pull Requests', 'Pull Requests', 'Repository', 'Commits', 'Commits', 'Pull Requests', 'Repository', 'Commits', 'Repository', 'Pull Requests', 'Repository', 'Pull Requests', 'Repository', 'Pull Requests', 'Pull Requests', 'Repository', 'Repository', 'Pull Requests', 'Commits', 'Repository', 'Pull Requests', 'Repository', 'Pull Requests', 'Commits', 'Commits', 'Commits', 'Repository', 'Pull Requests', 'Repository', 'Pull Requests', 'Repository', 'Pull Requests', 'Repository', 'Pull Requests', 'Commits', 'Repository', 'Pull Requests', 'Pull Requests', 'Repository', 'Pull Requests', 'Repository', 'Repository', 'Pull Requests', 'Repository', 'Pull Requests', 'Commits', 'Repository', 'Pull Requests', 'Repository', 'Pull Requests', 'Pull Requests', 'Repository', 'Repository', 'Pull Requests', 'Repository', 'Pull Requests', 'Pull Requests', 'Repository', 'Repository', 'Pull Requests', 'Repository', 'Pull Requests', 'Commits', 'Repository', 'Pull Requests', 'Repository', 'Pull Requests', 'Repository', 'Pull Requests', 'Repository', 'Pull Requests', 'Repository', 'Pull Requests', 'Commits', 'Repository', 'Pull Requests', 'Repository', 'Pull Requests', 'Repository', 'Pull Requests', 'Pull Requests', 'Repository', 'Pull Requests', 'Repository', 'Repository', 'Pull Requests', 'Pull Requests', 'Repository', 'Repository', 'Pull Requests', 'Repository', 'Pull Requests', 'Commits', 'Pull Requests', 'Commits', 'Repository', 'Repository', 'Commits', 'Pull Requests', 'Pull Requests', 'Repository', 'Repository', 'Repository', 'Commits', 'Pull Requests', 'Pull Requests', 'Commits', 'Repository', 'Repository', 'Repository', 'Commits', 'Pull Requests', 'Pull Requests', 'Repository', 'Commits', 'Repository', 'Pull Requests', 'Pull Requests', 'Repository', 'Pull Requests', 'Commits', 'Repository', 'Pull Requests', 'Pull Requests', 'Issues', 'Pull Requests', 'Repository', 'Repository', 'Issues', 'Pull Requests', 'Pull Requests', 'Pull Requests', 'Pull Requests', 'Pull Requests', 'Pull Requests', 'Pull Requests', 'Pull Requests', 'Commits', 'Repository', 'Pull Requests', 'Issues', 'Pull Requests', 'Commits', 'Pull Requests', 'Commits', 'Pull Requests', 'Pull Requests', 'Repository', 'Commits', 'Pull Requests', 'Pull Requests', 'Pull Requests', 'Commits', 'Commits', 'Repository', 'Pull Requests', 'Pull Requests', 'Pull Requests', 'Commits', 'Pull Requests', 'Pull Requests', 'Pull Requests', 'Pull Requests', 'Pull Requests', 'Repository', 'Commits', 'Pull Requests', 'Pull Requests', 'Commits', 'Repository', 'Pull Requests', 'Pull Requests', 'Pull Requests', 'Commits', 'Commits', 'Repository', 'Pull Requests', 'Pull Requests', 'Commits', 'Commits', 'Commits', 'Commits', 'Commits', 'Commits', 'Commits', 'Commits', 'Pull Requests', 'Repository', 'Repository', 'Commits', 'Repository', 'Pull Requests', 'Commits', 'Commits', 'Commits', 'Commits', 'Commits', 'Pull Requests', 'Repository', 'Pull Requests', 'Pull Requests', 'Pull Requests', 'Pull Requests', 'Pull Requests', 'Pull Requests', 'Pull Requests', 'Pull Requests', 'Pull Requests', 'Pull Requests', 'Pull Requests', 'Pull Requests', 'Pull Requests', 'Pull Requests', 'Pull Requests', 'Commits', 'Pull Requests', 'Pull Requests', 'Pull Requests', 'Pull Requests', 'Pull Requests', 'Pull Requests', 'Commits', 'Repository', 'Pull Requests', 'Pull Requests', 'Pull Requests', 'Pull Requests', 'Repository', 'Pull Requests', 'Pull Requests', 'Issues', 'Pull Requests', 'Pull Requests', 'Pull Requests', 'Pull Requests', 'Pull Requests', 'Pull Requests', 'Pull Requests', 'Pull Requests', 'Pull Requests', 'Pull Requests', 'Pull Requests', 'Pull Requests', 'Pull Requests', 'Pull Requests', 'Pull Requests', 'Pull Requests', 'Pull Requests', 'Pull Requests', 'Pull Requests', 'Pull Requests', 'Pull Requests', 'Pull Requests', 'Pull Requests', 'Pull Requests', 'Pull Requests', 'Pull Requests', 'Repository', 'Pull Requests', 'Issues', 'Commits', 'Repository', 'Pull Requests', 'Pull Requests', 'Repository', 'Pull Requests', 'Pull Requests', 'Pull Requests', 'Commits', 'Pull Requests', 'Pull Requests', 'Pull Requests', 'Pull Requests', 'Pull Requests', 'Pull Requests', 'Repository', 'Commits', 'Pull Requests', 'Commits', 'Pull Requests', 'Repository', 'Commits', 'Pull Requests', 'Repository', 'Pull Requests', 'Pull Requests', 'Pull Requests', 'Repository', 'Repository', 'Repository', 'Commits', 'Pull Requests', 'Pull Requests', 'Pull Requests', 'Issues', 'Commits', 'Pull Requests', 'Pull Requests', 'Issues', 'Pull Requests', 'Pull Requests', 'Pull Requests', 'Pull Requests', 'Pull Requests', 'Pull Requests', 'Repository', 'Repository', 'Repository', 'Commits', 'Pull Requests', 'Commits', 'Pull Requests', 'Pull Requests', 'Pull Requests', 'Pull Requests', 'Pull Requests', 'Pull Requests', 'Pull Requests', 'Pull Requests', 'Pull Requests', 'Pull Requests', 'Pull Requests', 'Pull Requests', 'Repository', 'Repository', 'Repository', 'Repository', 'Repository', 'Repository', 'Repository', 'Repository', 'Repository', 'Repository', 'Commits', 'Repository', 'Pull Requests', 'Pull Requests', 'Pull Requests', 'Commits', 'Issues', 'Repository', 'Repository', 'Issues', 'Repository', 'Issues', 'Repository', 'Commits', 'Repository', 'Commits', 'Pull Requests', 'Commits', 'Commits', 'Repository', 'Pull Requests', 'Repository', 'Repository', 'Repository', 'Pull Requests', 'Commits', 'Repository', 'Repository', 'Repository', 'Pull Requests', 'Pull Requests', 'Repository', 'Repository', 'Repository', 'Pull Requests', 'Repository', 'Repository', 'Commits', 'Pull Requests', 'Repository', 'Commits', 'Pull Requests', 'Pull Requests', 'Repository', 'Repository', 'Repository', 'Repository', 'Repository', 'Repository', 'Commits', 'Repository', 'Pull Requests', 'Pull Requests', 'Repository', 'Repository', 'Repository', 'Repository', 'Commits', 'Pull Requests', 'Pull Requests', 'Repository', 'Repository', 'Repository', 'Repository', 'Commits', 'Pull Requests', 'Pull Requests', 'Repository', 'Repository', 'Pull Requests', 'Repository', 'Repository', 'Repository', 'Repository', 'Repository', 'Repository', 'Repository', 'Repository', 'Issues', 'Commits', 'Pull Requests', 'Repository', 'Repository', 'Repository', 'Issues', 'Commits', 'Commits', 'Repository', 'Commits', 'Commits', 'Issues', 'Issues', 'Commits', 'Issues', 'Commits', 'Repository', 'Repository', 'Commits', 'Pull Requests', 'Commits', 'Repository', 'Commits', 'Commits', 'Commits', 'Commits', 'Commits', 'Commits', 'Commits', 'Commits', 'Commits', 'Commits', 'Commits', 'Commits', 'Commits', 'Issues', 'Issues', 'Commits', 'Commits', 'Commits', 'Commits', 'Commits', 'Commits', 'Commits', 'Commits', 'Commits', 'Commits', 'Commits', 'Commits', 'Commits', 'Commits', 'Commits', 'Commits', 'Issues', 'Commits', 'Commits', 'Commits', 'Commits', 'Commits', 'Issues', 'Commits', 'Issues', 'Commits', 'Repository', 'Repository', 'Issues', 'Issues', 'Issues', 'Issues', 'Issues', 'Pull Requests', 'Repository', 'Repository', 'Commits', 'Issues', 'Issues', 'Commits', 'Commits', 'Commits', 'Pull Requests', 'Commits', 'Repository', 'Commits', 'Pull Requests', 'Pull Requests', 'Repository', 'Commits', 'Repository', 'Commits', 'Repository', 'Repository', 'Repository', 'Repository', 'Commits', 'Commits', 'Commits', 'Commits', 'Commits', 'Commits', 'Commits', 'Commits', 'Commits', 'Commits', 'Commits', 'Commits', 'Commits', 'Commits', 'Commits', 'Issues', 'Commits', 'Commits', 'Commits', 'Commits', 'Commits', 'Issues', 'Commits', 'Commits', 'Commits', 'Issues', 'Commits', 'Issues', 'Commits', 'Commits', 'Issues', 'Commits', 'Pull Requests', 'Issues', 'Issues', 'Commits', 'Issues', 'Commits', 'Commits', 'Issues', 'Issues', 'Commits', 'Repository', 'Repository', 'Issues', 'Issues', 'Issues', 'Issues', 'Commits', 'Commits', 'Commits', 'Commits', 'Issues', 'Issues', 'Issues', 'Issues', 'Issues', 'Issues', 'Commits', 'Commits', 'Repository', 'Repository', 'Issues', 'Issues', 'Issues', 'Commits', 'Issues', 'Issues', 'Issues', 'Commits', 'Commits', 'Commits', 'Issues', 'Issues', 'Issues', 'Issues', 'Issues', 'Issues', 'Commits', 'Issues', 'Issues', 'Issues', 'Issues', 'Issues', 'Issues', 'Issues', 'Issues', 'Issues', 'Issues', 'Issues', 'Issues', 'Issues', 'Commits', 'Issues', 'Issues', 'Issues', 'Commits', 'Commits', 'Commits', 'Issues', 'Repository', 'Repository', 'Issues', 'Issues', 'Commits', 'Commits', 'Issues', 'Repository', 'Repository', 'Issues', 'Issues', 'Issues', 'Issues', 'Issues', 'Commits', 'Issues', 'Issues', 'Commits', 'Commits', 'Commits', 'Commits', 'Commits', 'Commits', 'Commits', 'Commits', 'Commits', 'Issues', 'Commits', 'Commits', 'Commits', 'Pull Requests', 'Repository', 'Commits', 'Commits', 'Commits', 'Commits', 'Repository', 'Repository', 'Issues', 'Issues', 'Commits', 'Repository', 'Repository', 'Issues', 'Issues', 'Repository', 'Repository', 'Issues', 'Issues', 'Commits', 'Commits', 'Repository', 'Repository', 'Commits', 'Commits', 'Commits', 'Commits', 'Commits', 'Commits', 'Commits', 'Commits', 'Commits', 'Pull Requests', 'Issues', 'Issues', 'Pull Requests', 'Commits', 'Repository', 'Issues', 'Commits', 'Commits', 'Commits', 'Commits', 'Commits', 'Commits', 'Commits', 'Issues', 'Issues', 'Commits', 'Issues', 'Commits', 'Commits', 'Commits', 'Issues', 'Repository', 'Commits', 'Repository', 'Commits', 'Commits', 'Commits', 'Issues', 'Repository', 'Commits', 'Issues', 'Commits', 'Commits', 'Commits', 'Commits', 'Commits', 'Commits', 'Commits', 'Commits', 'Commits', 'Issues', 'Commits', 'Issues', 'Commits', 'Issues', 'Issues', 'Commits', 'Commits', 'Commits', 'Repository', 'Pull Requests', 'Commits', 'Repository', 'Pull Requests', 'Commits', 'Repository', 'Pull Requests', 'Commits', 'Repository', 'Pull Requests', 'Commits', 'Repository', 'Pull Requests', 'Repository', 'Commits', 'Pull Requests', 'Commits', 'Repository', 'Pull Requests', 'Commits', 'Repository', 'Pull Requests', 'Pull Requests', 'Repository', 'Commits', 'Commits', 'Commits', 'Commits', 'Commits', 'Commits', 'Commits', 'Commits', 'Commits', 'Issues', 'Issues', 'Issues', 'Issues', 'Issues', 'Issues', 'Issues', 'Issues', 'Issues', 'Issues', 'Issues', 'Issues', 'Issues', 'Issues', 'Issues', 'Issues', 'Issues', 'Issues', 'Issues', 'Issues', 'Issues', 'Issues', 'Issues', 'Issues', 'Issues', 'Issues', 'Issues', 'Issues', 'Issues', 'Issues', 'Issues', 'Issues', 'Issues', 'Issues', 'Issues', 'Issues', 'Issues', 'Issues', 'Issues', 'Issues', 'Issues', 'Issues', 'Issues', 'Issues', 'Issues', 'Issues', 'Issues', 'Issues', 'Issues', 'Issues', 'Issues', 'Issues', 'Issues', 'Issues', 'Commits', 'Repository', 'Pull Requests', 'Repository', 'Commits', 'Pull Requests', 'Commits', 'Repository', 'Pull Requests', 'Repository', 'Commits', 'Pull Requests', 'Issues', 'Issues', 'Issues', 'Issues', 'Issues', 'Issues', 'Issues', 'Issues', 'Issues', 'Issues', 'Issues', 'Issues', 'Issues', 'Issues', 'Issues', 'Issues', 'Issues', 'Issues', 'Issues', 'Issues', 'Issues', 'Issues', 'Issues', 'Issues', 'Issues', 'Issues', 'Issues', 'Issues', 'Issues', 'Issues', 'Issues', 'Issues', 'Issues', 'Issues', 'Issues', 'Issues', 'Issues', 'Issues', 'Issues', 'Issues', 'Issues', 'Issues', 'Issues', 'Issues', 'Issues', 'Issues', 'Issues', 'Issues', 'Issues', 'Issues', 'Issues', 'Issues', 'Issues', 'Issues', 'Commits', 'Commits', 'Commits', 'Commits', 'Commits', 'Commits', 'Commits', 'Commits', 'Repository', 'Repository', 'Commits', 'Repository', 'Commits', 'Issues', 'Issues', 'Pull Requests', 'Pull Requests', 'Pull Requests', 'Pull Requests', 'Pull Requests', 'Pull Requests', 'Pull Requests', 'Pull Requests', 'Pull Requests', 'Pull Requests', 'Pull Requests', 'Pull Requests', 'Pull Requests', 'Issues', 'Pull Requests', 'Pull Requests', 'Pull Requests', 'Pull Requests', 'Issues', 'Commits', 'Commits', 'Pull Requests', 'Pull Requests', 'Commits', 'Commits', 'Commits', 'Pull Requests', 'Pull Requests', 'Pull Requests', 'Pull Requests', 'Pull Requests', 'Pull Requests', 'Commits', 'Issues', 'Commits', 'Issues', 'Pull Requests', 'Commits', 'Repository', 'Commits', 'Repository', 'Pull Requests', 'Pull Requests', 'Pull Requests', 'Pull Requests', 'Pull Requests', 'Pull Requests', 'Commits', 'Issues', 'Issues', 'Issues', 'Issues', 'Issues', 'Issues', 'Issues', 'Issues', 'Issues', 'Issues', 'Issues', 'Issues', 'Issues', 'Issues', 'Commits', 'Commits', 'Pull Requests', 'Issues', 'Issues', 'Issues', 'Issues', 'Issues', 'Issues', 'Issues', 'Issues', 'Issues', 'Issues', 'Issues', 'Issues', 'Issues', 'Issues', 'Issues', 'Commits', 'Repository', 'Issues', 'Pull Requests', 'Repository', 'Pull Requests', 'Commits', 'Repository', 'Commits', 'Repository', 'Pull Requests', 'Commits', 'Pull Requests', 'Repository', 'Issues', 'Commits', 'Repository', 'Pull Requests', 'Commits', 'Commits', 'Pull Requests', 'Repository', 'Repository', 'Commits', 'Pull Requests', 'Commits', 'Commits', 'Issues', 'Commits', 'Commits', 'Commits', 'Commits', 'Commits', 'Commits', 'Commits', 'Commits', 'Commits', 'Commits', 'Commits', 'Commits', 'Commits', 'Commits', 'Commits', 'Issues', 'Issues', 'Commits', 'Commits', 'Commits', 'Commits', 'Commits', 'Commits', 'Commits', 'Commits', 'Commits', 'Commits', 'Commits', 'Commits', 'Commits', 'Commits', 'Commits', 'Commits', 'Commits', 'Repository', 'Repository', 'Commits', 'Commits', 'Commits', 'Commits', 'Commits', 'Commits', 'Commits', 'Commits', 'Commits', 'Commits', 'Commits', 'Commits', 'Commits', 'Commits', 'Commits', 'Commits', 'Commits', 'Commits', 'Commits', 'Commits', 'Commits', 'Commits', 'Repository', 'Repository', 'Commits', 'Commits', 'Commits', 'Repository', 'Commits', 'Commits', 'Issues', 'Repository', 'Repository', 'Pull Requests', 'Commits', 'Repository', 'Commits', 'Repository', 'Commits', 'Repository', 'Repository', 'Repository', 'Issues', 'Issues', 'Commits', 'Pull Requests', 'Pull Requests', 'Repository', 'Repository', 'Commits', 'Pull Requests', 'Pull Requests', 'Repository', 'Repository', 'Commits', 'Pull Requests', 'Pull Requests', 'Repository', 'Repository', 'Commits', 'Pull Requests', 'Pull Requests', 'Commits', 'Repository', 'Repository', 'Commits', 'Pull Requests', 'Pull Requests', 'Repository', 'Repository', 'Repository', 'Commits', 'Pull Requests', 'Pull Requests', 'Repository', 'Repository', 'Commits', 'Pull Requests', 'Pull Requests', 'Repository', 'Repository', 'Commits', 'Pull Requests', 'Pull Requests', 'Repository', 'Repository', 'Commits', 'Pull Requests', 'Pull Requests', 'Repository', 'Repository', 'Commits', 'Pull Requests', 'Pull Requests', 'Repository', 'Repository', 'Commits', 'Pull Requests', 'Pull Requests', 'Commits', 'Repository', 'Repository', 'Commits', 'Issues', 'Pull Requests', 'Pull Requests', 'Repository', 'Repository', 'Commits', 'Pull Requests', 'Pull Requests', 'Repository', 'Repository', 'Commits', 'Pull Requests', 'Pull Requests', 'Repository', 'Commits', 'Repository', 'Pull Requests', 'Pull Requests', 'Repository', 'Repository', 'Commits', 'Pull Requests', 'Pull Requests', 'Repository', 'Repository', 'Commits', 'Pull Requests', 'Pull Requests', 'Commits', 'Commits', 'Repository', 'Repository', 'Commits', 'Pull Requests', 'Pull Requests', 'Commits', 'Commits', 'Repository', 'Repository', 'Commits', 'Pull Requests', 'Pull Requests', 'Repository', 'Commits', 'Repository', 'Repository', 'Commits', 'Pull Requests', 'Pull Requests', 'Commits', 'Repository', 'Repository', 'Commits', 'Pull Requests', 'Pull Requests', 'Commits', 'Repository', 'Repository', 'Commits', 'Pull Requests', 'Pull Requests', 'Commits', 'Repository', 'Repository', 'Commits', 'Pull Requests', 'Pull Requests', 'Repository', 'Repository', 'Repository', 'Commits', 'Pull Requests', 'Pull Requests', 'Repository', 'Repository', 'Commits', 'Commits', 'Repository', 'Commits', 'Pull Requests', 'Pull Requests', 'Repository', 'Repository', 'Commits', 'Pull Requests', 'Pull Requests', 'Commits', 'Repository', 'Repository', 'Commits', 'Pull Requests', 'Pull Requests', 'Repository', 'Repository', 'Commits', 'Pull Requests', 'Pull Requests', 'Repository', 'Repository', 'Commits', 'Pull Requests', 'Pull Requests', 'Repository', 'Repository', 'Commits', 'Pull Requests', 'Pull Requests', 'Repository', 'Repository', 'Commits', 'Pull Requests', 'Pull Requests', 'Commits', 'Repository', 'Repository', 'Pull Requests', 'Pull Requests', 'Pull Requests', 'Commits', 'Repository', 'Pull Requests', 'Commits', 'Commits', 'Pull Requests', 'Issues', 'Commits', 'Repository', 'Pull Requests', 'Pull Requests', 'Repository', 'Commits', 'Commits', 'Commits', 'Commits', 'Commits', 'Commits', 'Pull Requests', 'Repository', 'Commits', 'Pull Requests', 'Pull Requests', 'Pull Requests', 'Repository', 'Commits', 'Pull Requests', 'Issues', 'Commits', 'Pull Requests', 'Pull Requests', 'Pull Requests', 'Commits', 'Pull Requests', 'Pull Requests', 'Commits', 'Pull Requests', 'Pull Requests', 'Commits', 'Pull Requests', 'Pull Requests', 'Commits', 'Pull Requests', 'Pull Requests', 'Pull Requests', 'Pull Requests', 'Repository', 'Commits', 'Pull Requests', 'Pull Requests', 'Pull Requests', 'Pull Requests', 'Commits', 'Pull Requests', 'Pull Requests', 'Commits', 'Commits', 'Commits', 'Issues', 'Pull Requests', 'Pull Requests', 'Pull Requests', 'Pull Requests', 'Repository', 'Commits', 'Pull Requests', 'Pull Requests', 'Pull Requests', 'Pull Requests', 'Pull Requests', 'Pull Requests', 'Commits', 'Pull Requests', 'Pull Requests', 'Commits', 'Commits', 'Commits', 'Commits', 'Commits', 'Commits', 'Pull Requests', 'Commits', 'Pull Requests', 'Commits', 'Pull Requests', 'Commits', 'Pull Requests', 'Commits', 'Pull Requests', 'Commits', 'Pull Requests', 'Pull Requests', 'Pull Requests', 'Pull Requests', 'Pull Requests', 'Pull Requests', 'Pull Requests', 'Pull Requests', 'Pull Requests', 'Pull Requests', 'Pull Requests', 'Pull Requests', 'Pull Requests', 'Pull Requests', 'Pull Requests', 'Pull Requests', 'Commits', 'Pull Requests', 'Pull Requests', 'Commits', 'Pull Requests', 'Pull Requests', 'Issues', 'Commits', 'Pull Requests', 'Repository', 'Pull Requests', 'Pull Requests', 'Pull Requests', 'Pull Requests', 'Pull Requests', 'Pull Requests', 'Pull Requests', 'Pull Requests', 'Pull Requests', 'Pull Requests', 'Issues', 'Commits', 'Pull Requests', 'Pull Requests', 'Commits', 'Repository', 'Pull Requests', 'Commits', 'Repository', 'Pull Requests', 'Commits', 'Repository', 'Pull Requests', 'Repository', 'Commits', 'Pull Requests', 'Pull Requests', 'Commits', 'Pull Requests', 'Pull Requests', 'Commits', 'Pull Requests', 'Pull Requests', 'Commits', 'Pull Requests', 'Pull Requests', 'Pull Requests', 'Pull Requests', 'Pull Requests', 'Pull Requests', 'Repository', 'Pull Requests', 'Pull Requests', 'Pull Requests', 'Commits', 'Commits', 'Commits', 'Commits', 'Commits', 'Commits', 'Commits', 'Commits', 'Pull Requests', 'Pull Requests', 'Pull Requests', 'Pull Requests', 'Pull Requests', 'Pull Requests', 'Repository', 'Pull Requests', 'Repository', 'Commits', 'Pull Requests', 'Pull Requests', 'Pull Requests', 'Pull Requests', 'Pull Requests', 'Commits', 'Repository', 'Repository', 'Commits', 'Pull Requests', 'Pull Requests', 'Pull Requests', 'Commits', 'Pull Requests', 'Pull Requests', 'Pull Requests', 'Pull Requests', 'Pull Requests', 'Commits', 'Pull Requests', 'Repository', 'Commits', 'Pull Requests', 'Commits', 'Pull Requests', 'Commits', 'Pull Requests', 'Pull Requests', 'Commits', 'Pull Requests', 'Pull Requests', 'Repository', 'Commits', 'Commits', 'Commits', 'Commits', 'Commits', 'Repository', 'Pull Requests', 'Pull Requests', 'Repository', 'Commits', 'Pull Requests', 'Pull Requests', 'Commits', 'Pull Requests', 'Pull Requests', 'Issues', 'Pull Requests', 'Pull Requests', 'Pull Requests', 'Commits', 'Pull Requests', 'Repository', 'Commits', 'Commits', 'Pull Requests', 'Commits', 'Pull Requests', 'Pull Requests', 'Commits', 'Pull Requests', 'Pull Requests', 'Commits', 'Pull Requests', 'Commits', 'Pull Requests', 'Commits', 'Pull Requests', 'Commits', 'Pull Requests', 'Commits', 'Pull Requests', 'Pull Requests', 'Pull Requests', 'Pull Requests', 'Pull Requests', 'Pull Requests', 'Pull Requests', 'Pull Requests', 'Commits', 'Commits', 'Commits', 'Commits', 'Commits', 'Commits', 'Issues', 'Commits', 'Pull Requests', 'Pull Requests', 'Pull Requests', 'Commits', 'Repository', 'Pull Requests', 'Pull Requests', 'Issues', 'Repository', 'Pull Requests', 'Pull Requests', 'Commits', 'Commits', 'Pull Requests', 'Pull Requests', 'Pull Requests', 'Commits', 'Pull Requests', 'Pull Requests', 'Repository', 'Pull Requests', 'Repository', 'Pull Requests', 'Repository', 'Commits', 'Pull Requests', 'Commits', 'Pull Requests', 'Pull Requests', 'Pull Requests', 'Pull Requests', 'Pull Requests', 'Pull Requests', 'Pull Requests', 'Pull Requests', 'Commits', 'Repository', 'Commits', 'Repository', 'Commits', 'Repository', 'Commits', 'Repository', 'Commits', 'Repository', 'Issues', 'Pull Requests', 'Repository', 'Repository', 'Issues', 'Issues', 'Repository', 'Issues', 'Issues', 'Pull Requests', 'Repository', 'Repository', 'Pull Requests', 'Commits', 'Pull Requests', 'Repository', 'Pull Requests', 'Repository', 'Pull Requests', 'Repository', 'Pull Requests', 'Repository', 'Issues', 'Issues', 'Issues', 'Commits', 'Pull Requests', 'Pull Requests', 'Issues', 'Issues', 'Repository', 'Issues', 'Pull Requests', 'Repository', 'Pull Requests', 'Pull Requests', 'Pull Requests', 'Repository', 'Pull Requests', 'Repository', 'Pull Requests', 'Repository', 'Repository', 'Commits', 'Pull Requests', 'Pull Requests', 'Commits', 'Repository', 'Issues', 'Pull Requests', 'Repository', 'Commits', 'Commits', 'Pull Requests', 'Pull Requests', 'Pull Requests', 'Pull Requests', 'Pull Requests', 'Commits', 'Pull Requests', 'Pull Requests', 'Pull Requests', 'Pull Requests', 'Pull Requests', 'Pull Requests', 'Pull Requests', 'Commits', 'Pull Requests', 'Repository', 'Commits', 'Repository', 'Commits', 'Issues', 'Commits', 'Commits', 'Commits', 'Commits', 'Repository', 'Commits', 'Pull Requests', 'Commits', 'Commits', 'Repository', 'Commits', 'Pull Requests', 'Repository', 'Commits', 'Pull Requests', 'Commits', 'Repository', 'Commits', 'Issues', 'Pull Requests', 'Repository', 'Pull Requests', 'Pull Requests', 'Issues', 'Commits', 'Commits', 'Repository', 'Pull Requests', 'Issues', 'Commits', 'Commits', 'Commits', 'Pull Requests', 'Repository', 'Repository', 'Pull Requests', 'Issues', 'Commits', 'Issues', 'Repository', 'Commits', 'Pull Requests', 'Pull Requests', 'Commits', 'Commits', 'Issues', 'Pull Requests', 'Repository', 'Repository', 'Repository', 'Pull Requests', 'Pull Requests', 'Pull Requests', 'Pull Requests', 'Commits', 'Issues', 'Issues', 'Commits', 'Commits', 'Commits', 'Issues', 'Commits', 'Commits', 'Commits', 'Commits', 'Pull Requests', 'Repository', 'Pull Requests', 'Repository', 'Pull Requests', 'Commits', 'Repository', 'Repository', 'Pull Requests', 'Pull Requests', 'Repository', 'Commits', 'Commits', 'Commits', 'Commits', 'Repository', 'Repository', 'Commits', 'Commits', 'Pull Requests', 'Repository', 'Issues', 'Commits', 'Commits', 'Commits', 'Issues', 'Pull Requests', 'Repository', 'Repository', 'Pull Requests', 'Issues', 'Issues', 'Issues', 'Commits', 'Pull Requests', 'Commits', 'Repository', 'Pull Requests', 'Repository', 'Commits', 'Commits', 'Pull Requests', 'Commits', 'Repository', 'Pull Requests', 'Repository', 'Commits', 'Pull Requests', 'Pull Requests', 'Commits', 'Commits', 'Commits', 'Pull Requests', 'Pull Requests', 'Pull Requests', 'Pull Requests', 'Commits', 'Issues', 'Pull Requests', 'Commits', 'Repository', 'Pull Requests', 'Repository', 'Pull Requests', 'Repository', 'Repository', 'Repository', 'Repository', 'Repository', 'Commits', 'Commits', 'Issues', 'Commits', 'Commits', 'Commits', 'Commits', 'Pull Requests', 'Repository', 'Commits', 'Commits', 'Issues', 'Repository', 'Issues', 'Pull Requests', 'Issues', 'Pull Requests', 'Repository', 'Commits', 'Pull Requests', 'Pull Requests', 'Commits', 'Repository', 'Commits', 'Issues', 'Pull Requests', 'Pull Requests', 'Commits', 'Pull Requests', 'Pull Requests', 'Pull Requests', 'Pull Requests', 'Issues', 'Commits', 'Commits', 'Commits', 'Pull Requests', 'Pull Requests', 'Commits', 'Commits', 'Commits', 'Repository', 'Issues', 'Commits', 'Issues', 'Issues', 'Repository', 'Issues', 'Commits', 'Pull Requests', 'Pull Requests', 'Commits', 'Pull Requests', 'Pull Requests', 'Pull Requests', 'Pull Requests', 'Pull Requests', 'Pull Requests', 'Commits', 'Commits', 'Commits', 'Commits', 'Issues', 'Issues', 'Commits', 'Issues', 'Repository', 'Issues', 'Pull Requests', 'Pull Requests', 'Pull Requests', 'Pull Requests', 'Repository', 'Issues', 'Issues', 'Commits', 'Pull Requests', 'Repository', 'Repository', 'Repository', 'Commits', 'Commits', 'Commits', 'Repository', 'Repository', 'Commits', 'Repository', 'Pull Requests', 'Pull Requests', 'Commits', 'Pull Requests', 'Pull Requests', 'Pull Requests', 'Repository', 'Issues', 'Commits', 'Commits', 'Commits', 'Pull Requests', 'Commits', 'Issues', 'Repository', 'Issues', 'Issues', 'Issues', 'Issues', 'Commits', 'Commits', 'Commits', 'Commits', 'Issues', 'Pull Requests', 'Pull Requests', 'Issues', 'Commits', 'Commits', 'Commits', 'Commits', 'Issues', 'Pull Requests', 'Issues', 'Commits', 'Commits', 'Commits', 'Commits', 'Issues', 'Issues', 'Issues', 'Issues', 'Pull Requests', 'Issues', 'Repository', 'Pull Requests', 'Pull Requests', 'Commits', 'Issues', 'Issues', 'Issues', 'Repository', 'Repository', 'Pull Requests', 'Repository', 'Commits', 'Issues', 'Commits', 'Pull Requests', 'Repository', 'Commits', 'Commits', 'Commits', 'Commits', 'Issues', 'Repository', 'Pull Requests', 'Repository', 'Issues', 'Repository', 'Commits', 'Commits', 'Pull Requests', 'Repository', 'Commits', 'Repository', 'Commits', 'Commits', 'Commits', 'Commits', 'Commits', 'Commits', 'Pull Requests', 'Pull Requests', 'Pull Requests', 'Pull Requests', 'Pull Requests', 'Pull Requests', 'Commits', 'Pull Requests', 'Repository', 'Commits', 'Commits', 'Commits', 'Commits', 'Commits', 'Repository', 'Repository', 'Repository', 'Repository', 'Repository', 'Repository', 'Commits', 'Pull Requests', 'Pull Requests', 'Commits', 'Pull Requests', 'Pull Requests', 'Commits', 'Commits', 'Commits', 'Issues', 'Issues', 'Pull Requests', 'Pull Requests', 'Pull Requests', 'Pull Requests', 'Pull Requests', 'Pull Requests', 'Pull Requests', 'Pull Requests', 'Pull Requests', 'Pull Requests', 'Commits', 'Commits', 'Pull Requests', 'Pull Requests', 'Pull Requests', 'Issues', 'Issues', 'Repository', 'Repository', 'Commits', 'Commits', 'Commits', 'Pull Requests', 'Issues', 'Issues', 'Pull Requests', 'Repository', 'Commits', 'Repository', 'Issues', 'Commits', 'Repository', 'Commits', 'Issues', 'Issues', 'Repository', 'Pull Requests', 'Pull Requests', 'Issues', 'Issues', 'Issues', 'Pull Requests', 'Issues', 'Commits', 'Repository', 'Repository', 'Issues', 'Issues', 'Issues', 'Commits', 'Issues', 'Pull Requests', 'Pull Requests', 'Issues', 'Pull Requests', 'Pull Requests', 'Pull Requests', 'Issues', 'Issues', 'Pull Requests', 'Pull Requests', 'Pull Requests', 'Pull Requests', 'Pull Requests', 'Pull Requests', 'Pull Requests', 'Pull Requests', 'Pull Requests', 'Pull Requests', 'Pull Requests', 'Pull Requests', 'Repository', 'Pull Requests', 'Pull Requests', 'Pull Requests', 'Pull Requests', 'Pull Requests', 'Pull Requests', 'Pull Requests', 'Pull Requests', 'Issues', 'Issues', 'Issues', 'Commits', 'Repository', 'Issues', 'Commits', 'Issues', 'Issues', 'Pull Requests', 'Repository', 'Issues', 'Commits', 'Commits', 'Commits', 'Commits', 'Commits', 'Pull Requests', 'Pull Requests', 'Pull Requests', 'Pull Requests', 'Pull Requests', 'Commits', 'Commits', 'Repository', 'Issues', 'Issues', 'Issues', 'Pull Requests', 'Pull Requests', 'Commits', 'Issues', 'Issues', 'Repository', 'Repository', 'Commits', 'Commits', 'Pull Requests', 'Pull Requests', 'Commits', 'Pull Requests', 'Repository', 'Repository', 'Repository', 'Commits', 'Commits', 'Commits', 'Commits', 'Repository', 'Commits', 'Pull Requests', 'Issues', 'Commits', 'Pull Requests', 'Pull Requests', 'Commits', 'Issues', 'Commits', 'Repository', 'Commits', 'Pull Requests', 'Pull Requests', 'Repository', 'Commits', 'Commits', 'Repository', 'Commits', 'Pull Requests', 'Repository', 'Commits', 'Pull Requests', 'Repository', 'Pull Requests', 'Repository', 'Pull Requests', 'Repository', 'Commits', 'Commits', 'Commits', 'Commits', 'Commits', 'Commits', 'Commits', 'Commits', 'Repository', 'Repository', 'Commits', 'Commits', 'Commits', 'Commits', 'Commits', 'Commits', 'Repository', 'Issues', 'Commits', 'Commits', 'Issues', 'Commits', 'Commits', 'Commits', 'Commits', 'Commits', 'Commits', 'Commits', 'Commits', 'Commits', 'Commits', 'Commits', 'Commits', 'Commits', 'Commits', 'Commits', 'Commits', 'Commits', 'Commits', 'Commits', 'Commits', 'Commits', 'Commits', 'Commits', 'Commits', 'Commits', 'Commits', 'Commits', 'Issues', 'Commits', 'Commits', 'Repository', 'Commits', 'Commits', 'Commits', 'Commits', 'Commits', 'Commits', 'Pull Requests', 'Pull Requests', 'Issues', 'Pull Requests', 'Commits', 'Repository', 'Pull Requests', 'Commits', 'Pull Requests', 'Repository', 'Pull Requests', 'Repository', 'Commits', 'Pull Requests', 'Commits', 'Pull Requests', 'Commits', 'Commits', 'Repository', 'Repository', 'Pull Requests', 'Repository', 'Commits', 'Commits', 'Commits', 'Repository', 'Repository', 'Commits', 'Commits', 'Commits', 'Pull Requests', 'Repository', 'Commits', 'Commits', 'Commits', 'Commits', 'Commits', 'Commits', 'Commits', 'Repository', 'Repository', 'Pull Requests', 'Commits', 'Repository', 'Pull Requests', 'Pull Requests', 'Repository', 'Issues', 'Issues', 'Pull Requests', 'Repository', 'Commits', 'Pull Requests', 'Repository', 'Pull Requests', 'Repository', 'Commits', 'Pull Requests', 'Repository', 'Pull Requests', 'Repository', 'Pull Requests', 'Repository', 'Repository', 'Commits', 'Repository', 'Repository', 'Commits', 'Pull Requests', 'Pull Requests', 'Repository', 'Commits', 'Repository', 'Commits', 'Pull Requests', 'Pull Requests', 'Repository', 'Repository', 'Commits', 'Pull Requests', 'Pull Requests', 'Repository', 'Commits', 'Commits', 'Commits', 'Repository', 'Commits', 'Pull Requests', 'Repository', 'Pull Requests', 'Repository', 'Repository', 'Commits', 'Repository', 'Commits', 'Commits', 'Commits', 'Commits', 'Issues', 'Commits', 'Commits', 'Commits', 'Commits', 'Commits', 'Pull Requests', 'Repository', 'Repository', 'Repository', 'Repository', 'Commits', 'Repository', 'Pull Requests', 'Pull Requests', 'Repository', 'Pull Requests', 'Repository', 'Repository', 'Commits', 'Pull Requests', 'Pull Requests', 'Repository', 'Repository', 'Issues', 'Issues', 'Repository', 'Pull Requests', 'Commits', 'Repository', 'Repository', 'Commits', 'Pull Requests', 'Pull Requests', 'Repository', 'Repository', 'Pull Requests', 'Repository', 'Repository', 'Pull Requests', 'Repository', 'Commits', 'Pull Requests', 'Repository', 'Pull Requests', 'Repository', 'Pull Requests', 'Repository', 'Pull Requests', 'Pull Requests', 'Repository', 'Repository', 'Commits', 'Pull Requests', 'Repository', 'Pull Requests', 'Repository', 'Pull Requests', 'Repository', 'Pull Requests', 'Commits', 'Pull Requests', 'Repository', 'Commits', 'Repository', 'Commits', 'Repository', 'Repository', 'Repository', 'Pull Requests', 'Repository', 'Pull Requests', 'Repository', 'Pull Requests', 'Repository', 'Repository', 'Repository', 'Commits', 'Pull Requests', 'Pull Requests', 'Repository', 'Commits', 'Repository', 'Commits', 'Pull Requests', 'Pull Requests', 'Repository', 'Repository', 'Pull Requests', 'Commits', 'Repository', 'Pull Requests', 'Commits', 'Repository', 'Pull Requests', 'Commits', 'Repository', 'Pull Requests', 'Repository', 'Pull Requests', 'Commits', 'Commits', 'Commits', 'Issues', 'Commits', 'Commits', 'Pull Requests', 'Commits', 'Repository', 'Pull Requests', 'Repository', 'Commits', 'Commits', 'Commits', 'Commits', 'Repository', 'Repository', 'Repository', 'Repository', 'Repository', 'Commits', 'Issues', 'Commits', 'Commits', 'Commits', 'Commits', 'Commits', 'Pull Requests', 'Commits', 'Commits', 'Pull Requests', 'Commits', 'Pull Requests', 'Commits', 'Pull Requests', 'Issues', 'Repository', 'Commits', 'Pull Requests', 'Issues', 'Issues', 'Issues', 'Commits', 'Pull Requests', 'Issues', 'Issues', 'Issues', 'Issues', 'Issues', 'Issues', 'Issues', 'Issues', 'Issues', 'Issues', 'Issues', 'Issues', 'Issues', 'Issues', 'Repository', 'Repository', 'Commits', 'Commits', 'Issues', 'Issues', 'Commits', 'Issues', 'Commits', 'Commits', 'Issues', 'Commits', 'Commits', 'Pull Requests', 'Issues', 'Issues', 'Commits', 'Pull Requests', 'Issues', 'Issues', 'Issues', 'Commits', 'Pull Requests', 'Issues', 'Commits', 'Pull Requests', 'Pull Requests', 'Pull Requests', 'Pull Requests', 'Pull Requests', 'Issues', 'Pull Requests', 'Pull Requests', 'Commits', 'Pull Requests', 'Commits', 'Issues', 'Issues', 'Repository', 'Repository', 'Commits', 'Commits', 'Issues', 'Issues', 'Issues', 'Commits', 'Issues', 'Issues', 'Issues', 'Issues', 'Commits', 'Pull Requests', 'Issues', 'Commits', 'Issues', 'Issues', 'Issues', 'Issues', 'Issues', 'Issues', 'Repository', 'Repository', 'Commits', 'Commits', 'Issues', 'Commits', 'Issues', 'Commits', 'Commits', 'Commits', 'Issues', 'Issues', 'Commits', 'Pull Requests', 'Issues', 'Issues', 'Issues', 'Issues', 'Issues', 'Commits', 'Commits', 'Repository', 'Commits', 'Commits', 'Commits', 'Repository', 'Commits', 'Commits', 'Issues', 'Issues', 'Issues', 'Issues', 'Issues', 'Issues', 'Issues', 'Repository', 'Commits', 'Commits', 'Repository', 'Commits', 'Commits', 'Repository', 'Issues', 'Commits', 'Issues', 'Commits', 'Issues', 'Issues', 'Issues', 'Commits', 'Commits', 'Pull Requests', 'Issues', 'Issues', 'Issues', 'Issues', 'Commits', 'Commits', 'Commits', 'Commits', 'Pull Requests', 'Repository', 'Repository', 'Commits', 'Issues', 'Issues', 'Issues', 'Issues', 'Issues', 'Repository', 'Commits', 'Issues', 'Commits', 'Commits', 'Commits', 'Commits', 'Commits', 'Commits', 'Repository', 'Commits', 'Commits', 'Commits', 'Commits', 'Issues', 'Issues', 'Issues', 'Issues', 'Issues', 'Issues', 'Repository', 'Commits', 'Commits', 'Pull Requests', 'Repository', 'Repository', 'Commits', 'Issues', 'Commits', 'Issues', 'Issues', 'Issues', 'Commits', 'Issues', 'Issues', 'Commits', 'Commits', 'Issues', 'Issues', 'Commits', 'Commits', 'Repository', 'Commits', 'Commits', 'Pull Requests', 'Commits', 'Pull Requests', 'Issues', 'Commits', 'Commits', 'Repository', 'Commits', 'Repository', 'Commits', 'Commits', 'Commits', 'Commits', 'Commits', 'Commits', 'Commits', 'Commits', 'Repository', 'Commits', 'Repository', 'Commits', 'Commits', 'Commits', 'Pull Requests', 'Issues', 'Issues', 'Issues', 'Issues', 'Issues', 'Issues', 'Commits', 'Commits', 'Commits', 'Pull Requests', 'Issues', 'Issues', 'Issues', 'Issues', 'Issues', 'Issues', 'Issues', 'Repository', 'Commits', 'Repository', 'Commits', 'Commits', 'Pull Requests', 'Pull Requests', 'Repository', 'Commits', 'Commits', 'Commits', 'Repository', 'Repository', 'Issues', 'Commits', 'Commits', 'Commits', 'Commits', 'Commits', 'Pull Requests', 'Issues', 'Issues', 'Repository', 'Pull Requests', 'Pull Requests', 'Pull Requests', 'Pull Requests', 'Pull Requests', 'Pull Requests', 'Repository', 'Commits', 'Pull Requests', 'Commits', 'Pull Requests', 'Pull Requests', 'Commits', 'Issues', 'Pull Requests', 'Issues', 'Pull Requests', 'Issues', 'Pull Requests', 'Issues', 'Commits', 'Repository', 'Pull Requests', 'Issues', 'Commits', 'Commits', 'Repository', 'Commits', 'Pull Requests', 'Commits', 'Commits', 'Commits', 'Commits', 'Commits', 'Commits', 'Commits', 'Repository', 'Pull Requests', 'Issues', 'Commits', 'Pull Requests', 'Repository', 'Commits', 'Commits', 'Pull Requests', 'Pull Requests', 'Commits', 'Pull Requests', 'Pull Requests', 'Pull Requests', 'Repository', 'Repository', 'Commits', 'Repository', 'Repository', 'Issues', 'Issues', 'Issues', 'Pull Requests', 'Commits', 'Issues', 'Issues', 'Issues', 'Issues', 'Pull Requests', 'Issues', 'Issues', 'Issues', 'Commits', 'Pull Requests', 'Pull Requests', 'Commits', 'Pull Requests', 'Pull Requests', 'Issues', 'Commits', 'Pull Requests', 'Pull Requests', 'Issues', 'Commits', 'Commits', 'Commits', 'Pull Requests', 'Pull Requests', 'Issues', 'Commits', 'Commits', 'Commits', 'Commits', 'Commits', 'Commits', 'Commits', 'Commits', 'Commits', 'Commits', 'Commits', 'Commits', 'Repository', 'Repository', 'Commits', 'Commits', 'Commits', 'Commits', 'Commits', 'Commits', 'Issues', 'Issues', 'Pull Requests', 'Pull Requests', 'Commits', 'Commits', 'Commits', 'Commits', 'Commits', 'Commits', 'Commits', 'Commits', 'Commits', 'Issues', 'Commits', 'Commits', 'Commits', 'Commits', 'Commits', 'Pull Requests', 'Repository', 'Commits', 'Commits', 'Commits', 'Commits', 'Commits', 'Commits', 'Pull Requests', 'Issues', 'Commits', 'Commits', 'Commits', 'Issues', 'Repository', 'Repository', 'Commits', 'Commits', 'Commits', 'Commits', 'Commits', 'Commits', 'Issues', 'Repository', 'Commits', 'Repository', 'Repository', 'Commits', 'Commits', 'Pull Requests', 'Pull Requests', 'Repository', 'Pull Requests', 'Pull Requests', 'Pull Requests', 'Commits', 'Repository', 'Commits', 'Commits', 'Commits', 'Pull Requests', 'Commits', 'Commits', 'Commits', 'Pull Requests', 'Pull Requests', 'Commits', 'Pull Requests', 'Pull Requests', 'Issues', 'Issues', 'Issues', 'Commits', 'Repository', 'Issues', 'Issues', 'Issues', 'Commits', 'Commits', 'Pull Requests', 'Commits', 'Repository', 'Issues', 'Issues', 'Issues', 'Commits', 'Repository', 'Pull Requests', 'Pull Requests', 'Repository', 'Issues', 'Commits', 'Commits', 'Commits', 'Pull Requests', 'Issues', 'Issues', 'Commits', 'Pull Requests', 'Pull Requests', 'Issues', 'Issues', 'Issues', 'Issues', 'Issues', 'Issues', 'Commits', 'Pull Requests', 'Pull Requests', 'Commits', 'Issues', 'Issues', 'Issues', 'Commits', 'Issues', 'Issues', 'Issues', 'Issues', 'Issues', 'Commits', 'Issues', 'Issues', 'Issues', 'Repository', 'Issues', 'Issues', 'Issues', 'Commits', 'Repository', 'Issues', 'Issues', 'Repository', 'Pull Requests', 'Issues', 'Repository', 'Issues', 'Issues', 'Pull Requests', 'Commits', 'Commits', 'Commits', 'Commits', 'Commits', 'Commits', 'Commits', 'Pull Requests', 'Repository', 'Issues', 'Issues', 'Repository', 'Commits', 'Repository', 'Commits', 'Commits', 'Commits', 'Commits', 'Commits', 'Commits', 'Commits', 'Commits', 'Issues', 'Commits', 'Repository', 'Commits', 'Pull Requests', 'Pull Requests', 'Repository', 'Commits', 'Pull Requests', 'Issues', 'Commits', 'Commits', 'Commits', 'Commits', 'Commits', 'Pull Requests', 'Repository', 'Commits', 'Repository', 'Repository', 'Repository', 'Repository', 'Commits', 'Commits', 'Commits', 'Repository', 'Repository', 'Repository', 'Repository', 'Repository', 'Commits', 'Commits', 'Commits', 'Commits', 'Commits', 'Repository', 'Commits', 'Repository', 'Commits', 'Commits', 'Repository', 'Commits', 'Repository', 'Commits', 'Repository', 'Repository', 'Repository', 'Commits', 'Commits', 'Repository', 'Repository', 'Commits', 'Repository', 'Repository', 'Repository', 'Repository', 'Commits', 'Commits', 'Commits', 'Repository', 'Repository', 'Repository', 'Repository', 'Repository', 'Commits', 'Commits', 'Commits', 'Repository', 'Commits', 'Repository', 'Repository', 'Repository', 'Repository', 'Repository', 'Repository', 'Repository', 'Repository', 'Commits', 'Commits', 'Commits', 'Repository', 'Commits', 'Repository', 'Commits', 'Repository', 'Commits', 'Commits', 'Repository', 'Repository', 'Repository', 'Repository', 'Commits', 'Commits', 'Commits', 'Repository', 'Commits', 'Commits', 'Repository', 'Repository', 'Repository', 'Repository', 'Commits', 'Commits', 'Repository', 'Repository', 'Commits', 'Commits', 'Commits', 'Repository', 'Repository', 'Repository', 'Repository', 'Repository', 'Repository', 'Repository', 'Repository', 'Repository', 'Repository', 'Repository', 'Commits', 'Commits', 'Commits', 'Repository', 'Commits', 'Commits', 'Commits', 'Commits', 'Repository', 'Repository', 'Repository', 'Repository', 'Commits', 'Commits', 'Repository', 'Repository', 'Repository', 'Repository', 'Commits', 'Commits', 'Commits', 'Repository', 'Commits', 'Commits', 'Repository', 'Repository', 'Repository', 'Repository', 'Commits', 'Commits', 'Commits', 'Repository', 'Repository', 'Repository', 'Repository', 'Commits', 'Commits', 'Commits', 'Repository', 'Repository', 'Repository', 'Repository', 'Repository', 'Repository', 'Commits', 'Commits', 'Commits', 'Repository', 'Commits', 'Repository', 'Repository', 'Repository', 'Repository', 'Repository', 'Repository', 'Repository', 'Repository', 'Commits', 'Commits', 'Commits', 'Repository', 'Repository', 'Repository', 'Repository', 'Repository', 'Commits', 'Commits', 'Commits', 'Repository', 'Repository', 'Repository', 'Repository', 'Commits', 'Commits', 'Commits', 'Repository', 'Repository', 'Repository', 'Repository', 'Repository', 'Commits', 'Commits', 'Commits', 'Repository', 'Repository', 'Repository', 'Repository', 'Repository', 'Commits', 'Commits', 'Commits', 'Repository', 'Commits', 'Commits', 'Repository', 'Repository', 'Repository', 'Repository', 'Repository', 'Commits', 'Commits', 'Commits', 'Commits', 'Commits', 'Commits', 'Commits', 'Repository', 'Repository', 'Repository', 'Repository', 'Commits', 'Commits', 'Commits', 'Repository', 'Commits', 'Repository', 'Repository', 'Repository', 'Commits', 'Commits', 'Repository', 'Repository', 'Commits', 'Repository', 'Repository', 'Commits', 'Repository', 'Repository', 'Repository', 'Repository', 'Repository', 'Commits', 'Commits', 'Commits', 'Repository', 'Commits', 'Repository', 'Commits', 'Repository', 'Repository', 'Repository', 'Repository', 'Commits', 'Commits', 'Commits', 'Repository', 'Repository', 'Repository', 'Repository', 'Commits', 'Commits', 'Repository', 'Repository', 'Repository', 'Repository', 'Commits', 'Commits', 'Commits', 'Commits', 'Repository', 'Commits', 'Repository', 'Repository', 'Commits', 'Commits', 'Repository', 'Repository', 'Commits', 'Commits', 'Repository', 'Repository', 'Repository', 'Commits', 'Commits', 'Repository', 'Repository', 'Repository', 'Repository', 'Commits', 'Commits', 'Repository', 'Repository', 'Repository', 'Repository', 'Repository', 'Repository', 'Commits', 'Commits', 'Commits', 'Repository', 'Repository', 'Repository', 'Repository', 'Repository', 'Commits', 'Commits', 'Repository', 'Repository', 'Repository', 'Pull Requests', 'Commits', 'Issues', 'Issues', 'Issues', 'Commits', 'Pull Requests', 'Commits', 'Repository', 'Commits', 'Commits', 'Commits', 'Commits', 'Commits', 'Repository', 'Commits', 'Commits', 'Pull Requests', 'Commits', 'Pull Requests', 'Commits', 'Pull Requests', 'Commits', 'Commits', 'Commits', 'Commits', 'Pull Requests', 'Repository', 'Pull Requests', 'Repository', 'Repository', 'Repository', 'Issues', 'Commits', 'Commits', 'Repository', 'Commits', 'Issues', 'Pull Requests', 'Commits', 'Commits', 'Commits', 'Commits', 'Commits', 'Pull Requests', 'Commits', 'Pull Requests', 'Commits', 'Pull Requests', 'Commits', 'Commits', 'Issues', 'Pull Requests', 'Commits', 'Commits', 'Commits', 'Commits', 'Commits', 'Commits', 'Commits', 'Repository', 'Repository', 'Repository', 'Repository', 'Commits', 'Commits', 'Pull Requests', 'Commits', 'Pull Requests', 'Repository', 'Commits', 'Commits', 'Pull Requests', 'Repository', 'Pull Requests', 'Commits', 'Commits', 'Issues', 'Pull Requests', 'Pull Requests', 'Repository', 'Pull Requests', 'Pull Requests', 'Pull Requests', 'Pull Requests', 'Repository', 'Repository', 'Repository', 'Repository', 'Repository', 'Repository', 'Repository', 'Commits', 'Repository', 'Pull Requests', 'Commits', 'Commits', 'Repository', 'Pull Requests', 'Repository', 'Commits', 'Repository', 'Pull Requests', 'Pull Requests', 'Commits', 'Pull Requests', 'Pull Requests', 'Commits', 'Pull Requests', 'Repository', 'Pull Requests', 'Pull Requests', 'Pull Requests', 'Pull Requests', 'Pull Requests', 'Commits', 'Repository', 'Repository', 'Pull Requests', 'Commits', 'Repository', 'Pull Requests', 'Pull Requests', 'Repository', 'Commits', 'Repository', 'Pull Requests', 'Pull Requests', 'Repository', 'Repository', 'Repository', 'Repository', 'Pull Requests', 'Pull Requests', 'Pull Requests', 'Pull Requests', 'Pull Requests', 'Pull Requests', 'Pull Requests', 'Pull Requests', 'Pull Requests', 'Pull Requests', 'Pull Requests', 'Pull Requests', 'Pull Requests', 'Pull Requests', 'Pull Requests', 'Commits', 'Commits', 'Commits', 'Commits', 'Commits', 'Commits', 'Commits', 'Commits', 'Commits', 'Commits', 'Commits', 'Commits', 'Commits', 'Repository', 'Commits', 'Commits', 'Commits', 'Commits', 'Commits', 'Commits', 'Commits', 'Commits', 'Commits', 'Commits', 'Commits', 'Commits', 'Commits', 'Commits', 'Commits', 'Commits', 'Commits', 'Commits', 'Commits', 'Commits', 'Commits', 'Commits', 'Commits', 'Commits', 'Commits', 'Commits', 'Commits', 'Commits', 'Commits', 'Commits', 'Commits', 'Commits', 'Commits', 'Commits', 'Commits', 'Commits', 'Commits', 'Commits', 'Commits', 'Commits', 'Commits', 'Commits', 'Commits', 'Commits', 'Commits', 'Pull Requests', 'Repository', 'Commits', 'Commits', 'Commits', 'Commits', 'Repository', 'Pull Requests', 'Repository', 'Repository', 'Repository', 'Repository', 'Pull Requests', 'Commits', 'Repository', 'Pull Requests', 'Pull Requests', 'Repository', 'Repository', 'Pull Requests', 'Repository', 'Commits', 'Commits', 'Repository', 'Repository', 'Commits', 'Commits', 'Pull Requests', 'Repository', 'Pull Requests', 'Repository', 'Commits', 'Repository', 'Pull Requests', 'Pull Requests', 'Repository', 'Repository', 'Commits', 'Pull Requests', 'Pull Requests', 'Pull Requests', 'Commits', 'Pull Requests', 'Pull Requests', 'Pull Requests', 'Repository', 'Repository', 'Repository', 'Commits', 'Repository', 'Pull Requests', 'Pull Requests', 'Pull Requests', 'Pull Requests', 'Repository', 'Repository', 'Repository', 'Repository', 'Repository', 'Repository', 'Repository', 'Repository', 'Commits', 'Repository', 'Commits', 'Repository', 'Repository', 'Repository', 'Repository', 'Commits', 'Repository', 'Commits', 'Pull Requests', 'Repository', 'Pull Requests', 'Pull Requests', 'Pull Requests', 'Commits', 'Repository', 'Pull Requests', 'Pull Requests', 'Pull Requests', 'Commits', 'Pull Requests', 'Pull Requests', 'Pull Requests', 'Pull Requests', 'Pull Requests', 'Pull Requests', 'Repository', 'Pull Requests', 'Pull Requests', 'Pull Requests', 'Pull Requests', 'Pull Requests', 'Pull Requests', 'Pull Requests', 'Pull Requests', 'Pull Requests', 'Pull Requests', 'Commits', 'Repository', 'Pull Requests', 'Pull Requests', 'Commits', 'Repository', 'Pull Requests', 'Repository', 'Pull Requests', 'Repository', 'Commits', 'Repository', 'Issues', 'Pull Requests', 'Pull Requests', 'Repository', 'Repository', 'Repository', 'Repository', 'Pull Requests', 'Repository', 'Pull Requests', 'Pull Requests', 'Pull Requests', 'Commits', 'Commits', 'Commits', 'Commits', 'Pull Requests', 'Repository', 'Repository', 'Issues', 'Pull Requests', 'Repository', 'Repository', 'Repository', 'Commits', 'Pull Requests', 'Commits', 'Commits', 'Repository', 'Pull Requests', 'Pull Requests', 'Commits', 'Repository', 'Pull Requests', 'Repository', 'Pull Requests', 'Pull Requests', 'Repository', 'Repository', 'Repository', 'Repository', 'Pull Requests', 'Pull Requests', 'Pull Requests', 'Pull Requests', 'Pull Requests', 'Pull Requests', 'Pull Requests', 'Pull Requests', 'Pull Requests', 'Pull Requests', 'Repository', 'Repository', 'Commits', 'Commits', 'Commits', 'Commits', 'Commits', 'Commits', 'Commits', 'Commits', 'Commits', 'Commits', 'Commits', 'Commits', 'Commits', 'Pull Requests', 'Repository', 'Commits', 'Commits', 'Commits', 'Commits', 'Commits', 'Commits', 'Commits', 'Commits', 'Commits', 'Commits', 'Commits', 'Commits', 'Commits', 'Commits', 'Commits', 'Commits', 'Commits', 'Commits', 'Commits', 'Commits', 'Commits', 'Commits', 'Commits', 'Commits', 'Commits', 'Commits', 'Commits', 'Commits', 'Commits', 'Commits', 'Commits', 'Commits', 'Commits', 'Commits', 'Commits', 'Commits', 'Commits', 'Repository', 'Pull Requests', 'Commits', 'Commits', 'Commits', 'Commits', 'Commits', 'Commits', 'Commits', 'Commits', 'Commits', 'Commits', 'Commits', 'Commits', 'Commits', 'Commits', 'Commits', 'Commits', 'Commits', 'Commits', 'Commits', 'Commits', 'Commits', 'Commits', 'Commits', 'Commits', 'Commits', 'Pull Requests', 'Repository', 'Commits', 'Commits', 'Commits', 'Commits', 'Commits', 'Commits', 'Commits', 'Commits', 'Commits', 'Commits', 'Commits', 'Commits', 'Commits', 'Commits', 'Commits', 'Commits', 'Commits', 'Commits', 'Commits', 'Commits', 'Commits', 'Commits', 'Commits', 'Commits', 'Commits', 'Commits', 'Commits', 'Commits', 'Commits', 'Commits', 'Commits', 'Commits', 'Commits', 'Commits', 'Commits', 'Commits', 'Commits', 'Commits', 'Commits', 'Commits', 'Commits', 'Pull Requests', 'Repository', 'Commits', 'Commits', 'Commits', 'Commits', 'Commits', 'Commits', 'Commits', 'Commits', 'Commits', 'Commits', 'Pull Requests', 'Repository', 'Commits', 'Commits', 'Commits', 'Commits', 'Commits', 'Commits', 'Commits', 'Commits', 'Commits', 'Commits', 'Commits', 'Pull Requests', 'Repository', 'Commits', 'Commits', 'Commits', 'Commits', 'Commits', 'Commits', 'Commits', 'Commits', 'Commits', 'Commits', 'Commits', 'Commits', 'Commits', 'Commits', 'Commits', 'Commits', 'Commits', 'Commits', 'Commits', 'Commits', 'Commits', 'Commits', 'Commits', 'Commits', 'Commits', 'Commits', 'Commits', 'Commits', 'Commits', 'Commits', 'Commits', 'Commits', 'Commits', 'Commits', 'Commits', 'Commits', 'Commits', 'Commits', 'Commits', 'Commits', 'Commits', 'Commits', 'Commits', 'Commits', 'Commits', 'Commits', 'Commits', 'Commits', 'Commits', 'Commits', 'Commits', 'Commits', 'Commits', 'Commits', 'Commits', 'Commits', 'Commits', 'Commits', 'Pull Requests', 'Repository', 'Commits', 'Commits', 'Commits', 'Commits', 'Commits', 'Commits', 'Commits', 'Commits', 'Commits', 'Commits', 'Commits', 'Commits', 'Commits', 'Commits', 'Commits', 'Commits', 'Commits', 'Commits', 'Commits', 'Commits', 'Commits', 'Commits', 'Commits', 'Commits', 'Commits', 'Commits', 'Commits', 'Commits', 'Commits', 'Commits', 'Commits', 'Commits', 'Commits', 'Commits', 'Commits', 'Commits', 'Commits', 'Commits', 'Commits', 'Commits', 'Commits', 'Commits', 'Commits', 'Commits', 'Commits', 'Commits', 'Commits', 'Commits', 'Commits', 'Commits', 'Commits', 'Commits', 'Commits', 'Commits', 'Commits', 'Commits', 'Commits', 'Commits', 'Commits', 'Commits', 'Commits', 'Commits', 'Commits', 'Commits', 'Commits', 'Commits', 'Commits', 'Commits', 'Repository', 'Pull Requests', 'Commits', 'Commits', 'Commits', 'Commits', 'Commits', 'Commits', 'Commits', 'Commits', 'Commits', 'Commits', 'Commits', 'Commits', 'Commits', 'Commits', 'Commits', 'Commits', 'Commits', 'Commits', 'Commits', 'Commits', 'Commits', 'Pull Requests', 'Pull Requests', 'Pull Requests', 'Pull Requests', 'Commits', 'Commits', 'Commits', 'Pull Requests', 'Pull Requests', 'Pull Requests', 'Pull Requests', 'Pull Requests', 'Pull Requests', 'Pull Requests', 'Pull Requests', 'Pull Requests', 'Pull Requests', 'Pull Requests', 'Pull Requests', 'Pull Requests', 'Pull Requests', 'Pull Requests', 'Pull Requests', 'Pull Requests', 'Pull Requests', 'Pull Requests', 'Pull Requests', 'Commits', 'Commits', 'Pull Requests', 'Pull Requests', 'Pull Requests', 'Commits', 'Commits', 'Repository', 'Repository', 'Pull Requests', 'Pull Requests', 'Pull Requests', 'Pull Requests', 'Pull Requests', 'Commits', 'Commits', 'Commits', 'Pull Requests', 'Pull Requests', 'Pull Requests', 'Issues', 'Pull Requests', 'Commits', 'Commits', 'Pull Requests', 'Pull Requests', 'Pull Requests', 'Pull Requests', 'Pull Requests', 'Pull Requests', 'Pull Requests', 'Pull Requests', 'Pull Requests', 'Pull Requests', 'Pull Requests', 'Pull Requests', 'Pull Requests', 'Pull Requests', 'Pull Requests', 'Pull Requests', 'Pull Requests', 'Pull Requests', 'Pull Requests', 'Pull Requests', 'Pull Requests', 'Pull Requests', 'Pull Requests', 'Pull Requests', 'Pull Requests', 'Pull Requests', 'Pull Requests', 'Pull Requests', 'Pull Requests', 'Pull Requests', 'Pull Requests', 'Pull Requests', 'Pull Requests', 'Pull Requests', 'Pull Requests', 'Pull Requests', 'Pull Requests', 'Pull Requests', 'Pull Requests', 'Pull Requests', 'Pull Requests', 'Pull Requests', 'Pull Requests', 'Pull Requests', 'Pull Requests', 'Pull Requests', 'Pull Requests', 'Pull Requests', 'Pull Requests', 'Pull Requests', 'Pull Requests', 'Pull Requests', 'Pull Requests', 'Pull Requests', 'Pull Requests', 'Pull Requests', 'Pull Requests', 'Pull Requests', 'Pull Requests', 'Pull Requests', 'Pull Requests', 'Pull Requests', 'Pull Requests', 'Pull Requests', 'Pull Requests', 'Pull Requests', 'Pull Requests', 'Pull Requests', 'Pull Requests', 'Issues', 'Pull Requests', 'Pull Requests', 'Pull Requests', 'Pull Requests', 'Pull Requests', 'Pull Requests', 'Pull Requests', 'Pull Requests', 'Pull Requests', 'Pull Requests', 'Pull Requests', 'Pull Requests', 'Pull Requests', 'Pull Requests', 'Pull Requests', 'Pull Requests', 'Pull Requests', 'Pull Requests', 'Pull Requests', 'Pull Requests', 'Pull Requests', 'Pull Requests', 'Pull Requests', 'Pull Requests', 'Pull Requests', 'Pull Requests', 'Pull Requests', 'Pull Requests', 'Pull Requests', 'Pull Requests', 'Pull Requests', 'Pull Requests', 'Pull Requests', 'Pull Requests', 'Pull Requests', 'Pull Requests', 'Pull Requests', 'Pull Requests', 'Pull Requests', 'Pull Requests', 'Repository', 'Issues', 'Pull Requests', 'Pull Requests', 'Pull Requests', 'Pull Requests', 'Pull Requests', 'Pull Requests', 'Pull Requests', 'Pull Requests', 'Pull Requests', 'Pull Requests', 'Pull Requests', 'Pull Requests', 'Pull Requests', 'Pull Requests', 'Issues', 'Pull Requests', 'Pull Requests', 'Commits', 'Pull Requests', 'Pull Requests', 'Commits', 'Pull Requests', 'Pull Requests', 'Pull Requests', 'Issues', 'Pull Requests', 'Commits', 'Issues', 'Commits', 'Commits', 'Issues', 'Pull Requests', 'Commits', 'Commits', 'Commits', 'Commits', 'Commits', 'Commits', 'Commits', 'Repository', 'Repository', 'Repository', 'Pull Requests', 'Pull Requests', 'Commits', 'Commits', 'Commits', 'Repository', 'Repository', 'Repository', 'Repository', 'Pull Requests', 'Repository', 'Commits', 'Issues', 'Repository', 'Repository', 'Pull Requests', 'Repository', 'Commits', 'Pull Requests', 'Repository', 'Repository', 'Repository', 'Pull Requests', 'Commits', 'Commits', 'Commits', 'Commits', 'Repository', 'Repository', 'Repository', 'Pull Requests', 'Repository', 'Commits', 'Pull Requests', 'Repository', 'Repository', 'Pull Requests', 'Repository', 'Pull Requests', 'Commits', 'Repository', 'Commits', 'Repository', 'Repository', 'Repository', 'Repository', 'Commits', 'Issues', 'Pull Requests', 'Repository', 'Commits', 'Repository', 'Commits', 'Pull Requests', 'Commits', 'Pull Requests', 'Repository', 'Commits', 'Pull Requests', 'Repository', 'Repository', 'Pull Requests', 'Commits', 'Commits', 'Repository', 'Pull Requests', 'Repository', 'Repository', 'Repository', 'Repository', 'Repository', 'Repository', 'Commits', 'Issues', 'Commits', 'Commits', 'Commits', 'Pull Requests', 'Repository', 'Repository', 'Commits', 'Pull Requests', 'Issues', 'Pull Requests', 'Pull Requests', 'Pull Requests', 'Pull Requests', 'Pull Requests', 'Pull Requests', 'Commits', 'Commits', 'Issues', 'Commits', 'Commits', 'Pull Requests', 'Commits', 'Commits', 'Commits', 'Repository', 'Pull Requests', 'Commits', 'Pull Requests', 'Commits', 'Repository', 'Issues', 'Commits', 'Commits', 'Commits', 'Commits', 'Pull Requests', 'Repository', 'Pull Requests', 'Commits', 'Pull Requests', 'Repository', 'Commits', 'Repository', 'Pull Requests', 'Commits', 'Pull Requests', 'Pull Requests', 'Pull Requests', 'Commits', 'Commits', 'Pull Requests', 'Repository', 'Pull Requests', 'Repository', 'Commits', 'Commits', 'Commits', 'Commits', 'Pull Requests', 'Repository', 'Pull Requests', 'Repository', 'Pull Requests', 'Repository', 'Repository', 'Pull Requests', 'Commits', 'Pull Requests', 'Pull Requests', 'Pull Requests', 'Pull Requests', 'Commits', 'Pull Requests', 'Repository', 'Pull Requests', 'Repository', 'Issues', 'Repository', 'Commits', 'Pull Requests', 'Pull Requests', 'Pull Requests', 'Repository', 'Issues', 'Pull Requests', 'Pull Requests', 'Repository', 'Commits', 'Repository', 'Pull Requests', 'Pull Requests', 'Repository', 'Commits', 'Repository', 'Commits', 'Pull Requests', 'Commits', 'Pull Requests', 'Repository', 'Commits', 'Repository', 'Pull Requests', 'Pull Requests', 'Pull Requests', 'Repository', 'Pull Requests', 'Pull Requests', 'Pull Requests', 'Pull Requests', 'Pull Requests', 'Pull Requests', 'Commits', 'Commits', 'Repository', 'Pull Requests', 'Pull Requests', 'Repository', 'Commits', 'Pull Requests', 'Repository', 'Pull Requests', 'Pull Requests', 'Pull Requests', 'Pull Requests', 'Commits', 'Repository', 'Pull Requests', 'Repository', 'Commits', 'Pull Requests', 'Commits', 'Commits', 'Pull Requests', 'Commits', 'Repository', 'Commits', 'Repository', 'Commits', 'Pull Requests', 'Issues', 'Issues', 'Commits', 'Issues', 'Pull Requests', 'Pull Requests', 'Repository', 'Pull Requests', 'Repository', 'Commits', 'Repository', 'Pull Requests', 'Repository', 'Pull Requests', 'Pull Requests', 'Repository', 'Commits', 'Pull Requests', 'Repository', 'Commits', 'Commits', 'Commits', 'Commits', 'Commits', 'Commits', 'Repository', 'Commits', 'Pull Requests', 'Commits', 'Pull Requests', 'Repository', 'Commits', 'Commits', 'Repository', 'Pull Requests', 'Commits', 'Commits', 'Repository', 'Pull Requests', 'Commits', 'Repository', 'Pull Requests', 'Commits', 'Commits', 'Commits', 'Repository', 'Issues', 'Pull Requests', 'Pull Requests', 'Pull Requests', 'Pull Requests', 'Commits', 'Commits', 'Commits', 'Commits', 'Repository', 'Pull Requests', 'Pull Requests', 'Repository', 'Commits', 'Commits', 'Commits', 'Commits', 'Commits', 'Repository', 'Pull Requests', 'Commits', 'Commits', 'Pull Requests', 'Pull Requests', 'Pull Requests', 'Commits', 'Repository', 'Pull Requests', 'Repository', 'Issues', 'Pull Requests', 'Commits', 'Commits', 'Commits', 'Commits', 'Pull Requests', 'Pull Requests', 'Pull Requests', 'Commits', 'Commits', 'Commits', 'Pull Requests', 'Pull Requests', 'Pull Requests', 'Pull Requests', 'Pull Requests', 'Commits', 'Repository', 'Issues', 'Repository', 'Pull Requests', 'Issues', 'Commits', 'Repository', 'Pull Requests', 'Commits', 'Issues', 'Issues', 'Issues', 'Issues', 'Issues', 'Commits', 'Repository', 'Pull Requests', 'Commits', 'Issues', 'Issues', 'Issues', 'Issues', 'Issues', 'Issues', 'Pull Requests', 'Commits', 'Repository', 'Commits', 'Commits', 'Commits', 'Pull Requests', 'Repository', 'Issues', 'Issues', 'Issues', 'Issues', 'Issues', 'Issues', 'Issues', 'Issues', 'Issues', 'Issues', 'Repository', 'Commits', 'Pull Requests', 'Commits', 'Commits', 'Repository', 'Commits', 'Repository', 'Pull Requests', 'Commits', 'Commits', 'Commits', 'Pull Requests', 'Repository', 'Commits', 'Repository', 'Pull Requests', 'Commits', 'Issues', 'Repository', 'Commits', 'Pull Requests', 'Commits', 'Commits', 'Issues', 'Issues', 'Issues', 'Issues', 'Issues', 'Issues', 'Repository', 'Repository', 'Issues', 'Issues', 'Commits', 'Issues', 'Issues', 'Commits', 'Commits', 'Commits', 'Commits', 'Repository', 'Commits', 'Commits', 'Commits', 'Repository', 'Issues', 'Commits', 'Repository', 'Commits', 'Commits', 'Issues', 'Issues', 'Issues', 'Issues', 'Commits', 'Repository', 'Pull Requests', 'Commits', 'Pull Requests', 'Repository', 'Issues', 'Issues', 'Repository', 'Repository', 'Commits', 'Issues', 'Issues', 'Issues', 'Commits', 'Issues', 'Issues', 'Issues', 'Repository', 'Issues', 'Commits', 'Repository', 'Pull Requests', 'Issues', 'Issues', 'Issues', 'Issues', 'Issues', 'Issues', 'Issues', 'Issues', 'Commits', 'Pull Requests', 'Commits', 'Issues', 'Pull Requests', 'Repository', 'Commits', 'Commits', 'Pull Requests', 'Commits', 'Commits', 'Issues', 'Issues', 'Issues', 'Pull Requests', 'Commits', 'Issues', 'Issues', 'Pull Requests', 'Commits', 'Commits', 'Commits', 'Commits', 'Commits', 'Commits', 'Commits', 'Commits', 'Commits', 'Commits', 'Commits', 'Issues', 'Issues', 'Issues', 'Commits', 'Repository', 'Commits', 'Commits', 'Pull Requests', 'Repository', 'Commits', 'Commits', 'Commits', 'Commits', 'Commits', 'Commits', 'Repository', 'Commits', 'Commits', 'Commits', 'Repository', 'Commits', 'Repository', 'Repository', 'Commits', 'Commits', 'Commits', 'Commits', 'Commits', 'Commits', 'Commits', 'Commits', 'Repository', 'Commits', 'Commits', 'Repository', 'Commits', 'Commits', 'Repository', 'Commits', 'Commits', 'Repository', 'Commits', 'Commits', 'Repository', 'Commits', 'Commits', 'Commits', 'Repository', 'Commits', 'Pull Requests', 'Pull Requests', 'Pull Requests', 'Pull Requests', 'Pull Requests', 'Commits', 'Repository', 'Issues', 'Commits', 'Repository', 'Commits', 'Commits', 'Commits', 'Commits', 'Repository', 'Commits', 'Repository', 'Repository', 'Repository', 'Issues', 'Issues', 'Repository', 'Commits', 'Commits', 'Commits', 'Commits', 'Commits', 'Commits', 'Commits', 'Commits', 'Commits', 'Commits', 'Commits', 'Commits', 'Commits', 'Commits', 'Commits', 'Commits', 'Repository', 'Repository', 'Commits', 'Pull Requests', 'Pull Requests', 'Pull Requests', 'Repository', 'Commits', 'Repository', 'Commits', 'Repository', 'Commits', 'Repository', 'Commits', 'Commits', 'Commits', 'Commits', 'Repository', 'Commits', 'Pull Requests', 'Commits', 'Commits', 'Pull Requests', 'Repository', 'Repository', 'Repository', 'Commits', 'Commits', 'Commits', 'Commits', 'Commits', 'Commits', 'Commits', 'Commits', 'Pull Requests', 'Repository', 'Commits', 'Repository', 'Commits', 'Repository', 'Commits', 'Commits', 'Repository', 'Repository', 'Commits', 'Pull Requests', 'Pull Requests', 'Pull Requests', 'Pull Requests', 'Pull Requests', 'Pull Requests', 'Pull Requests', 'Pull Requests', 'Pull Requests', 'Pull Requests', 'Pull Requests', 'Pull Requests', 'Pull Requests', 'Repository', 'Commits', 'Commits', 'Repository', 'Commits', 'Pull Requests', 'Commits', 'Pull Requests', 'Commits', 'Repository', 'Pull Requests', 'Pull Requests', 'Pull Requests', 'Pull Requests', 'Pull Requests', 'Pull Requests', 'Pull Requests', 'Pull Requests', 'Pull Requests', 'Pull Requests', 'Pull Requests', 'Pull Requests', 'Pull Requests', 'Pull Requests', 'Pull Requests', 'Pull Requests', 'Pull Requests', 'Pull Requests', 'Pull Requests', 'Pull Requests', 'Issues', 'Issues', 'Pull Requests', 'Repository', 'Repository', 'Repository', 'Pull Requests', 'Pull Requests', 'Repository', 'Pull Requests', 'Repository', 'Pull Requests', 'Repository', 'Repository', 'Commits', 'Repository', 'Repository', 'Repository', 'Repository', 'Repository', 'Repository', 'Repository', 'Repository', 'Repository', 'Pull Requests', 'Repository', 'Pull Requests', 'Repository', 'Pull Requests', 'Repository', 'Pull Requests', 'Repository', 'Pull Requests', 'Repository', 'Pull Requests', 'Repository', 'Pull Requests', 'Repository', 'Pull Requests', 'Repository', 'Pull Requests', 'Repository', 'Pull Requests', 'Repository', 'Pull Requests', 'Repository', 'Pull Requests', 'Pull Requests', 'Repository', 'Repository', 'Pull Requests', 'Repository', 'Pull Requests', 'Repository', 'Pull Requests', 'Repository', 'Pull Requests', 'Repository', 'Pull Requests', 'Repository', 'Pull Requests', 'Repository', 'Pull Requests', 'Repository', 'Pull Requests', 'Repository', 'Pull Requests', 'Repository', 'Pull Requests', 'Commits', 'Commits', 'Commits', 'Commits', 'Commits', 'Commits', 'Commits', 'Repository', 'Pull Requests', 'Commits', 'Commits', 'Issues', 'Issues', 'Pull Requests', 'Commits', 'Repository', 'Pull Requests', 'Repository', 'Repository', 'Issues', 'Commits', 'Pull Requests', 'Repository', 'Repository', 'Commits', 'Pull Requests', 'Pull Requests', 'Repository', 'Commits', 'Pull Requests', 'Repository', 'Pull Requests', 'Repository', 'Repository', 'Commits', 'Pull Requests', 'Pull Requests', 'Repository', 'Repository', 'Commits', 'Pull Requests', 'Pull Requests', 'Repository', 'Repository', 'Commits', 'Pull Requests', 'Issues', 'Repository', 'Repository', 'Commits', 'Pull Requests', 'Pull Requests', 'Repository', 'Pull Requests', 'Repository', 'Pull Requests', 'Repository', 'Issues', 'Commits', 'Commits', 'Issues', 'Commits', 'Commits', 'Commits', 'Commits', 'Repository', 'Pull Requests', 'Commits', 'Repository', 'Commits', 'Pull Requests', 'Repository', 'Commits', 'Pull Requests', 'Repository', 'Commits', 'Repository', 'Pull Requests', 'Commits', 'Pull Requests', 'Pull Requests', 'Commits', 'Repository', 'Repository', 'Commits', 'Pull Requests', 'Repository', 'Commits', 'Pull Requests', 'Commits', 'Repository', 'Pull Requests', 'Repository', 'Pull Requests', 'Commits', 'Repository', 'Pull Requests', 'Commits', 'Repository', 'Pull Requests', 'Repository', 'Commits', 'Pull Requests', 'Commits', 'Repository', 'Pull Requests', 'Repository', 'Commits', 'Pull Requests', 'Repository', 'Commits', 'Pull Requests', 'Repository', 'Pull Requests', 'Repository', 'Commits', 'Repository', 'Commits', 'Pull Requests', 'Repository', 'Commits', 'Pull Requests', 'Commits', 'Pull Requests', 'Commits', 'Repository', 'Pull Requests', 'Repository', 'Pull Requests', 'Repository', 'Pull Requests', 'Repository', 'Pull Requests', 'Repository', 'Pull Requests', 'Commits', 'Repository', 'Repository', 'Commits', 'Pull Requests', 'Pull Requests', 'Repository', 'Commits', 'Pull Requests', 'Pull Requests', 'Issues', 'Repository', 'Repository', 'Repository', 'Repository', 'Repository', 'Repository', 'Repository', 'Repository', 'Repository', 'Repository', 'Repository', 'Commits', 'Repository', 'Repository', 'Repository', 'Commits', 'Pull Requests', 'Pull Requests', 'Repository', 'Issues', 'Issues', 'Repository', 'Repository', 'Repository', 'Issues', 'Issues', 'Repository', 'Commits', 'Pull Requests', 'Repository', 'Commits', 'Pull Requests', 'Pull Requests', 'Repository', 'Pull Requests', 'Repository', 'Commits', 'Pull Requests', 'Repository', 'Pull Requests', 'Repository', 'Commits', 'Repository', 'Pull Requests', 'Repository', 'Pull Requests', 'Repository', 'Commits', 'Pull Requests', 'Pull Requests', 'Repository', 'Issues', 'Issues', 'Issues', 'Commits', 'Pull Requests', 'Pull Requests', 'Repository', 'Commits', 'Pull Requests', 'Pull Requests', 'Repository', 'Commits', 'Repository', 'Commits', 'Pull Requests', 'Repository', 'Pull Requests', 'Repository', 'Repository', 'Repository', 'Repository', 'Commits', 'Pull Requests', 'Repository', 'Repository', 'Repository', 'Commits', 'Pull Requests', 'Pull Requests', 'Repository', 'Pull Requests', 'Repository', 'Commits', 'Issues', 'Repository', 'Commits', 'Pull Requests', 'Repository', 'Pull Requests', 'Repository', 'Pull Requests', 'Issues', 'Issues', 'Issues', 'Issues', 'Issues', 'Repository', 'Commits', 'Pull Requests', 'Repository', 'Commits', 'Pull Requests', 'Pull Requests', 'Pull Requests', 'Pull Requests', 'Pull Requests', 'Pull Requests', 'Pull Requests', 'Pull Requests', 'Issues', 'Repository', 'Repository', 'Repository', 'Commits', 'Pull Requests', 'Pull Requests', 'Repository', 'Commits', 'Pull Requests', 'Pull Requests', 'Commits', 'Commits', 'Pull Requests', 'Pull Requests', 'Commits', 'Pull Requests', 'Pull Requests', 'Commits', 'Commits', 'Pull Requests', 'Pull Requests', 'Issues', 'Issues', 'Repository', 'Issues', 'Repository', 'Commits', 'Commits', 'Issues', 'Pull Requests', 'Repository', 'Pull Requests', 'Repository', 'Pull Requests', 'Repository', 'Commits', 'Pull Requests', 'Pull Requests', 'Repository', 'Pull Requests', 'Repository', 'Repository', 'Commits', 'Pull Requests', 'Pull Requests', 'Repository', 'Repository', 'Pull Requests', 'Repository', 'Commits', 'Commits', 'Pull Requests', 'Repository', 'Pull Requests', 'Pull Requests', 'Repository', 'Repository', 'Issues', 'Issues', 'Issues', 'Issues', 'Issues', 'Issues', 'Issues', 'Issues', 'Issues', 'Issues', 'Issues', 'Pull Requests', 'Repository', 'Pull Requests', 'Repository', 'Repository', 'Pull Requests', 'Repository', 'Pull Requests', 'Repository', 'Repository', 'Pull Requests', 'Repository', 'Pull Requests', 'Repository', 'Repository', 'Commits', 'Pull Requests', 'Repository', 'Commits', 'Pull Requests', 'Repository', 'Pull Requests', 'Repository', 'Commits', 'Pull Requests', 'Repository', 'Pull Requests', 'Repository', 'Pull Requests', 'Repository', 'Commits', 'Repository', 'Pull Requests', 'Commits', 'Issues', 'Issues', 'Issues', 'Issues', 'Issues', 'Issues', 'Issues', 'Issues', 'Issues', 'Issues', 'Issues', 'Commits', 'Commits', 'Pull Requests', 'Repository', 'Commits', 'Pull Requests', 'Commits', 'Repository', 'Pull Requests', 'Repository', 'Commits', 'Pull Requests', 'Pull Requests', 'Pull Requests', 'Repository', 'Repository', 'Repository', 'Pull Requests', 'Commits', 'Repository', 'Commits', 'Pull Requests', 'Repository', 'Pull Requests', 'Repository', 'Pull Requests', 'Repository', 'Commits', 'Repository', 'Pull Requests', 'Pull Requests', 'Commits', 'Repository', 'Pull Requests', 'Repository', 'Commits', 'Commits', 'Commits', 'Pull Requests', 'Pull Requests', 'Repository', 'Pull Requests', 'Repository', 'Repository', 'Pull Requests', 'Pull Requests', 'Repository', 'Repository', 'Commits', 'Commits', 'Pull Requests', 'Repository', 'Pull Requests', 'Repository', 'Commits', 'Commits', 'Commits', 'Pull Requests', 'Pull Requests', 'Pull Requests', 'Pull Requests', 'Pull Requests', 'Commits', 'Repository', 'Repository', 'Repository', 'Repository', 'Repository', 'Pull Requests', 'Pull Requests', 'Issues', 'Issues', 'Issues', 'Issues', 'Issues', 'Issues', 'Repository', 'Issues', 'Issues', 'Repository', 'Issues', 'Issues', 'Issues', 'Repository', 'Issues', 'Issues', 'Issues', 'Issues', 'Commits', 'Issues', 'Issues', 'Repository', 'Issues', 'Pull Requests', 'Pull Requests', 'Pull Requests', 'Pull Requests', 'Repository', 'Issues', 'Pull Requests', 'Issues', 'Issues', 'Issues', 'Issues', 'Issues', 'Issues', 'Pull Requests', 'Commits', 'Commits', 'Commits', 'Pull Requests', 'Commits', 'Pull Requests', 'Commits', 'Pull Requests', 'Issues', 'Issues', 'Issues', 'Issues', 'Issues', 'Issues', 'Issues', 'Issues', 'Issues', 'Issues', 'Pull Requests', 'Pull Requests', 'Pull Requests', 'Pull Requests', 'Pull Requests', 'Pull Requests', 'Pull Requests', 'Pull Requests', 'Issues', 'Issues', 'Repository', 'Pull Requests', 'Issues', 'Issues', 'Issues', 'Issues', 'Issues', 'Issues', 'Issues', 'Issues', 'Issues', 'Issues', 'Repository', 'Issues', 'Repository', 'Issues', 'Issues', 'Repository', 'Issues', 'Issues', 'Commits', 'Issues', 'Issues', 'Issues', 'Issues', 'Issues', 'Issues', 'Issues', 'Commits', 'Issues', 'Issues', 'Issues', 'Issues', 'Issues', 'Issues', 'Issues', 'Repository', 'Repository', 'Issues', 'Issues', 'Issues', 'Issues', 'Issues', 'Pull Requests', 'Pull Requests', 'Issues', 'Issues', 'Repository', 'Issues', 'Issues', 'Commits', 'Pull Requests', 'Issues', 'Issues', 'Issues', 'Issues', 'Issues', 'Issues', 'Issues', 'Issues', 'Issues', 'Issues', 'Issues', 'Issues', 'Issues', 'Issues', 'Repository', 'Commits', 'Pull Requests', 'Issues', 'Pull Requests', 'Repository', 'Repository', 'Issues', 'Commits', 'Commits', 'Commits', 'Commits', 'Commits', 'Commits', 'Commits', 'Commits', 'Commits', 'Commits', 'Commits', 'Commits', 'Commits', 'Commits', 'Commits', 'Commits', 'Commits', 'Commits', 'Commits', 'Commits', 'Commits', 'Commits', 'Commits', 'Commits', 'Issues', 'Commits', 'Commits', 'Commits', 'Commits', 'Commits', 'Commits', 'Commits', 'Commits', 'Commits', 'Commits', 'Commits', 'Commits', 'Commits', 'Commits', 'Commits', 'Issues', 'Issues', 'Commits', 'Commits', 'Commits', 'Commits', 'Commits', 'Commits', 'Commits', 'Commits', 'Commits', 'Commits', 'Commits', 'Commits', 'Commits', 'Commits', 'Commits', 'Commits', 'Commits', 'Commits', 'Commits', 'Commits', 'Commits', 'Commits', 'Commits', 'Commits', 'Commits', 'Commits', 'Commits', 'Commits', 'Commits', 'Commits', 'Commits', 'Commits', 'Commits', 'Commits', 'Commits', 'Commits', 'Commits', 'Commits', 'Commits', 'Commits', 'Commits', 'Commits', 'Commits', 'Commits', 'Commits', 'Commits', 'Commits', 'Issues', 'Commits', 'Commits', 'Commits', 'Commits', 'Commits', 'Repository', 'Repository', 'Commits', 'Commits', 'Commits', 'Commits', 'Commits', 'Issues', 'Issues', 'Commits', 'Commits', 'Commits', 'Commits', 'Commits', 'Commits', 'Commits', 'Commits', 'Commits', 'Commits', 'Commits', 'Commits', 'Commits', 'Commits', 'Commits', 'Commits', 'Commits', 'Commits', 'Commits', 'Commits', 'Commits', 'Commits', 'Commits', 'Commits', 'Commits', 'Commits', 'Commits', 'Issues', 'Commits', 'Commits', 'Commits', 'Commits', 'Pull Requests', 'Pull Requests', 'Commits', 'Commits', 'Commits', 'Commits', 'Issues', 'Commits', 'Pull Requests', 'Commits', 'Pull Requests', 'Pull Requests', 'Pull Requests', 'Pull Requests', 'Pull Requests', 'Pull Requests', 'Pull Requests', 'Issues', 'Commits', 'Commits', 'Issues', 'Issues', 'Pull Requests', 'Pull Requests', 'Pull Requests', 'Pull Requests', 'Pull Requests', 'Pull Requests', 'Commits', 'Pull Requests', 'Pull Requests', 'Commits', 'Pull Requests', 'Pull Requests', 'Issues', 'Pull Requests', 'Pull Requests', 'Pull Requests', 'Pull Requests', 'Pull Requests', 'Pull Requests', 'Pull Requests', 'Pull Requests', 'Pull Requests', 'Pull Requests', 'Pull Requests', 'Issues', 'Commits', 'Commits', 'Repository', 'Commits', 'Commits', 'Commits', 'Commits', 'Commits', 'Repository', 'Commits', 'Commits', 'Commits', 'Commits', 'Issues', 'Issues', 'Issues', 'Issues', 'Commits', 'Commits', 'Issues', 'Pull Requests', 'Commits', 'Issues', 'Pull Requests', 'Pull Requests', 'Commits', 'Pull Requests', 'Pull Requests', 'Pull Requests', 'Pull Requests', 'Pull Requests', 'Pull Requests', 'Commits', 'Issues', 'Commits', 'Commits', 'Commits', 'Issues', 'Pull Requests', 'Commits', 'Commits', 'Repository', 'Pull Requests', 'Issues', 'Pull Requests', 'Repository', 'Commits', 'Pull Requests', 'Pull Requests', 'Issues', 'Issues', 'Issues', 'Repository', 'Repository', 'Repository', 'Repository', 'Commits', 'Commits', 'Issues', 'Issues', 'Issues', 'Commits', 'Issues', 'Commits', 'Commits', 'Commits', 'Commits', 'Commits', 'Pull Requests', 'Pull Requests', 'Commits', 'Repository', 'Commits', 'Repository', 'Pull Requests', 'Pull Requests', 'Commits', 'Repository', 'Pull Requests', 'Pull Requests', 'Commits', 'Repository', 'Pull Requests', 'Pull Requests', 'Commits', 'Repository', 'Pull Requests', 'Pull Requests', 'Issues', 'Issues', 'Issues', 'Commits', 'Issues', 'Issues', 'Commits', 'Commits', 'Commits', 'Commits', 'Commits', 'Commits', 'Commits', 'Commits', 'Commits', 'Commits', 'Commits', 'Commits', 'Issues', 'Commits', 'Repository', 'Commits', 'Commits', 'Issues', 'Issues', 'Issues', 'Issues', 'Issues', 'Commits', 'Commits', 'Commits', 'Commits', 'Commits', 'Issues', 'Issues', 'Commits', 'Commits', 'Repository', 'Commits', 'Pull Requests', 'Repository', 'Repository', 'Repository', 'Repository', 'Pull Requests', 'Commits', 'Repository', 'Issues', 'Issues', 'Issues', 'Issues', 'Issues', 'Issues', 'Issues', 'Commits', 'Repository', 'Commits', 'Repository', 'Repository', 'Repository', 'Repository', 'Commits', 'Repository', 'Repository', 'Commits', 'Repository', 'Repository', 'Commits', 'Repository', 'Repository', 'Repository', 'Repository', 'Repository', 'Pull Requests', 'Commits', 'Repository', 'Commits', 'Commits', 'Repository', 'Repository', 'Pull Requests', 'Repository', 'Commits', 'Repository', 'Repository', 'Repository', 'Commits', 'Repository', 'Repository', 'Repository', 'Commits', 'Repository', 'Repository', 'Commits', 'Commits', 'Repository', 'Repository', 'Repository', 'Commits', 'Repository', 'Repository', 'Repository', 'Repository', 'Commits', 'Repository', 'Commits', 'Repository', 'Repository', 'Commits', 'Repository', 'Repository', 'Repository', 'Commits', 'Repository', 'Commits', 'Repository', 'Repository', 'Repository', 'Commits', 'Repository', 'Repository', 'Repository', 'Commits', 'Repository', 'Repository', 'Repository', 'Commits', 'Repository', 'Commits', 'Repository', 'Repository', 'Repository', 'Commits', 'Repository', 'Repository', 'Commits', 'Repository', 'Repository', 'Commits', 'Repository', 'Repository', 'Commits', 'Repository', 'Repository', 'Repository', 'Commits', 'Repository', 'Repository', 'Commits', 'Repository', 'Repository', 'Repository', 'Commits', 'Repository', 'Repository', 'Repository', 'Repository', 'Commits', 'Repository', 'Commits', 'Repository', 'Repository', 'Repository', 'Commits', 'Repository', 'Repository', 'Repository', 'Commits', 'Repository', 'Commits', 'Repository', 'Repository', 'Commits', 'Repository', 'Repository', 'Repository', 'Repository', 'Commits', 'Repository', 'Commits', 'Repository', 'Repository', 'Repository', 'Commits', 'Repository', 'Commits', 'Repository', 'Repository', 'Repository', 'Repository', 'Commits', 'Repository', 'Repository', 'Commits', 'Repository', 'Repository', 'Repository', 'Commits', 'Repository', 'Repository', 'Commits', 'Repository', 'Repository', 'Commits', 'Repository', 'Commits', 'Repository', 'Repository', 'Commits', 'Repository', 'Repository', 'Repository', 'Commits', 'Repository', 'Repository', 'Repository', 'Repository', 'Commits', 'Repository', 'Repository', 'Commits', 'Repository', 'Repository', 'Commits', 'Repository', 'Commits', 'Commits', 'Repository', 'Commits', 'Repository', 'Repository', 'Repository', 'Commits', 'Commits', 'Repository', 'Repository', 'Repository', 'Repository', 'Commits', 'Repository', 'Commits', 'Repository', 'Repository', 'Commits', 'Repository', 'Repository', 'Repository', 'Repository', 'Commits', 'Repository', 'Repository', 'Repository', 'Repository', 'Repository', 'Repository', 'Repository', 'Repository', 'Repository', 'Commits', 'Repository', 'Commits', 'Repository', 'Repository', 'Repository', 'Repository', 'Repository', 'Commits', 'Commits', 'Repository', 'Repository', 'Repository', 'Repository', 'Repository', 'Commits', 'Repository', 'Repository', 'Commits', 'Commits', 'Repository', 'Repository', 'Commits', 'Repository', 'Repository', 'Repository', 'Commits', 'Repository', 'Repository', 'Repository', 'Repository', 'Commits', 'Repository', 'Repository', 'Repository', 'Commits', 'Commits', 'Repository', 'Repository', 'Repository', 'Commits', 'Repository', 'Repository', 'Repository', 'Repository', 'Repository', 'Repository', 'Repository', 'Repository', 'Repository', 'Repository', 'Repository', 'Commits', 'Commits', 'Repository', 'Commits', 'Repository', 'Repository', 'Commits', 'Repository', 'Repository', 'Repository', 'Repository', 'Repository', 'Repository', 'Repository', 'Repository', 'Repository', 'Commits', 'Commits', 'Repository', 'Repository', 'Commits', 'Repository', 'Repository', 'Repository', 'Commits', 'Repository', 'Commits', 'Repository', 'Repository', 'Repository', 'Repository', 'Commits', 'Repository', 'Repository', 'Commits', 'Repository', 'Repository', 'Repository', 'Commits', 'Commits', 'Repository', 'Repository', 'Repository', 'Commits', 'Repository', 'Repository', 'Commits', 'Pull Requests', 'Commits', 'Pull Requests', 'Commits', 'Repository', 'Pull Requests', 'Commits', 'Repository', 'Pull Requests', 'Repository', 'Commits', 'Pull Requests', 'Repository', 'Issues', 'Repository', 'Pull Requests', 'Issues', 'Repository', 'Commits', 'Repository', 'Pull Requests', 'Repository', 'Repository', 'Repository', 'Repository', 'Commits', 'Repository', 'Pull Requests', 'Commits', 'Repository', 'Pull Requests', 'Commits', 'Repository', 'Pull Requests', 'Repository', 'Repository', 'Repository', 'Commits', 'Repository', 'Pull Requests', 'Commits', 'Repository', 'Pull Requests', 'Commits', 'Repository', 'Pull Requests', 'Repository', 'Repository', 'Issues', 'Pull Requests', 'Repository', 'Commits', 'Commits', 'Repository', 'Pull Requests', 'Pull Requests', 'Commits', 'Commits', 'Commits', 'Commits', 'Repository', 'Repository', 'Commits', 'Pull Requests', 'Issues', 'Commits', 'Repository', 'Pull Requests', 'Repository', 'Repository', 'Commits', 'Repository', 'Pull Requests', 'Commits', 'Pull Requests', 'Commits', 'Pull Requests', 'Pull Requests', 'Commits', 'Repository', 'Repository', 'Repository', 'Repository', 'Commits', 'Repository', 'Pull Requests', 'Pull Requests', 'Commits', 'Repository', 'Repository', 'Repository', 'Repository', 'Repository', 'Commits', 'Pull Requests', 'Repository', 'Commits', 'Pull Requests', 'Commits', 'Repository', 'Pull Requests', 'Repository', 'Repository', 'Repository', 'Repository', 'Repository', 'Repository', 'Repository', 'Commits', 'Repository', 'Pull Requests', 'Repository', 'Repository', 'Commits', 'Repository', 'Pull Requests', 'Repository', 'Repository', 'Issues', 'Commits', 'Commits', 'Repository', 'Pull Requests', 'Repository', 'Commits', 'Repository', 'Pull Requests', 'Commits', 'Repository', 'Pull Requests', 'Repository', 'Commits', 'Pull Requests', 'Issues', 'Issues', 'Issues', 'Issues', 'Repository', 'Pull Requests', 'Commits', 'Repository', 'Issues', 'Issues', 'Pull Requests', 'Repository', 'Pull Requests', 'Pull Requests', 'Commits', 'Repository', 'Commits', 'Repository', 'Commits', 'Commits', 'Commits', 'Commits', 'Pull Requests', 'Commits', 'Commits', 'Commits', 'Commits', 'Pull Requests', 'Commits', 'Pull Requests', 'Commits', 'Pull Requests', 'Pull Requests', 'Commits', 'Commits', 'Pull Requests', 'Commits', 'Commits', 'Pull Requests', 'Commits', 'Pull Requests', 'Commits', 'Pull Requests', 'Commits', 'Pull Requests', 'Commits', 'Pull Requests', 'Commits', 'Commits', 'Commits', 'Repository', 'Commits', 'Pull Requests', 'Issues', 'Issues', 'Repository', 'Issues', 'Issues', 'Commits', 'Commits', 'Repository', 'Pull Requests', 'Pull Requests', 'Repository', 'Repository', 'Commits', 'Pull Requests', 'Issues', 'Commits', 'Repository', 'Commits', 'Commits', 'Commits', 'Pull Requests', 'Repository', 'Issues', 'Issues', 'Issues', 'Commits', 'Repository', 'Commits', 'Pull Requests', 'Repository', 'Commits', 'Pull Requests', 'Pull Requests', 'Issues', 'Issues', 'Commits', 'Repository', 'Pull Requests', 'Repository', 'Repository', 'Repository', 'Repository', 'Commits', 'Pull Requests', 'Repository', 'Commits', 'Pull Requests', 'Repository', 'Commits', 'Pull Requests', 'Repository', 'Repository', 'Repository', 'Repository', 'Commits', 'Pull Requests', 'Repository', 'Repository', 'Pull Requests', 'Repository', 'Commits', 'Repository', 'Repository', 'Commits', 'Pull Requests', 'Pull Requests', 'Repository', 'Repository', 'Issues', 'Commits', 'Repository', 'Issues', 'Pull Requests', 'Repository', 'Commits', 'Commits', 'Commits', 'Commits', 'Commits', 'Commits', 'Repository', 'Repository', 'Repository', 'Repository', 'Repository', 'Repository', 'Repository', 'Commits', 'Pull Requests', 'Repository', 'Repository', 'Repository', 'Repository', 'Repository', 'Repository', 'Repository', 'Commits', 'Pull Requests', 'Repository', 'Repository', 'Commits', 'Pull Requests', 'Repository', 'Repository', 'Repository', 'Commits', 'Pull Requests', 'Repository', 'Repository', 'Pull Requests', 'Issues', 'Issues', 'Pull Requests', 'Commits', 'Commits', 'Repository', 'Issues', 'Issues', 'Issues', 'Issues', 'Issues', 'Issues', 'Pull Requests', 'Commits', 'Repository', 'Issues', 'Issues', 'Issues', 'Issues', 'Issues', 'Issues', 'Issues', 'Issues', 'Issues', 'Issues', 'Pull Requests', 'Pull Requests', 'Issues', 'Pull Requests', 'Pull Requests', 'Pull Requests', 'Commits', 'Commits', 'Repository', 'Issues', 'Issues', 'Issues', 'Pull Requests', 'Commits', 'Pull Requests', 'Pull Requests', 'Pull Requests', 'Pull Requests', 'Issues', 'Pull Requests', 'Pull Requests', 'Commits', 'Commits', 'Commits', 'Issues', 'Commits', 'Repository', 'Commits', 'Commits', 'Repository', 'Commits', 'Commits', 'Issues', 'Issues', 'Pull Requests', 'Repository', 'Commits', 'Issues', 'Issues', 'Repository', 'Commits', 'Pull Requests', 'Commits', 'Commits', 'Commits', 'Commits', 'Issues', 'Commits', 'Issues', 'Issues', 'Commits', 'Commits', 'Issues', 'Issues', 'Issues', 'Issues', 'Commits', 'Commits', 'Commits', 'Commits', 'Commits', 'Commits', 'Commits', 'Issues', 'Pull Requests', 'Repository', 'Commits', 'Issues', 'Commits', 'Issues', 'Issues', 'Issues', 'Issues', 'Commits', 'Commits', 'Commits', 'Commits', 'Repository', 'Pull Requests', 'Commits', 'Issues', 'Commits', 'Issues', 'Commits', 'Commits', 'Commits', 'Commits', 'Commits', 'Commits', 'Commits', 'Pull Requests', 'Commits', 'Pull Requests', 'Commits', 'Commits', 'Commits', 'Commits', 'Commits', 'Commits', 'Commits', 'Commits', 'Commits', 'Issues', 'Commits', 'Commits', 'Commits', 'Commits', 'Pull Requests', 'Commits', 'Repository', 'Commits', 'Commits', 'Commits', 'Commits', 'Commits', 'Commits', 'Commits', 'Issues', 'Commits', 'Commits', 'Commits', 'Commits', 'Commits', 'Commits', 'Commits', 'Repository', 'Issues', 'Commits', 'Pull Requests', 'Pull Requests', 'Pull Requests', 'Pull Requests', 'Commits', 'Commits', 'Pull Requests', 'Pull Requests', 'Commits', 'Pull Requests', 'Pull Requests', 'Commits', 'Commits', 'Pull Requests', 'Commits', 'Commits', 'Commits', 'Commits', 'Commits', 'Commits', 'Commits', 'Commits', 'Commits', 'Commits', 'Commits', 'Repository', 'Issues', 'Issues', 'Commits', 'Commits', 'Commits', 'Pull Requests', 'Issues', 'Issues', 'Issues', 'Commits', 'Commits', 'Issues', 'Repository', 'Issues', 'Commits', 'Commits', 'Commits', 'Commits', 'Commits', 'Commits', 'Commits', 'Commits', 'Commits', 'Commits', 'Commits', 'Commits', 'Commits', 'Commits', 'Commits', 'Pull Requests', 'Commits', 'Commits', 'Commits', 'Commits', 'Commits', 'Commits', 'Commits', 'Commits', 'Commits', 'Commits', 'Commits', 'Commits', 'Commits', 'Commits', 'Issues', 'Commits', 'Issues', 'Commits', 'Commits', 'Pull Requests', 'Commits', 'Commits', 'Commits', 'Repository', 'Commits', 'Commits', 'Issues', 'Pull Requests', 'Repository', 'Commits', 'Pull Requests', 'Commits', 'Commits', 'Pull Requests', 'Issues', 'Commits', 'Commits', 'Commits', 'Repository', 'Commits', 'Pull Requests', 'Commits', 'Commits', 'Commits', 'Commits', 'Commits', 'Commits', 'Pull Requests', 'Repository', 'Commits', 'Commits', 'Pull Requests', 'Commits', 'Commits', 'Issues', 'Issues', 'Issues', 'Commits', 'Commits', 'Issues', 'Issues', 'Commits', 'Commits', 'Commits', 'Commits', 'Commits', 'Commits', 'Commits', 'Commits', 'Commits', 'Commits', 'Commits', 'Commits', 'Commits', 'Commits', 'Commits', 'Commits', 'Commits', 'Commits', 'Commits', 'Commits', 'Commits', 'Commits', 'Commits', 'Commits', 'Commits', 'Commits', 'Commits', 'Commits', 'Repository', 'Commits', 'Commits', 'Commits', 'Commits', 'Commits', 'Issues', 'Commits', 'Commits', 'Commits', 'Commits', 'Commits', 'Commits', 'Issues', 'Commits', 'Issues', 'Issues', 'Issues', 'Issues', 'Repository', 'Commits', 'Pull Requests', 'Commits', 'Commits', 'Commits', 'Commits', 'Commits', 'Commits', 'Commits', 'Commits', 'Issues', 'Issues', 'Issues', 'Issues', 'Repository', 'Pull Requests', 'Commits', 'Commits', 'Pull Requests', 'Pull Requests', 'Pull Requests', 'Pull Requests', 'Commits', 'Commits', 'Pull Requests', 'Pull Requests', 'Pull Requests', 'Pull Requests', 'Pull Requests', 'Pull Requests', 'Pull Requests', 'Pull Requests', 'Pull Requests', 'Pull Requests', 'Issues', 'Pull Requests', 'Commits', 'Commits', 'Repository', 'Pull Requests', 'Pull Requests', 'Pull Requests', 'Pull Requests', 'Pull Requests', 'Pull Requests', 'Pull Requests', 'Pull Requests', 'Pull Requests', 'Pull Requests', 'Pull Requests', 'Pull Requests', 'Pull Requests', 'Pull Requests', 'Pull Requests', 'Pull Requests', 'Pull Requests', 'Pull Requests', 'Pull Requests', 'Pull Requests', 'Pull Requests', 'Pull Requests', 'Commits', 'Repository', 'Pull Requests', 'Pull Requests', 'Pull Requests', 'Pull Requests', 'Pull Requests', 'Pull Requests', 'Pull Requests', 'Pull Requests', 'Pull Requests', 'Pull Requests', 'Pull Requests', 'Pull Requests', 'Pull Requests', 'Pull Requests', 'Issues', 'Pull Requests', 'Issues', 'Issues', 'Issues', 'Issues', 'Pull Requests', 'Pull Requests', 'Pull Requests', 'Pull Requests', 'Pull Requests', 'Pull Requests', 'Pull Requests', 'Repository', 'Pull Requests', 'Pull Requests', 'Issues', 'Issues', 'Pull Requests', 'Pull Requests', 'Pull Requests', 'Pull Requests', 'Pull Requests', 'Pull Requests', 'Pull Requests', 'Pull Requests', 'Pull Requests', 'Pull Requests', 'Pull Requests', 'Pull Requests', 'Pull Requests', 'Pull Requests', 'Pull Requests', 'Pull Requests', 'Pull Requests', 'Pull Requests', 'Pull Requests', 'Pull Requests', 'Pull Requests', 'Issues', 'Pull Requests', 'Issues', 'Issues', 'Pull Requests', 'Issues', 'Issues', 'Pull Requests', 'Pull Requests', 'Pull Requests', 'Pull Requests', 'Pull Requests', 'Pull Requests', 'Pull Requests', 'Pull Requests', 'Pull Requests', 'Pull Requests', 'Pull Requests', 'Pull Requests', 'Pull Requests', 'Pull Requests', 'Pull Requests', 'Pull Requests', 'Pull Requests', 'Pull Requests', 'Pull Requests', 'Pull Requests', 'Pull Requests', 'Pull Requests', 'Issues', 'Pull Requests', 'Pull Requests', 'Pull Requests', 'Pull Requests', 'Pull Requests', 'Pull Requests', 'Pull Requests', 'Issues', 'Issues', 'Pull Requests', 'Issues', 'Issues', 'Pull Requests', 'Issues', 'Issues', 'Pull Requests', 'Pull Requests', 'Pull Requests', 'Pull Requests', 'Pull Requests', 'Pull Requests', 'Pull Requests', 'Pull Requests', 'Pull Requests', 'Pull Requests', 'Pull Requests', 'Pull Requests', 'Pull Requests', 'Pull Requests', 'Pull Requests', 'Pull Requests', 'Pull Requests', 'Pull Requests', 'Pull Requests', 'Pull Requests', 'Pull Requests', 'Pull Requests', 'Pull Requests', 'Pull Requests', 'Pull Requests', 'Pull Requests', 'Pull Requests', 'Pull Requests', 'Pull Requests', 'Pull Requests', 'Pull Requests', 'Pull Requests', 'Pull Requests', 'Pull Requests', 'Pull Requests', 'Pull Requests', 'Pull Requests', 'Pull Requests', 'Pull Requests', 'Pull Requests', 'Pull Requests', 'Pull Requests', 'Pull Requests', 'Pull Requests', 'Pull Requests', 'Pull Requests', 'Pull Requests', 'Pull Requests', 'Pull Requests', 'Pull Requests', 'Pull Requests', 'Pull Requests', 'Commits', 'Issues', 'Pull Requests', 'Repository', 'Repository', 'Issues', 'Issues', 'Pull Requests', 'Pull Requests', 'Pull Requests', 'Pull Requests', 'Pull Requests', 'Pull Requests', 'Pull Requests', 'Pull Requests', 'Pull Requests', 'Pull Requests', 'Pull Requests', 'Pull Requests', 'Pull Requests', 'Pull Requests', 'Pull Requests', 'Pull Requests', 'Pull Requests', 'Pull Requests', 'Pull Requests', 'Pull Requests', 'Pull Requests', 'Issues', 'Pull Requests', 'Commits', 'Pull Requests', 'Issues', 'Commits', 'Repository', 'Pull Requests', 'Pull Requests', 'Commits', 'Pull Requests', 'Pull Requests', 'Issues', 'Issues', 'Pull Requests', 'Issues', 'Pull Requests', 'Commits', 'Repository', 'Repository', 'Pull Requests', 'Pull Requests', 'Pull Requests', 'Pull Requests', 'Pull Requests', 'Repository', 'Issues', 'Issues', 'Pull Requests', 'Pull Requests', 'Pull Requests', 'Pull Requests', 'Pull Requests', 'Pull Requests', 'Pull Requests', 'Pull Requests', 'Pull Requests', 'Pull Requests', 'Commits', 'Issues', 'Issues', 'Issues', 'Issues', 'Commits', 'Pull Requests', 'Pull Requests', 'Issues', 'Issues', 'Commits', 'Pull Requests', 'Pull Requests', 'Pull Requests', 'Pull Requests', 'Pull Requests', 'Repository', 'Issues', 'Issues', 'Repository', 'Commits', 'Pull Requests', 'Pull Requests', 'Pull Requests', 'Pull Requests', 'Repository', 'Issues', 'Issues', 'Pull Requests', 'Pull Requests', 'Commits', 'Pull Requests', 'Pull Requests', 'Issues', 'Commits', 'Issues', 'Issues', 'Issues', 'Issues', 'Commits', 'Pull Requests', 'Commits', 'Repository', 'Commits', 'Repository', 'Pull Requests', 'Repository', 'Repository', 'Repository', 'Repository', 'Commits', 'Pull Requests', 'Repository', 'Repository', 'Repository', 'Commits', 'Repository', 'Pull Requests', 'Repository', 'Repository', 'Commits', 'Repository', 'Pull Requests', 'Repository', 'Repository', 'Commits', 'Repository', 'Pull Requests', 'Repository', 'Repository', 'Commits', 'Pull Requests', 'Repository', 'Pull Requests', 'Repository', 'Pull Requests', 'Repository', 'Pull Requests', 'Repository', 'Pull Requests', 'Repository', 'Pull Requests', 'Repository', 'Pull Requests', 'Repository', 'Repository', 'Repository', 'Pull Requests', 'Repository', 'Pull Requests', 'Repository', 'Repository', 'Repository', 'Pull Requests', 'Repository', 'Pull Requests', 'Repository', 'Pull Requests', 'Repository', 'Repository', 'Repository', 'Pull Requests', 'Repository', 'Pull Requests', 'Repository', 'Pull Requests', 'Repository', 'Pull Requests', 'Repository', 'Pull Requests', 'Repository', 'Repository', 'Repository', 'Repository', 'Pull Requests', 'Pull Requests', 'Repository', 'Repository', 'Repository', 'Repository', 'Pull Requests', 'Pull Requests', 'Repository', 'Pull Requests', 'Repository', 'Pull Requests', 'Repository', 'Pull Requests', 'Repository', 'Commits', 'Pull Requests', 'Repository', 'Commits', 'Commits', 'Commits', 'Commits', 'Commits', 'Commits', 'Issues', 'Repository', 'Commits', 'Commits', 'Commits', 'Commits', 'Commits', 'Commits', 'Commits', 'Commits', 'Commits', 'Commits', 'Commits', 'Commits', 'Commits', 'Commits', 'Commits', 'Commits', 'Commits', 'Commits', 'Commits', 'Commits', 'Commits', 'Commits', 'Commits', 'Commits', 'Commits', 'Commits', 'Commits', 'Commits', 'Commits', 'Commits', 'Commits', 'Commits', 'Commits', 'Commits', 'Commits', 'Commits', 'Commits', 'Commits', 'Commits', 'Commits', 'Commits', 'Commits', 'Commits', 'Commits', 'Commits', 'Commits', 'Commits', 'Commits', 'Commits', 'Commits', 'Commits', 'Commits', 'Commits', 'Commits', 'Commits', 'Commits', 'Commits', 'Commits', 'Commits', 'Commits', 'Commits', 'Commits', 'Commits', 'Commits', 'Commits', 'Commits', 'Commits', 'Commits', 'Issues', 'Commits', 'Issues', 'Commits', 'Commits', 'Commits', 'Commits', 'Commits', 'Commits', 'Commits', 'Commits', 'Commits', 'Commits', 'Commits', 'Commits', 'Commits', 'Commits', 'Commits', 'Commits', 'Commits', 'Commits', 'Commits', 'Commits', 'Commits', 'Commits', 'Commits', 'Commits', 'Commits', 'Commits', 'Commits', 'Commits', 'Commits', 'Pull Requests', 'Commits', 'Commits', 'Commits', 'Commits', 'Commits', 'Commits', 'Commits', 'Commits', 'Commits', 'Commits', 'Commits', 'Commits', 'Commits', 'Commits', 'Pull Requests', 'Commits', 'Commits', 'Commits', 'Commits', 'Commits', 'Commits', 'Commits', 'Commits', 'Commits', 'Commits', 'Repository', 'Commits', 'Commits', 'Commits', 'Commits', 'Commits', 'Commits', 'Commits', 'Commits', 'Commits', 'Commits', 'Commits', 'Commits', 'Issues', 'Commits', 'Repository', 'Commits', 'Commits', 'Commits', 'Issues', 'Commits', 'Commits', 'Commits', 'Commits', 'Commits', 'Commits', 'Commits', 'Commits', 'Commits', 'Commits', 'Issues', 'Commits', 'Commits', 'Commits', 'Commits', 'Commits', 'Commits', 'Commits', 'Commits', 'Commits', 'Commits', 'Commits', 'Commits', 'Commits', 'Commits', 'Commits', 'Commits', 'Commits', 'Commits', 'Commits', 'Commits', 'Commits', 'Commits', 'Commits', 'Commits', 'Commits', 'Commits', 'Commits', 'Commits', 'Commits', 'Commits', 'Commits', 'Commits', 'Commits', 'Commits', 'Commits', 'Commits', 'Commits', 'Commits', 'Commits', 'Commits', 'Commits', 'Commits', 'Commits', 'Commits', 'Commits', 'Commits', 'Commits', 'Commits', 'Commits', 'Commits', 'Commits', 'Commits', 'Commits', 'Issues', 'Commits', 'Commits', 'Commits', 'Commits', 'Commits', 'Commits', 'Commits', 'Commits', 'Commits', 'Commits', 'Commits', 'Commits', 'Commits', 'Commits', 'Commits', 'Commits', 'Commits', 'Commits', 'Commits', 'Commits', 'Commits', 'Commits', 'Commits', 'Repository', 'Commits', 'Commits', 'Commits', 'Commits', 'Commits', 'Commits', 'Commits', 'Commits', 'Commits', 'Commits', 'Commits', 'Commits', 'Commits', 'Commits', 'Commits', 'Commits', 'Commits', 'Commits', 'Commits', 'Commits', 'Commits', 'Commits', 'Commits', 'Commits', 'Commits', 'Commits', 'Commits', 'Commits', 'Commits', 'Commits', 'Commits', 'Commits', 'Repository', 'Commits', 'Repository', 'Commits', 'Commits', 'Commits', 'Repository', 'Commits', 'Commits', 'Commits', 'Commits', 'Commits', 'Commits', 'Repository', 'Commits', 'Repository', 'Commits', 'Commits', 'Commits']\n"
     ]
    }
   ],
   "source": [
    "# In the resultant DataFrame - each row should corespond to a contributor, and the columns should have all the event groups  \n",
    "# and the type of the contributor (that you decided in the previous DataFrame) and the values should be the number \n",
    "# of events of that event event group the contriubutor has performed.\n",
    "\n",
    "issue_group = ['IssueCommentEvent', 'IssuesEvent']\n",
    "pr_group = ['PullRequestEvent', 'PullRequestReviewEvent','PullRequestReviewCommentEvent']\n",
    "commit_group = ['CommitCommentEvent', 'PushEvent']\n",
    "repo_group = ['CreateEvent', 'DeleteEvent', 'ForkEvent', 'GollumEvent', 'MemberEvent', 'PublicEvent', 'ReleaseEvent', 'SponsorshipEvent', 'WatchEvent']\n",
    "\n",
    "type = []\n",
    "for ind in dataframe.index :\n",
    "    if dataframe[\"event_type\"][ind] in issue_group:\n",
    "        type.append(\"Issues\")\n",
    "    elif dataframe[\"event_type\"][ind] in pr_group:\n",
    "        type.append(\"Pull Requests\")\n",
    "    elif dataframe[\"event_type\"][ind] in commit_group:\n",
    "        type.append(\"Commits\")\n",
    "    elif dataframe[\"event_type\"][ind] in repo_group:\n",
    "        type.append(\"Repository\")\n",
    "    #else:\n",
    "        #type.append(\"Unknown\")\n",
    "print(type)\n"
   ]
  },
  {
   "cell_type": "code",
   "execution_count": 40,
   "id": "326eaddf-c6f2-4e7e-a3e1-37183a3c90ca",
   "metadata": {},
   "outputs": [
    {
     "name": "stdout",
     "output_type": "stream",
     "text": [
      "            contributor  Commits  Issues  Pull Requests  Repository   type\n",
      "0           FtZPetruska     23.0     5.0           13.0        27.0  Human\n",
      "1              bayandin     94.0    18.0           99.0        63.0  Human\n",
      "2                 cho-m     74.0    34.0           81.0        56.0  Human\n",
      "3         cloudpossebot     27.0    22.0           52.0        53.0    Bot\n",
      "4        crunchtime-ali      8.0     0.0           28.0        39.0  Human\n",
      "5                  dnhn     81.0     5.0          105.0       108.0  Human\n",
      "6              flow-bot    284.0     0.0            8.0         8.0    Bot\n",
      "7       git-machete-bot      0.0     0.0           23.0        33.0    Bot\n",
      "8   github-actions[bot]    277.0     7.0            3.0        10.0    App\n",
      "9                jeroen    159.0    95.0            9.0        36.0  Human\n",
      "10               miccal     92.0     8.0          173.0        26.0  Human\n",
      "11            moonfruit    124.0    11.0           68.0        94.0  Human\n",
      "12            timsutton     41.0    38.0          143.0        46.0  Human\n"
     ]
    }
   ],
   "source": [
    "# YOUR CODE BELOW\n",
    "\n",
    "dataframe[\"event_group\"] = type\n",
    "#print(dataframe.groupby([\"contributor\", \"event_group\"]).agg('count'))\n",
    "# pivot the main DataFrame\n",
    "#print(df.pivot(index='type', columns='contributor'))\n",
    "\n",
    "# YOUR CODE BELOW\n",
    "grouped_df = dataframe.groupby(['contributor', 'event_group']).agg(event_count=('event_type', 'size')).reset_index()\n",
    "\n",
    "pivot_df = grouped_df.pivot(index='contributor', columns='event_group', values='event_count').fillna(0).reset_index()\n",
    "\n",
    "final_df = pivot_df.merge(df[['contributor', 'type']], on='contributor').drop_duplicates()\n",
    "\n",
    "print(final_df)\n",
    "#event_group_df = dataframe.merge(df[['contributor', 'type']], on=['contributor']).groupby(['type', 'event_group'], as_index=False).agg(nb_event=('event_group', 'count'))#.pivot(index='type', columns='event_group', values='event_group')\n",
    "#display(event_group_df)\n",
    "\n"
   ]
  },
  {
   "cell_type": "code",
   "execution_count": null,
   "id": "3b8b35af-92af-4ffd-8d99-2dd34d865ac1",
   "metadata": {},
   "outputs": [],
   "source": [
    "# YOUR CODE BELOW\n"
   ]
  },
  {
   "cell_type": "markdown",
   "id": "afca3310-5bef-48f5-be38-e0861d5c43b6",
   "metadata": {},
   "source": [
    "### Question 2 (a)\n",
    "\n",
    "#### Compute the median number of events per event group for Bot+Apps and Humans and write in DataFrame.\n",
    "\n",
    "Row should correspond to type (Bot_App and Human), Column should have Event group name and the values should be the median value of Bot_App or Human for that particular event group. An example is given below"
   ]
  },
  {
   "cell_type": "code",
   "execution_count": 41,
   "id": "ef89644a-1f38-4e67-81ab-c54db8d6c0ad",
   "metadata": {},
   "outputs": [
    {
     "data": {
      "text/html": [
       "<div>\n",
       "<style scoped>\n",
       "    .dataframe tbody tr th:only-of-type {\n",
       "        vertical-align: middle;\n",
       "    }\n",
       "\n",
       "    .dataframe tbody tr th {\n",
       "        vertical-align: top;\n",
       "    }\n",
       "\n",
       "    .dataframe thead th {\n",
       "        text-align: right;\n",
       "    }\n",
       "</style>\n",
       "<table border=\"1\" class=\"dataframe\">\n",
       "  <thead>\n",
       "    <tr style=\"text-align: right;\">\n",
       "      <th></th>\n",
       "      <th>event_group</th>\n",
       "      <th>median</th>\n",
       "      <th>type</th>\n",
       "    </tr>\n",
       "  </thead>\n",
       "  <tbody>\n",
       "    <tr>\n",
       "      <th>0</th>\n",
       "      <td>event_group1</td>\n",
       "      <td>val1</td>\n",
       "      <td>Bot_app</td>\n",
       "    </tr>\n",
       "    <tr>\n",
       "      <th>1</th>\n",
       "      <td>event_group1</td>\n",
       "      <td>val2</td>\n",
       "      <td>Human</td>\n",
       "    </tr>\n",
       "    <tr>\n",
       "      <th>2</th>\n",
       "      <td>event_group2</td>\n",
       "      <td>val3</td>\n",
       "      <td>Bot_app</td>\n",
       "    </tr>\n",
       "    <tr>\n",
       "      <th>3</th>\n",
       "      <td>event_group2</td>\n",
       "      <td>val4</td>\n",
       "      <td>Human</td>\n",
       "    </tr>\n",
       "    <tr>\n",
       "      <th>4</th>\n",
       "      <td>event_group3</td>\n",
       "      <td>val5</td>\n",
       "      <td>Bot_app</td>\n",
       "    </tr>\n",
       "    <tr>\n",
       "      <th>5</th>\n",
       "      <td>event_group3</td>\n",
       "      <td>val6</td>\n",
       "      <td>Human</td>\n",
       "    </tr>\n",
       "    <tr>\n",
       "      <th>6</th>\n",
       "      <td>event_group4</td>\n",
       "      <td>val7</td>\n",
       "      <td>Bot_app</td>\n",
       "    </tr>\n",
       "    <tr>\n",
       "      <th>7</th>\n",
       "      <td>event_group5</td>\n",
       "      <td>val8</td>\n",
       "      <td>Human</td>\n",
       "    </tr>\n",
       "  </tbody>\n",
       "</table>\n",
       "</div>"
      ],
      "text/plain": [
       "    event_group median     type\n",
       "0  event_group1   val1  Bot_app\n",
       "1  event_group1   val2    Human\n",
       "2  event_group2   val3  Bot_app\n",
       "3  event_group2   val4    Human\n",
       "4  event_group3   val5  Bot_app\n",
       "5  event_group3   val6    Human\n",
       "6  event_group4   val7  Bot_app\n",
       "7  event_group5   val8    Human"
      ]
     },
     "execution_count": 41,
     "metadata": {},
     "output_type": "execute_result"
    }
   ],
   "source": [
    "# For example:\n",
    "medians = [{'event_group': 'event_group1', 'median': 'val1', 'type': 'Bot_app'}, \n",
    "           {'event_group': 'event_group1', 'median': 'val2', 'type': 'Human'},\n",
    "           {'event_group': 'event_group2', 'median': 'val3', 'type': 'Bot_app'},\n",
    "           {'event_group': 'event_group2', 'median': 'val4', 'type': 'Human'},\n",
    "           {'event_group': 'event_group3', 'median': 'val5', 'type': 'Bot_app'},\n",
    "           {'event_group': 'event_group3', 'median': 'val6', 'type': 'Human'},\n",
    "           {'event_group': 'event_group4', 'median': 'val7', 'type': 'Bot_app'},\n",
    "           {'event_group': 'event_group5', 'median': 'val8', 'type': 'Human'}]\n",
    "df_medians = pd.DataFrame.from_dict(medians)\n",
    "df_medians"
   ]
  },
  {
   "cell_type": "code",
   "execution_count": 60,
   "id": "1c3dc1ce-f19c-44b7-8fa1-35df0ffaa936",
   "metadata": {},
   "outputs": [
    {
     "data": {
      "text/html": [
       "<div>\n",
       "<style scoped>\n",
       "    .dataframe tbody tr th:only-of-type {\n",
       "        vertical-align: middle;\n",
       "    }\n",
       "\n",
       "    .dataframe tbody tr th {\n",
       "        vertical-align: top;\n",
       "    }\n",
       "\n",
       "    .dataframe thead th {\n",
       "        text-align: right;\n",
       "    }\n",
       "</style>\n",
       "<table border=\"1\" class=\"dataframe\">\n",
       "  <thead>\n",
       "    <tr style=\"text-align: right;\">\n",
       "      <th></th>\n",
       "      <th>event_group</th>\n",
       "      <th>median</th>\n",
       "      <th>type</th>\n",
       "    </tr>\n",
       "  </thead>\n",
       "  <tbody>\n",
       "    <tr>\n",
       "      <th>0</th>\n",
       "      <td>issue_group</td>\n",
       "      <td>0.0</td>\n",
       "      <td>Bot_app</td>\n",
       "    </tr>\n",
       "    <tr>\n",
       "      <th>1</th>\n",
       "      <td>issue_group</td>\n",
       "      <td>11.0</td>\n",
       "      <td>Human</td>\n",
       "    </tr>\n",
       "    <tr>\n",
       "      <th>2</th>\n",
       "      <td>commit_group</td>\n",
       "      <td>27.0</td>\n",
       "      <td>Bot_app</td>\n",
       "    </tr>\n",
       "    <tr>\n",
       "      <th>3</th>\n",
       "      <td>commit_group</td>\n",
       "      <td>81.0</td>\n",
       "      <td>Human</td>\n",
       "    </tr>\n",
       "    <tr>\n",
       "      <th>4</th>\n",
       "      <td>pr_group</td>\n",
       "      <td>23.0</td>\n",
       "      <td>Bot_app</td>\n",
       "    </tr>\n",
       "    <tr>\n",
       "      <th>5</th>\n",
       "      <td>pr_group</td>\n",
       "      <td>81.0</td>\n",
       "      <td>Human</td>\n",
       "    </tr>\n",
       "    <tr>\n",
       "      <th>6</th>\n",
       "      <td>repo_group</td>\n",
       "      <td>33.0</td>\n",
       "      <td>Bot_app</td>\n",
       "    </tr>\n",
       "    <tr>\n",
       "      <th>7</th>\n",
       "      <td>repo_group</td>\n",
       "      <td>46.0</td>\n",
       "      <td>Human</td>\n",
       "    </tr>\n",
       "  </tbody>\n",
       "</table>\n",
       "</div>"
      ],
      "text/plain": [
       "    event_group  median     type\n",
       "0   issue_group     0.0  Bot_app\n",
       "1   issue_group    11.0    Human\n",
       "2  commit_group    27.0  Bot_app\n",
       "3  commit_group    81.0    Human\n",
       "4      pr_group    23.0  Bot_app\n",
       "5      pr_group    81.0    Human\n",
       "6    repo_group    33.0  Bot_app\n",
       "7    repo_group    46.0    Human"
      ]
     },
     "execution_count": 60,
     "metadata": {},
     "output_type": "execute_result"
    }
   ],
   "source": [
    "# YOUR CODE BELOW\n",
    "medians = [{'event_group': 'issue_group', 'median': final_df.groupby('type')['Issues'].median().loc['Bot'], 'type': 'Bot_app'}, \n",
    "           {'event_group': 'issue_group', 'median': final_df.groupby('type')['Issues'].median().loc['Human'], 'type': 'Human'},\n",
    "           {'event_group': 'commit_group', 'median': final_df.groupby('type')['Commits'].median().loc['Bot'], 'type': 'Bot_app'},\n",
    "           {'event_group': 'commit_group', 'median': final_df.groupby('type')['Commits'].median().loc['Human'], 'type': 'Human'},\n",
    "           {'event_group': 'pr_group', 'median': final_df.groupby('type')['Pull Requests'].median().loc['Bot'], 'type': 'Bot_app'},\n",
    "           {'event_group': 'pr_group', 'median': final_df.groupby('type')['Pull Requests'].median().loc['Human'],'type': 'Human'},\n",
    "           {'event_group': 'repo_group', 'median': final_df.groupby('type')['Repository'].median().loc['Bot'], 'type': 'Bot_app'},\n",
    "           {'event_group': 'repo_group', 'median': final_df.groupby('type')['Repository'].median().loc['Human'], 'type': 'Human'}]\n",
    "df_real_medians = pd.DataFrame.from_dict(medians)\n",
    "df_real_medians"
   ]
  },
  {
   "cell_type": "markdown",
   "id": "8eafa8a6-3c98-41db-bebd-64adc634f77f",
   "metadata": {},
   "source": [
    "### Question 2 (b)\n",
    "\n",
    "Plot a heatmap of the DataFrame using seaborn - \n",
    "1. First convert the dataframe to the required format using pivot, example is given below\n",
    "2. plot using seaborn - sns.heatmap(df_medians, annot=True, vmin=0, vmax=300, cmap=\"crest\"). More details: https://seaborn.pydata.org/generated/seaborn.heatmap.html)"
   ]
  },
  {
   "cell_type": "markdown",
   "id": "2bd13bb8-628d-444e-b4a2-9887378a9cef",
   "metadata": {},
   "source": [
    "#### pd.pivot example:\n",
    "<a id='pivot_example'></a>"
   ]
  },
  {
   "cell_type": "code",
   "execution_count": null,
   "id": "3fbf8d1e-86ba-4b86-8bfc-d1bba83c63a8",
   "metadata": {},
   "outputs": [
    {
     "data": {
      "text/html": [
       "<div>\n",
       "<style scoped>\n",
       "    .dataframe tbody tr th:only-of-type {\n",
       "        vertical-align: middle;\n",
       "    }\n",
       "\n",
       "    .dataframe tbody tr th {\n",
       "        vertical-align: top;\n",
       "    }\n",
       "\n",
       "    .dataframe thead th {\n",
       "        text-align: right;\n",
       "    }\n",
       "</style>\n",
       "<table border=\"1\" class=\"dataframe\">\n",
       "  <thead>\n",
       "    <tr style=\"text-align: right;\">\n",
       "      <th></th>\n",
       "      <th>event_group</th>\n",
       "      <th>median</th>\n",
       "      <th>type</th>\n",
       "    </tr>\n",
       "  </thead>\n",
       "  <tbody>\n",
       "    <tr>\n",
       "      <th>0</th>\n",
       "      <td>event_group1</td>\n",
       "      <td>val1</td>\n",
       "      <td>Bot_app</td>\n",
       "    </tr>\n",
       "    <tr>\n",
       "      <th>1</th>\n",
       "      <td>event_group1</td>\n",
       "      <td>val2</td>\n",
       "      <td>Human</td>\n",
       "    </tr>\n",
       "    <tr>\n",
       "      <th>2</th>\n",
       "      <td>event_group2</td>\n",
       "      <td>val3</td>\n",
       "      <td>Bot_app</td>\n",
       "    </tr>\n",
       "    <tr>\n",
       "      <th>3</th>\n",
       "      <td>event_group2</td>\n",
       "      <td>val4</td>\n",
       "      <td>Human</td>\n",
       "    </tr>\n",
       "    <tr>\n",
       "      <th>4</th>\n",
       "      <td>event_group3</td>\n",
       "      <td>val5</td>\n",
       "      <td>Bot_app</td>\n",
       "    </tr>\n",
       "    <tr>\n",
       "      <th>5</th>\n",
       "      <td>event_group3</td>\n",
       "      <td>val6</td>\n",
       "      <td>Human</td>\n",
       "    </tr>\n",
       "    <tr>\n",
       "      <th>6</th>\n",
       "      <td>event_group4</td>\n",
       "      <td>val7</td>\n",
       "      <td>Bot_app</td>\n",
       "    </tr>\n",
       "    <tr>\n",
       "      <th>7</th>\n",
       "      <td>event_group5</td>\n",
       "      <td>val8</td>\n",
       "      <td>Human</td>\n",
       "    </tr>\n",
       "  </tbody>\n",
       "</table>\n",
       "</div>"
      ],
      "text/plain": [
       "    event_group median     type\n",
       "0  event_group1   val1  Bot_app\n",
       "1  event_group1   val2    Human\n",
       "2  event_group2   val3  Bot_app\n",
       "3  event_group2   val4    Human\n",
       "4  event_group3   val5  Bot_app\n",
       "5  event_group3   val6    Human\n",
       "6  event_group4   val7  Bot_app\n",
       "7  event_group5   val8    Human"
      ]
     },
     "execution_count": 61,
     "metadata": {},
     "output_type": "execute_result"
    }
   ],
   "source": [
    "# Main DataFrame\n",
    "medians = [{'event_group': 'event_group1', 'median': 'val1', 'type': 'Bot_app'}, \n",
    "           {'event_group': 'event_group1', 'median': 'val2', 'type': 'Human'},\n",
    "           {'event_group': 'event_group2', 'median': 'val3', 'type': 'Bot_app'},\n",
    "           {'event_group': 'event_group2', 'median': 'val4', 'type': 'Human'},\n",
    "           {'event_group': 'event_group3', 'median': 'val5', 'type': 'Bot_app'},\n",
    "           {'event_group': 'event_group3', 'median': 'val6', 'type': 'Human'},\n",
    "           {'event_group': 'event_group4', 'median': 'val7', 'type': 'Bot_app'},\n",
    "           {'event_group': 'event_group5', 'median': 'val8', 'type': 'Human'}]\n",
    "df_medians = pd.DataFrame.from_dict(medians)\n",
    "df_medians"
   ]
  },
  {
   "cell_type": "code",
   "execution_count": null,
   "id": "816f28a7-c281-4808-b987-5d74a1c08271",
   "metadata": {},
   "outputs": [
    {
     "data": {
      "text/html": [
       "<div>\n",
       "<style scoped>\n",
       "    .dataframe tbody tr th:only-of-type {\n",
       "        vertical-align: middle;\n",
       "    }\n",
       "\n",
       "    .dataframe tbody tr th {\n",
       "        vertical-align: top;\n",
       "    }\n",
       "\n",
       "    .dataframe thead th {\n",
       "        text-align: right;\n",
       "    }\n",
       "</style>\n",
       "<table border=\"1\" class=\"dataframe\">\n",
       "  <thead>\n",
       "    <tr style=\"text-align: right;\">\n",
       "      <th>event_group</th>\n",
       "      <th>event_group1</th>\n",
       "      <th>event_group2</th>\n",
       "      <th>event_group3</th>\n",
       "      <th>event_group4</th>\n",
       "      <th>event_group5</th>\n",
       "    </tr>\n",
       "    <tr>\n",
       "      <th>type</th>\n",
       "      <th></th>\n",
       "      <th></th>\n",
       "      <th></th>\n",
       "      <th></th>\n",
       "      <th></th>\n",
       "    </tr>\n",
       "  </thead>\n",
       "  <tbody>\n",
       "    <tr>\n",
       "      <th>Bot_app</th>\n",
       "      <td>val1</td>\n",
       "      <td>val3</td>\n",
       "      <td>val5</td>\n",
       "      <td>val7</td>\n",
       "      <td>NaN</td>\n",
       "    </tr>\n",
       "    <tr>\n",
       "      <th>Human</th>\n",
       "      <td>val2</td>\n",
       "      <td>val4</td>\n",
       "      <td>val6</td>\n",
       "      <td>NaN</td>\n",
       "      <td>val8</td>\n",
       "    </tr>\n",
       "  </tbody>\n",
       "</table>\n",
       "</div>"
      ],
      "text/plain": [
       "event_group event_group1 event_group2 event_group3 event_group4 event_group5\n",
       "type                                                                        \n",
       "Bot_app             val1         val3         val5         val7          NaN\n",
       "Human               val2         val4         val6          NaN         val8"
      ]
     },
     "execution_count": 62,
     "metadata": {},
     "output_type": "execute_result"
    }
   ],
   "source": [
    "# pivot the main DataFrame\n",
    "df_medians.pivot(index='type', columns='event_group', values='median')#.reset_index().rename_axis(None,axis=1)"
   ]
  },
  {
   "cell_type": "code",
   "execution_count": null,
   "id": "24478c26-f367-4589-85dc-3cfa22614f3e",
   "metadata": {},
   "outputs": [],
   "source": [
    "# YOUR CODE BELOW"
   ]
  },
  {
   "cell_type": "code",
   "execution_count": 61,
   "id": "ab7b9ff6-1286-4c5b-a604-5459b6d2b099",
   "metadata": {},
   "outputs": [
    {
     "data": {
      "image/png": "[encoded data removed]",
      "text/plain": [
       "<Figure size 640x480 with 2 Axes>"
      ]
     },
     "metadata": {},
     "output_type": "display_data"
    }
   ],
   "source": [
    "# YOUR CODE BELOW\n",
    "import matplotlib.pyplot as plt\n",
    "heatmap_data = df_real_medians.pivot(index='event_group', columns='type', values='median')\n",
    "sns.heatmap(heatmap_data, annot=True, vmin=0, vmax=300, cmap=\"crest\")\n",
    "plt.title('Heatmap of Medians by Event Group and Type')\n",
    "plt.xlabel('Type')\n",
    "plt.ylabel('Event Group')\n",
    "plt.show()"
   ]
  },
  {
   "cell_type": "markdown",
   "id": "19d518fd-10f0-4f91-a38e-595fe89f36a2",
   "metadata": {},
   "source": [
    "#### What is the difference that you observe between Bots+Apps and Humans?"
   ]
  },
  {
   "cell_type": "code",
   "execution_count": 57,
   "id": "df3a1600-7110-4866-9de3-42b85b407722",
   "metadata": {},
   "outputs": [],
   "source": [
    "# We can see that humans tend to create more events in general than bots as the medians are higher."
   ]
  },
  {
   "cell_type": "markdown",
   "id": "1bbc377f-79bb-4b52-9bba-fe7cc4a804ab",
   "metadata": {},
   "source": [
    "#### What is the differnce that you observe between Event groups?"
   ]
  },
  {
   "cell_type": "code",
   "execution_count": null,
   "id": "064cc1a2-c910-47a8-b327-deba02a815a1",
   "metadata": {},
   "outputs": [],
   "source": [
    "# We can see that the issue group has the smallest medians and the commit and pr groups have the highest medians.\n",
    "# This means that users and bots tend to create more pr and commits than issues."
   ]
  },
  {
   "cell_type": "markdown",
   "id": "5e941d75-0450-46f4-9345-d7f109ff9b92",
   "metadata": {},
   "source": [
    "#### What is the difference that you observe between Bots+Apps and Humans and Event groups all considering at the same time?"
   ]
  },
  {
   "cell_type": "code",
   "execution_count": null,
   "id": "7145cbf9-e9a6-4798-aa23-54428bc7f73b",
   "metadata": {},
   "outputs": [],
   "source": [
    "# We can see that humans have higher medians in all event groups and that bots are more specificly used in the repo_group \n",
    "# and not used at all in the issue group."
   ]
  },
  {
   "cell_type": "markdown",
   "id": "5c402f2c-2628-4957-ac76-e48bb85564cf",
   "metadata": {},
   "source": [
    "### Question 3"
   ]
  },
  {
   "cell_type": "markdown",
   "id": "b7fd623c-4bc5-4cef-9649-fb8cdd41e981",
   "metadata": {},
   "source": [
    "#### Create box plots or boxen plots or violin plots or a combination of these to visualise the distribution of number of events in each event group. \n",
    "#### For more information you can visit - https://seaborn.pydata.org/tutorial/categorical.html#categorical-tutorial  \n",
    "#### For violin plots - https://seaborn.pydata.org/generated/seaborn.violinplot.html  \n",
    "#### You should highlight the data points that correspond to bots using a stripplot in seaborn. https://seaborn.pydata.org/tutorial/categorical.html#categorical-tutorial  \n",
    "#### Interpret the results of the visualisation."
   ]
  },
  {
   "cell_type": "code",
   "execution_count": 65,
   "id": "21a499ac-e0c7-4b0d-9f90-78b704a13ef2",
   "metadata": {},
   "outputs": [
    {
     "data": {
      "image/png": "[encoded data removed]",
      "text/plain": [
       "<Figure size 1200x600 with 2 Axes>"
      ]
     },
     "metadata": {},
     "output_type": "display_data"
    }
   ],
   "source": [
    "# YOUR CODE BELOW - Visualize number of events from pull request event group\n",
    "import matplotlib.pyplot as plt\n",
    "\n",
    "pull_request_df = df_real_medians[df_real_medians['event_group'] == 'pr_group']\n",
    "\n",
    "fig, axes = plt.subplots(nrows=1, ncols=2, figsize=(12, 6))\n",
    "\n",
    "sns.boxplot(x='type', y='median', data=pull_request_df, ax=axes[0])\n",
    "axes[0].set_title('Box Plot of Medians for Pull Request Event Group')\n",
    "\n",
    "sns.violinplot(x='type', y='median', data=pull_request_df, ax=axes[1])\n",
    "axes[1].set_title('Violin Plot of Medians for Pull Request Event Group')\n",
    "plt.tight_layout()\n",
    "plt.show()\n",
    "\n"
   ]
  },
  {
   "cell_type": "code",
   "execution_count": 66,
   "id": "330c9d73-28a9-4d83-9728-cf595374235b",
   "metadata": {},
   "outputs": [
    {
     "data": {
      "image/png": "[encoded data removed]",
      "text/plain": [
       "<Figure size 1200x600 with 2 Axes>"
      ]
     },
     "metadata": {},
     "output_type": "display_data"
    }
   ],
   "source": [
    "# YOUR CODE BELOW - Visualise number of events from issue event group\n",
    "import matplotlib.pyplot as plt\n",
    "\n",
    "pull_request_df = df_real_medians[df_real_medians['event_group'] == 'issue_group']\n",
    "\n",
    "fig, axes = plt.subplots(nrows=1, ncols=2, figsize=(12, 6))\n",
    "\n",
    "sns.boxplot(x='type', y='median', data=pull_request_df, ax=axes[0])\n",
    "axes[0].set_title('Box Plot of Medians for Issue Event Group')\n",
    "\n",
    "sns.violinplot(x='type', y='median', data=pull_request_df, ax=axes[1])\n",
    "axes[1].set_title('Violin Plot of Medians for Issue Event Group')\n",
    "plt.tight_layout()\n",
    "plt.show()"
   ]
  },
  {
   "cell_type": "code",
   "execution_count": 67,
   "id": "a7ec1644-8c4d-4bd8-b504-3196ddab982e",
   "metadata": {},
   "outputs": [
    {
     "data": {
      "image/png": "[encoded data removed]",
      "text/plain": [
       "<Figure size 1200x600 with 2 Axes>"
      ]
     },
     "metadata": {},
     "output_type": "display_data"
    }
   ],
   "source": [
    "# YOUR CODE BELOW - Visualise number of events from commit event group\n",
    "import matplotlib.pyplot as plt\n",
    "\n",
    "pull_request_df = df_real_medians[df_real_medians['event_group'] == 'commit_group']\n",
    "\n",
    "fig, axes = plt.subplots(nrows=1, ncols=2, figsize=(12, 6))\n",
    "\n",
    "sns.boxplot(x='type', y='median', data=pull_request_df, ax=axes[0])\n",
    "axes[0].set_title('Box Plot of Medians for Commit Event Group')\n",
    "\n",
    "sns.violinplot(x='type', y='median', data=pull_request_df, ax=axes[1])\n",
    "axes[1].set_title('Violin Plot of Medians for Commit Event Group')\n",
    "plt.tight_layout()\n",
    "plt.show()"
   ]
  },
  {
   "cell_type": "code",
   "execution_count": 68,
   "id": "d1c2536a-0f6c-4f2e-a8a5-b07e8abf5217",
   "metadata": {},
   "outputs": [
    {
     "data": {
      "image/png": "[encoded data removed]",
      "text/plain": [
       "<Figure size 1200x600 with 2 Axes>"
      ]
     },
     "metadata": {},
     "output_type": "display_data"
    }
   ],
   "source": [
    "# YOUR CODE BELOW - Visualise number of events from repo event group\n",
    "import matplotlib.pyplot as plt\n",
    "\n",
    "pull_request_df = df_real_medians[df_real_medians['event_group'] == 'repo_group']\n",
    "\n",
    "fig, axes = plt.subplots(nrows=1, ncols=2, figsize=(12, 6))\n",
    "\n",
    "sns.boxplot(x='type', y='median', data=pull_request_df, ax=axes[0])\n",
    "axes[0].set_title('Box Plot of Medians for Repository Event Group')\n",
    "\n",
    "sns.violinplot(x='type', y='median', data=pull_request_df, ax=axes[1])\n",
    "axes[1].set_title('Violin Plot of Medians for Repository Event Group')\n",
    "plt.tight_layout()\n",
    "plt.show()"
   ]
  },
  {
   "cell_type": "markdown",
   "id": "a663a24f-ebbd-4707-a8e2-c4a72a9451a7",
   "metadata": {},
   "source": [
    "### Question 4.1"
   ]
  },
  {
   "cell_type": "markdown",
   "id": "ea2541bc-5f3a-4ce3-bfb1-21e16104b4c5",
   "metadata": {},
   "source": [
    "#### Statistical identify whether number of events in each event group is normally distributed or not.\n",
    "#### Null hypothesis - $H_0$: Sample comes from the data that has normal distribution.\n",
    "#### Use Shapiro-Wilk test for this purpose. Use the p-value with a threshold of 0.05 to determine whether $H_0$ can be rejected with statistical significance or not. \n",
    "\n",
    "#### Use shapiro from scipy.stats to perform this test (https://docs.scipy.org/doc/scipy/reference/generated/scipy.stats.shapiro.html)"
   ]
  },
  {
   "cell_type": "code",
   "execution_count": null,
   "id": "d4273e9c-f29f-4b46-ab75-3ceb16a2aae6",
   "metadata": {},
   "outputs": [],
   "source": [
    "# YOUR CODE BELOW"
   ]
  },
  {
   "cell_type": "code",
   "execution_count": null,
   "id": "03c8617f-a3ed-40ad-8b2f-7ff0a41c3518",
   "metadata": {},
   "outputs": [],
   "source": []
  },
  {
   "cell_type": "markdown",
   "id": "e7ed78ce-6901-4ddb-a219-d5a8c4e26886",
   "metadata": {},
   "source": [
    "### Question 4.2\n",
    "#### Determine if there is any statistical diﬀerence in number of events between the identified event groups. Perform this test on all pairs of event groups. \n",
    "#### Null hypothesis - $H_0$: Any two event group come from the same population.\n",
    "#### If $H_0$ is rejected in Shapiro-Wilk test (at least for one of the two event groups considered for test), use the Mann-Whitney U statistical test for this purpose. If $H_0$ is not rejected in Shapiro-Wilk test, use the independent t-test for this purpose.  \n",
    "#### In any case, use the p-value with a threshold of 0.01 to determine whether $H_0$ can be rejected with statistical significance. \n",
    "\n",
    "#### Use mannwhitneyu from scipy.stats to perform Mann-Whitney U test (https://docs.scipy.org/doc/scipy/reference/generated/scipy.stats.mannwhitneyu.html) \n",
    "#### or \n",
    "#### ttest_ind from scipy.stats to perform independent t-test https://docs.scipy.org/doc/scipy/reference/generated/scipy.stats.ttest_ind.html."
   ]
  },
  {
   "cell_type": "markdown",
   "id": "3d3fe255-f6a8-4c49-92aa-1859c98d51c1",
   "metadata": {},
   "source": [
    "#### More information:\n",
    "\n",
    "You can pass the following arguments to mannwhitneyu from scipy.stats - (method='exact', nan_policy='omit'). For ttest_ind you can use - (nan_policy='omit')"
   ]
  },
  {
   "cell_type": "code",
   "execution_count": null,
   "id": "7e7c952f-15a8-4634-b786-90ff1e8f20da",
   "metadata": {},
   "outputs": [],
   "source": [
    "# YOUR CODE BELOW"
   ]
  },
  {
   "cell_type": "markdown",
   "id": "f443dbbc-a8f1-4281-aadb-8ec8f9c792da",
   "metadata": {},
   "source": [
    "### Question 5\n",
    "#### Each time you reject the null hypothesis $H_0$, quantify the effect size of the diﬀerence between the groups using cliﬀ’s delta ($\\delta$). \n",
    "#### To calculate cliﬀ’s delta, you can pass the list of values to cliﬀ delta.py file given in the repository. E.g., cliffsDelta.cliffsDelta(list of values). This will return the effect size and its interpretation (negligible, small, medium, large)."
   ]
  },
  {
   "cell_type": "code",
   "execution_count": null,
   "id": "c19a6054-933f-425b-971e-d54a429c901d",
   "metadata": {},
   "outputs": [],
   "source": [
    "# YOU CODE BELOW"
   ]
  },
  {
   "cell_type": "markdown",
   "id": "3cd1e637-c222-4497-b8b6-a61252349bdc",
   "metadata": {},
   "source": [
    "### Qusetion 6"
   ]
  },
  {
   "cell_type": "markdown",
   "id": "d0056ddd-2f2e-49a8-9bda-c4117be7fda7",
   "metadata": {},
   "source": [
    "#### Create violinplots to visualise the distributions for the following metrics and answer the questions that follow it. You should highlight the data points corresponding to bots using a stripplot in seaborn.\n",
    "\n",
    "#### Hint:\n",
    "\n",
    "1. Merge you DataFrame of event with the type of contributor that you identified in section 3.\n",
    "2. Write a function that you will use for all the seaborn plots. This way you can reduce duplication and update it easily."
   ]
  },
  {
   "cell_type": "code",
   "execution_count": null,
   "id": "c7d168b2-50d9-41a8-84ca-3f40fddaaf39",
   "metadata": {},
   "outputs": [],
   "source": [
    "# YOUR CODE BELOW - function for seaborn plot\n"
   ]
  },
  {
   "cell_type": "markdown",
   "id": "04f0e866-0588-40b4-8834-a5722e55d7f2",
   "metadata": {},
   "source": [
    "#### Total number of events"
   ]
  },
  {
   "cell_type": "code",
   "execution_count": null,
   "id": "51e9fca8-4f73-428b-b5ef-d7d7f80a4820",
   "metadata": {},
   "outputs": [],
   "source": [
    "# YOUR CODE BELOW"
   ]
  },
  {
   "cell_type": "markdown",
   "id": "06b79e67-83b8-4f1a-9436-b462e786e7bd",
   "metadata": {},
   "source": [
    "#### Number of event types"
   ]
  },
  {
   "cell_type": "code",
   "execution_count": null,
   "id": "1f485dcb-900c-4cbb-bb77-06702156d738",
   "metadata": {},
   "outputs": [],
   "source": [
    "# YOUR CODE BELOW"
   ]
  },
  {
   "cell_type": "markdown",
   "id": "e12f1d24-58c4-4da2-a258-64b3f0890aba",
   "metadata": {},
   "source": [
    "#### Mean number of events per event type"
   ]
  },
  {
   "cell_type": "code",
   "execution_count": null,
   "id": "46259ecf-ed64-40b8-b43a-0bf3a2a74444",
   "metadata": {},
   "outputs": [],
   "source": [
    "# YOUR CODE BELOW"
   ]
  },
  {
   "cell_type": "markdown",
   "id": "27470611-0758-4007-809b-61406d11e168",
   "metadata": {},
   "source": [
    "#### Mean number of events per event group"
   ]
  },
  {
   "cell_type": "code",
   "execution_count": null,
   "id": "62068e1f-24de-481b-a3e2-18ae1f246c00",
   "metadata": {},
   "outputs": [],
   "source": [
    "# YOUR CODE BELOW"
   ]
  },
  {
   "cell_type": "markdown",
   "id": "19f6a36a-5db2-4476-86da-8d08038846cb",
   "metadata": {},
   "source": [
    "#### Gini coeﬃcient of time between consecutive event"
   ]
  },
  {
   "cell_type": "code",
   "execution_count": null,
   "id": "7632b026-bf64-4757-b96b-9d6938592fed",
   "metadata": {},
   "outputs": [],
   "source": [
    "def time_diffs(time_stamps):\n",
    "    diff_time_stamps = np.array([])\n",
    "    for i in range(len(time_stamps)-1):\n",
    "        diff = (time_stamps.iloc[i+1] - time_stamps.iloc[i])/pd.to_timedelta('1 second')\n",
    "        diff_time_stamps = np.append(diff_time_stamps, [diff])\n",
    "    return(diff_time_stamps)"
   ]
  },
  {
   "cell_type": "code",
   "execution_count": null,
   "id": "44b4da8d-74aa-4852-b810-b947396eb9c2",
   "metadata": {},
   "outputs": [],
   "source": [
    "def gini(time_stamps):\n",
    "    '''\n",
    "    args: time_stamps - Series of time stamps for a contributor\n",
    "    \n",
    "    return: g_coeff - float that gives gini coefficient\n",
    "    \n",
    "    method: calculate the Gini coefficient of a numpy array\n",
    "    '''\n",
    "    array = time_diffs(time_stamps)\n",
    "    array = array[array!=0]\n",
    "    if len(array) == 0:\n",
    "        return np.float64(0.0)\n",
    "    array = array.flatten()\n",
    "    array = np.sort(array)\n",
    "    index = np.arange(1, array.shape[0] + 1)\n",
    "    n = array.shape[0]\n",
    "    g_coeff = (np.sum((2 * index - n - 1) * array)) / (n * np.sum(array))\n",
    "    \n",
    "    return (g_coeff.round(4))"
   ]
  },
  {
   "cell_type": "markdown",
   "id": "4d438245-7514-441c-82f3-879e40654c40",
   "metadata": {},
   "source": [
    "You can pass a Series of time-stamps to gini(time_stamps) function to get the Gini coeﬃcient\n",
    "#### Hint:\n",
    "1. Groupby the contributors on 'contributor' and use gini as .agg function on 'created_at'.\n",
    "2. Merge the resultant DataFram with their type (the df that you got in section 4)\n",
    "3. Make box/boxen/violin plots on those gini values"
   ]
  },
  {
   "cell_type": "code",
   "execution_count": null,
   "id": "fd745a1f-abe2-4538-8af6-e6004991cd2e",
   "metadata": {},
   "outputs": [],
   "source": [
    "# YOUR CODE BELOW\n"
   ]
  },
  {
   "cell_type": "code",
   "execution_count": null,
   "id": "90504834-e64e-4c1f-b102-733bacae2934",
   "metadata": {},
   "outputs": [],
   "source": [
    "# YOUR CODE BELOW\n"
   ]
  },
  {
   "cell_type": "markdown",
   "id": "e49d9ca9-e5db-4a9d-8c0e-91a9203b546d",
   "metadata": {},
   "source": [
    "### Question 6.1"
   ]
  },
  {
   "cell_type": "markdown",
   "id": "64d6beec-e66b-4c4f-b75a-2fc5a20e9cf1",
   "metadata": {},
   "source": [
    "#### Do you ﬁnd any set of accounts having a diverging behaviour? (Hint: look for outliers.)"
   ]
  },
  {
   "cell_type": "code",
   "execution_count": null,
   "id": "4ae0da5d-52f3-4dc3-8051-8955a31b6de6",
   "metadata": {},
   "outputs": [],
   "source": []
  },
  {
   "cell_type": "markdown",
   "id": "163bc987-51d9-4d18-9120-a38267219d26",
   "metadata": {},
   "source": [
    "### Question 6.2"
   ]
  },
  {
   "cell_type": "markdown",
   "id": "9521d008-1576-4212-98f9-e0740278f106",
   "metadata": {},
   "source": [
    "#### What is the type of the accounts that have diverging behaviour?"
   ]
  },
  {
   "cell_type": "code",
   "execution_count": null,
   "id": "b4a4f4e7-f497-43b2-b889-c8431f9c3f54",
   "metadata": {},
   "outputs": [],
   "source": []
  },
  {
   "cell_type": "markdown",
   "id": "2f0886b1-158f-4e59-83f0-1f8753605fb5",
   "metadata": {},
   "source": [
    "### Question 6.3"
   ]
  },
  {
   "cell_type": "markdown",
   "id": "92a22e22-5b3f-4637-b3c3-d0992b3b0219",
   "metadata": {},
   "source": [
    "#### Do bots have different behaviour than apps? Motivate your answer"
   ]
  },
  {
   "cell_type": "code",
   "execution_count": null,
   "id": "6807c449-d489-46a8-8749-3602685f8351",
   "metadata": {},
   "outputs": [],
   "source": []
  },
  {
   "cell_type": "markdown",
   "id": "b3ad5bea-d77e-45bb-9aff-014845fd648f",
   "metadata": {},
   "source": [
    "### Question 6.4"
   ]
  },
  {
   "cell_type": "markdown",
   "id": "eca85aad-3c25-405b-bcc2-35abf4b3641b",
   "metadata": {},
   "source": [
    "#### Do bots and apps have a diﬀerent behaviour from human accounts? (Hint: in the box plots ﬁnd where the bots and apps are located and find where the humans are located)"
   ]
  },
  {
   "cell_type": "code",
   "execution_count": null,
   "id": "6f4f524e-4651-40fd-8ad1-fb7c82f55126",
   "metadata": {},
   "outputs": [],
   "source": []
  },
  {
   "cell_type": "markdown",
   "id": "a02b6b1b-bdc4-4e2d-8ec8-12fc89737c92",
   "metadata": {},
   "source": [
    "### Question 6.5"
   ]
  },
  {
   "cell_type": "markdown",
   "id": "a15bc77c-e7b7-403b-8974-84f86caa3d77",
   "metadata": {},
   "source": [
    "#### Do all bots (other than outliers) have the same behaviour? List the bots that have a diﬀerent behaviour. Mention your interpretation on the cause of this diverging behaviour compared to other bots?"
   ]
  },
  {
   "cell_type": "code",
   "execution_count": null,
   "id": "1cc51551-8155-4a24-a80b-22ac56b78c33",
   "metadata": {},
   "outputs": [],
   "source": []
  },
  {
   "cell_type": "code",
   "execution_count": null,
   "id": "476c050c-dffa-469c-94f3-568b8c74712e",
   "metadata": {},
   "outputs": [],
   "source": []
  }
 ],
 "metadata": {
  "kernelspec": {
   "display_name": "Python 3 (ipykernel)",
   "language": "python",
   "name": "python3"
  },
  "language_info": {
   "codemirror_mode": {
    "name": "ipython",
    "version": 3
   },
   "file_extension": ".py",
   "mimetype": "text/x-python",
   "name": "python",
   "nbconvert_exporter": "python",
   "pygments_lexer": "ipython3",
   "version": "3.12.0"
  }
 },
 "nbformat": 4,
 "nbformat_minor": 5
}
